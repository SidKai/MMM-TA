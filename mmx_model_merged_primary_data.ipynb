{
 "cells": [
  {
   "cell_type": "code",
   "execution_count": null,
   "id": "a015873b",
   "metadata": {},
   "outputs": [],
   "source": []
  },
  {
   "cell_type": "markdown",
   "id": "ab08d400",
   "metadata": {},
   "source": [
    "# Tv data"
   ]
  },
  {
   "cell_type": "code",
   "execution_count": 1,
   "id": "12aed3d2",
   "metadata": {},
   "outputs": [
    {
     "data": {
      "text/html": [
       "<table>\n",
       "<thead><tr><th scope=col>Genre</th><th scope=col>Type</th><th scope=col>Week_number</th><th scope=col>Month</th><th scope=col>Date</th><th scope=col>Year</th><th scope=col>Brand</th><th scope=col>Start_Time</th><th scope=col>Length</th><th scope=col>GRP</th><th scope=col>Spends</th><th scope=col>Month_num</th></tr></thead>\n",
       "<tbody>\n",
       "\t<tr><td>GENERAL ENTERTAINMENT</td><td>promotion            </td><td>35                   </td><td>Aug                  </td><td>24-Aug               </td><td>2020                 </td><td>B1                   </td><td>20:58:08             </td><td>15                   </td><td>6                    </td><td> 879.5024            </td><td>8                    </td></tr>\n",
       "\t<tr><td>GENERAL ENTERTAINMENT</td><td>promotion            </td><td>36                   </td><td>Aug                  </td><td>31-Aug               </td><td>2020                 </td><td>B1                   </td><td>20:57:48             </td><td>15                   </td><td>6                    </td><td> 879.5024            </td><td>8                    </td></tr>\n",
       "\t<tr><td>GENERAL ENTERTAINMENT</td><td>promotion            </td><td>36                   </td><td>Aug                  </td><td>31-Aug               </td><td>2020                 </td><td>B1                   </td><td>21:21:22             </td><td>15                   </td><td>6                    </td><td> 879.5024            </td><td>8                    </td></tr>\n",
       "\t<tr><td>GENERAL ENTERTAINMENT</td><td>promotion            </td><td>36                   </td><td>Aug                  </td><td>31-Aug               </td><td>2020                 </td><td>B1                   </td><td>21:37:21             </td><td>15                   </td><td>6                    </td><td> 879.5024            </td><td>8                    </td></tr>\n",
       "\t<tr><td>GENERAL ENTERTAINMENT</td><td>promotion            </td><td>36                   </td><td>Aug                  </td><td>31-Aug               </td><td>2020                 </td><td>B1                   </td><td>21:51:09             </td><td>15                   </td><td>6                    </td><td> 879.5024            </td><td>8                    </td></tr>\n",
       "\t<tr><td>GENERAL ENTERTAINMENT</td><td>promotion            </td><td>36                   </td><td>Sep                  </td><td>1-Sep                </td><td>2020                 </td><td>B1                   </td><td>20:00:18             </td><td>15                   </td><td>6                    </td><td>1099.3133            </td><td>9                    </td></tr>\n",
       "</tbody>\n",
       "</table>\n"
      ],
      "text/latex": [
       "\\begin{tabular}{r|llllllllllll}\n",
       " Genre & Type & Week\\_number & Month & Date & Year & Brand & Start\\_Time & Length & GRP & Spends & Month\\_num\\\\\n",
       "\\hline\n",
       "\t GENERAL ENTERTAINMENT & promotion             & 35                    & Aug                   & 24-Aug                & 2020                  & B1                    & 20:58:08              & 15                    & 6                     &  879.5024             & 8                    \\\\\n",
       "\t GENERAL ENTERTAINMENT & promotion             & 36                    & Aug                   & 31-Aug                & 2020                  & B1                    & 20:57:48              & 15                    & 6                     &  879.5024             & 8                    \\\\\n",
       "\t GENERAL ENTERTAINMENT & promotion             & 36                    & Aug                   & 31-Aug                & 2020                  & B1                    & 21:21:22              & 15                    & 6                     &  879.5024             & 8                    \\\\\n",
       "\t GENERAL ENTERTAINMENT & promotion             & 36                    & Aug                   & 31-Aug                & 2020                  & B1                    & 21:37:21              & 15                    & 6                     &  879.5024             & 8                    \\\\\n",
       "\t GENERAL ENTERTAINMENT & promotion             & 36                    & Aug                   & 31-Aug                & 2020                  & B1                    & 21:51:09              & 15                    & 6                     &  879.5024             & 8                    \\\\\n",
       "\t GENERAL ENTERTAINMENT & promotion             & 36                    & Sep                   & 1-Sep                 & 2020                  & B1                    & 20:00:18              & 15                    & 6                     & 1099.3133             & 9                    \\\\\n",
       "\\end{tabular}\n"
      ],
      "text/markdown": [
       "\n",
       "| Genre | Type | Week_number | Month | Date | Year | Brand | Start_Time | Length | GRP | Spends | Month_num |\n",
       "|---|---|---|---|---|---|---|---|---|---|---|---|\n",
       "| GENERAL ENTERTAINMENT | promotion             | 35                    | Aug                   | 24-Aug                | 2020                  | B1                    | 20:58:08              | 15                    | 6                     |  879.5024             | 8                     |\n",
       "| GENERAL ENTERTAINMENT | promotion             | 36                    | Aug                   | 31-Aug                | 2020                  | B1                    | 20:57:48              | 15                    | 6                     |  879.5024             | 8                     |\n",
       "| GENERAL ENTERTAINMENT | promotion             | 36                    | Aug                   | 31-Aug                | 2020                  | B1                    | 21:21:22              | 15                    | 6                     |  879.5024             | 8                     |\n",
       "| GENERAL ENTERTAINMENT | promotion             | 36                    | Aug                   | 31-Aug                | 2020                  | B1                    | 21:37:21              | 15                    | 6                     |  879.5024             | 8                     |\n",
       "| GENERAL ENTERTAINMENT | promotion             | 36                    | Aug                   | 31-Aug                | 2020                  | B1                    | 21:51:09              | 15                    | 6                     |  879.5024             | 8                     |\n",
       "| GENERAL ENTERTAINMENT | promotion             | 36                    | Sep                   | 1-Sep                 | 2020                  | B1                    | 20:00:18              | 15                    | 6                     | 1099.3133             | 9                     |\n",
       "\n"
      ],
      "text/plain": [
       "  Genre                 Type      Week_number Month Date   Year Brand\n",
       "1 GENERAL ENTERTAINMENT promotion 35          Aug   24-Aug 2020 B1   \n",
       "2 GENERAL ENTERTAINMENT promotion 36          Aug   31-Aug 2020 B1   \n",
       "3 GENERAL ENTERTAINMENT promotion 36          Aug   31-Aug 2020 B1   \n",
       "4 GENERAL ENTERTAINMENT promotion 36          Aug   31-Aug 2020 B1   \n",
       "5 GENERAL ENTERTAINMENT promotion 36          Aug   31-Aug 2020 B1   \n",
       "6 GENERAL ENTERTAINMENT promotion 36          Sep   1-Sep  2020 B1   \n",
       "  Start_Time Length GRP Spends    Month_num\n",
       "1 20:58:08   15     6    879.5024 8        \n",
       "2 20:57:48   15     6    879.5024 8        \n",
       "3 21:21:22   15     6    879.5024 8        \n",
       "4 21:37:21   15     6    879.5024 8        \n",
       "5 21:51:09   15     6    879.5024 8        \n",
       "6 20:00:18   15     6   1099.3133 9        "
      ]
     },
     "metadata": {},
     "output_type": "display_data"
    }
   ],
   "source": [
    "library(readxl)\n",
    "\n",
    "media_tv <- read_excel(\"Media_Data.xlsx\", sheet=3)\n",
    "head(media_tv)"
   ]
  },
  {
   "cell_type": "code",
   "execution_count": 2,
   "id": "bed7f6be",
   "metadata": {},
   "outputs": [
    {
     "data": {
      "text/html": [
       "<ol class=list-inline>\n",
       "\t<li>'promotion'</li>\n",
       "\t<li>'regular'</li>\n",
       "\t<li>'Regular'</li>\n",
       "\t<li>'Sponsorship'</li>\n",
       "\t<li>'Promotion'</li>\n",
       "</ol>\n"
      ],
      "text/latex": [
       "\\begin{enumerate*}\n",
       "\\item 'promotion'\n",
       "\\item 'regular'\n",
       "\\item 'Regular'\n",
       "\\item 'Sponsorship'\n",
       "\\item 'Promotion'\n",
       "\\end{enumerate*}\n"
      ],
      "text/markdown": [
       "1. 'promotion'\n",
       "2. 'regular'\n",
       "3. 'Regular'\n",
       "4. 'Sponsorship'\n",
       "5. 'Promotion'\n",
       "\n",
       "\n"
      ],
      "text/plain": [
       "[1] \"promotion\"   \"regular\"     \"Regular\"     \"Sponsorship\" \"Promotion\"  "
      ]
     },
     "metadata": {},
     "output_type": "display_data"
    }
   ],
   "source": [
    "unique(media_tv$Type)"
   ]
  },
  {
   "cell_type": "code",
   "execution_count": 3,
   "id": "c4218099",
   "metadata": {},
   "outputs": [
    {
     "data": {
      "text/html": [
       "<dl class=dl-horizontal>\n",
       "\t<dt>Genre</dt>\n",
       "\t\t<dd>0</dd>\n",
       "\t<dt>Type</dt>\n",
       "\t\t<dd>0</dd>\n",
       "\t<dt>Week_number</dt>\n",
       "\t\t<dd>0</dd>\n",
       "\t<dt>Month</dt>\n",
       "\t\t<dd>6278</dd>\n",
       "\t<dt>Date</dt>\n",
       "\t\t<dd>0</dd>\n",
       "\t<dt>Year</dt>\n",
       "\t\t<dd>0</dd>\n",
       "\t<dt>Brand</dt>\n",
       "\t\t<dd>0</dd>\n",
       "\t<dt>Start_Time</dt>\n",
       "\t\t<dd>0</dd>\n",
       "\t<dt>Length</dt>\n",
       "\t\t<dd>0</dd>\n",
       "\t<dt>GRP</dt>\n",
       "\t\t<dd>0</dd>\n",
       "\t<dt>Spends</dt>\n",
       "\t\t<dd>0</dd>\n",
       "\t<dt>Month_num</dt>\n",
       "\t\t<dd>0</dd>\n",
       "</dl>\n"
      ],
      "text/latex": [
       "\\begin{description*}\n",
       "\\item[Genre] 0\n",
       "\\item[Type] 0\n",
       "\\item[Week\\textbackslash{}\\_number] 0\n",
       "\\item[Month] 6278\n",
       "\\item[Date] 0\n",
       "\\item[Year] 0\n",
       "\\item[Brand] 0\n",
       "\\item[Start\\textbackslash{}\\_Time] 0\n",
       "\\item[Length] 0\n",
       "\\item[GRP] 0\n",
       "\\item[Spends] 0\n",
       "\\item[Month\\textbackslash{}\\_num] 0\n",
       "\\end{description*}\n"
      ],
      "text/markdown": [
       "Genre\n",
       ":   0Type\n",
       ":   0Week_number\n",
       ":   0Month\n",
       ":   6278Date\n",
       ":   0Year\n",
       ":   0Brand\n",
       ":   0Start_Time\n",
       ":   0Length\n",
       ":   0GRP\n",
       ":   0Spends\n",
       ":   0Month_num\n",
       ":   0\n",
       "\n"
      ],
      "text/plain": [
       "      Genre        Type Week_number       Month        Date        Year \n",
       "          0           0           0        6278           0           0 \n",
       "      Brand  Start_Time      Length         GRP      Spends   Month_num \n",
       "          0           0           0           0           0           0 "
      ]
     },
     "metadata": {},
     "output_type": "display_data"
    }
   ],
   "source": [
    "colSums(is.na(media_tv))"
   ]
  },
  {
   "cell_type": "code",
   "execution_count": null,
   "id": "7b0dcf64",
   "metadata": {},
   "outputs": [],
   "source": []
  },
  {
   "cell_type": "code",
   "execution_count": 4,
   "id": "101a6677",
   "metadata": {},
   "outputs": [
    {
     "name": "stderr",
     "output_type": "stream",
     "text": [
      "\n",
      "Attaching package: 'dplyr'\n",
      "\n",
      "The following objects are masked from 'package:stats':\n",
      "\n",
      "    filter, lag\n",
      "\n",
      "The following objects are masked from 'package:base':\n",
      "\n",
      "    intersect, setdiff, setequal, union\n",
      "\n"
     ]
    },
    {
     "data": {
      "text/html": [
       "<table>\n",
       "<thead><tr><th scope=col>Year</th><th scope=col>Month_num</th><th scope=col>spends</th><th scope=col>GRP</th></tr></thead>\n",
       "<tbody>\n",
       "\t<tr><td>2018     </td><td>1        </td><td> 509158.7</td><td>1507.403 </td></tr>\n",
       "\t<tr><td>2018     </td><td>2        </td><td> 167309.6</td><td>1011.356 </td></tr>\n",
       "\t<tr><td>2018     </td><td>3        </td><td>1015164.0</td><td>3160.615 </td></tr>\n",
       "\t<tr><td>2018     </td><td>4        </td><td>1289588.0</td><td>3575.840 </td></tr>\n",
       "\t<tr><td>2018     </td><td>5        </td><td> 577394.8</td><td>1508.846 </td></tr>\n",
       "\t<tr><td>2018     </td><td>6        </td><td>2379346.6</td><td>2491.533 </td></tr>\n",
       "</tbody>\n",
       "</table>\n"
      ],
      "text/latex": [
       "\\begin{tabular}{r|llll}\n",
       " Year & Month\\_num & spends & GRP\\\\\n",
       "\\hline\n",
       "\t 2018      & 1         &  509158.7 & 1507.403 \\\\\n",
       "\t 2018      & 2         &  167309.6 & 1011.356 \\\\\n",
       "\t 2018      & 3         & 1015164.0 & 3160.615 \\\\\n",
       "\t 2018      & 4         & 1289588.0 & 3575.840 \\\\\n",
       "\t 2018      & 5         &  577394.8 & 1508.846 \\\\\n",
       "\t 2018      & 6         & 2379346.6 & 2491.533 \\\\\n",
       "\\end{tabular}\n"
      ],
      "text/markdown": [
       "\n",
       "| Year | Month_num | spends | GRP |\n",
       "|---|---|---|---|\n",
       "| 2018      | 1         |  509158.7 | 1507.403  |\n",
       "| 2018      | 2         |  167309.6 | 1011.356  |\n",
       "| 2018      | 3         | 1015164.0 | 3160.615  |\n",
       "| 2018      | 4         | 1289588.0 | 3575.840  |\n",
       "| 2018      | 5         |  577394.8 | 1508.846  |\n",
       "| 2018      | 6         | 2379346.6 | 2491.533  |\n",
       "\n"
      ],
      "text/plain": [
       "  Year Month_num spends    GRP     \n",
       "1 2018 1          509158.7 1507.403\n",
       "2 2018 2          167309.6 1011.356\n",
       "3 2018 3         1015164.0 3160.615\n",
       "4 2018 4         1289588.0 3575.840\n",
       "5 2018 5          577394.8 1508.846\n",
       "6 2018 6         2379346.6 2491.533"
      ]
     },
     "metadata": {},
     "output_type": "display_data"
    }
   ],
   "source": [
    "library(dplyr)\n",
    "a <- media_tv %>%\n",
    "  group_by(Year, Month_num) %>%\n",
    "  summarise(spends = sum(Spends, na.rm=TRUE), GRP = sum(GRP, na.rm=TRUE))\n",
    "\n",
    "\n",
    "head(a)"
   ]
  },
  {
   "cell_type": "code",
   "execution_count": 5,
   "id": "1774842c",
   "metadata": {},
   "outputs": [
    {
     "data": {
      "text/html": [
       "<ol class=list-inline>\n",
       "\t<li>23</li>\n",
       "\t<li>4</li>\n",
       "</ol>\n"
      ],
      "text/latex": [
       "\\begin{enumerate*}\n",
       "\\item 23\n",
       "\\item 4\n",
       "\\end{enumerate*}\n"
      ],
      "text/markdown": [
       "1. 23\n",
       "2. 4\n",
       "\n",
       "\n"
      ],
      "text/plain": [
       "[1] 23  4"
      ]
     },
     "metadata": {},
     "output_type": "display_data"
    }
   ],
   "source": [
    "dim(a)"
   ]
  },
  {
   "cell_type": "code",
   "execution_count": 6,
   "id": "dfabe66e",
   "metadata": {},
   "outputs": [],
   "source": [
    "names(a)[names(a) == 'Month_num'] <- 'Month'\n",
    "\n",
    "names(a)[names(a) == 'spends'] <- 'tv_spends'"
   ]
  },
  {
   "cell_type": "code",
   "execution_count": null,
   "id": "3c388b05",
   "metadata": {},
   "outputs": [],
   "source": []
  },
  {
   "cell_type": "markdown",
   "id": "af54a68d",
   "metadata": {},
   "source": [
    "# Digital Media Data"
   ]
  },
  {
   "cell_type": "code",
   "execution_count": 7,
   "id": "5d6d1951",
   "metadata": {},
   "outputs": [
    {
     "data": {
      "text/html": [
       "<table>\n",
       "<thead><tr><th scope=col>Date</th><th scope=col>Month</th><th scope=col>Year</th><th scope=col>Week</th><th scope=col>Edit_size</th><th scope=col>Type</th><th scope=col>Platform</th><th scope=col>Brand</th><th scope=col>Impressions</th><th scope=col>Views</th><th scope=col>Completed_Views</th><th scope=col>Engagement</th><th scope=col>Spends</th><th scope=col>Clicks</th><th scope=col>Campaign_Objective</th></tr></thead>\n",
       "<tbody>\n",
       "\t<tr><td>2018-02-17    </td><td>2             </td><td>2018          </td><td> 7            </td><td>10s           </td><td>Top Snap Only </td><td>SnapChat      </td><td>B1            </td><td>2157384       </td><td>474414        </td><td>102222        </td><td>     0        </td><td> 2808.57      </td><td>0             </td><td>Promotion     </td></tr>\n",
       "\t<tr><td>2018-03-02    </td><td>3             </td><td>2018          </td><td> 9            </td><td>15            </td><td>Video         </td><td>facebook      </td><td>B1            </td><td> 354447       </td><td>136986        </td><td> 19992        </td><td>137433        </td><td>  260.13      </td><td>0             </td><td>Promotion     </td></tr>\n",
       "\t<tr><td>2018-03-02    </td><td>3             </td><td>2018          </td><td> 9            </td><td>15            </td><td>Video         </td><td>instagram     </td><td>B1            </td><td> 104661       </td><td> 26463        </td><td>  4245        </td><td> 26787        </td><td>   54.96      </td><td>0             </td><td>Promotion     </td></tr>\n",
       "\t<tr><td>2018-03-04    </td><td>3             </td><td>2018          </td><td>10            </td><td>15.7          </td><td>Video         </td><td>shahid.mbc.net</td><td>B1            </td><td> 243624       </td><td>243465        </td><td>229281        </td><td>  1752        </td><td>14252.00      </td><td>0             </td><td>Promotion     </td></tr>\n",
       "\t<tr><td>2018-03-04    </td><td>3             </td><td>2018          </td><td>10            </td><td>15.7          </td><td>Video         </td><td>shahid.mbc.net</td><td>B1            </td><td> 239280       </td><td>239097        </td><td>226212        </td><td>  1596        </td><td>13997.88      </td><td>0             </td><td>Promotion     </td></tr>\n",
       "\t<tr><td>2018-03-04    </td><td>3             </td><td>2018          </td><td>10            </td><td>15.72         </td><td>Video         </td><td>TubeMogul MENA</td><td>B1            </td><td> 113451       </td><td>113067        </td><td> 32979        </td><td>  2091        </td><td> 2638.32      </td><td>0             </td><td>Promotion     </td></tr>\n",
       "</tbody>\n",
       "</table>\n"
      ],
      "text/latex": [
       "\\begin{tabular}{r|lllllllllllllll}\n",
       " Date & Month & Year & Week & Edit\\_size & Type & Platform & Brand & Impressions & Views & Completed\\_Views & Engagement & Spends & Clicks & Campaign\\_Objective\\\\\n",
       "\\hline\n",
       "\t 2018-02-17     & 2              & 2018           &  7             & 10s            & Top Snap Only  & SnapChat       & B1             & 2157384        & 474414         & 102222         &      0         &  2808.57       & 0              & Promotion     \\\\\n",
       "\t 2018-03-02     & 3              & 2018           &  9             & 15             & Video          & facebook       & B1             &  354447        & 136986         &  19992         & 137433         &   260.13       & 0              & Promotion     \\\\\n",
       "\t 2018-03-02     & 3              & 2018           &  9             & 15             & Video          & instagram      & B1             &  104661        &  26463         &   4245         &  26787         &    54.96       & 0              & Promotion     \\\\\n",
       "\t 2018-03-04     & 3              & 2018           & 10             & 15.7           & Video          & shahid.mbc.net & B1             &  243624        & 243465         & 229281         &   1752         & 14252.00       & 0              & Promotion     \\\\\n",
       "\t 2018-03-04     & 3              & 2018           & 10             & 15.7           & Video          & shahid.mbc.net & B1             &  239280        & 239097         & 226212         &   1596         & 13997.88       & 0              & Promotion     \\\\\n",
       "\t 2018-03-04     & 3              & 2018           & 10             & 15.72          & Video          & TubeMogul MENA & B1             &  113451        & 113067         &  32979         &   2091         &  2638.32       & 0              & Promotion     \\\\\n",
       "\\end{tabular}\n"
      ],
      "text/markdown": [
       "\n",
       "| Date | Month | Year | Week | Edit_size | Type | Platform | Brand | Impressions | Views | Completed_Views | Engagement | Spends | Clicks | Campaign_Objective |\n",
       "|---|---|---|---|---|---|---|---|---|---|---|---|---|---|---|\n",
       "| 2018-02-17     | 2              | 2018           |  7             | 10s            | Top Snap Only  | SnapChat       | B1             | 2157384        | 474414         | 102222         |      0         |  2808.57       | 0              | Promotion      |\n",
       "| 2018-03-02     | 3              | 2018           |  9             | 15             | Video          | facebook       | B1             |  354447        | 136986         |  19992         | 137433         |   260.13       | 0              | Promotion      |\n",
       "| 2018-03-02     | 3              | 2018           |  9             | 15             | Video          | instagram      | B1             |  104661        |  26463         |   4245         |  26787         |    54.96       | 0              | Promotion      |\n",
       "| 2018-03-04     | 3              | 2018           | 10             | 15.7           | Video          | shahid.mbc.net | B1             |  243624        | 243465         | 229281         |   1752         | 14252.00       | 0              | Promotion      |\n",
       "| 2018-03-04     | 3              | 2018           | 10             | 15.7           | Video          | shahid.mbc.net | B1             |  239280        | 239097         | 226212         |   1596         | 13997.88       | 0              | Promotion      |\n",
       "| 2018-03-04     | 3              | 2018           | 10             | 15.72          | Video          | TubeMogul MENA | B1             |  113451        | 113067         |  32979         |   2091         |  2638.32       | 0              | Promotion      |\n",
       "\n"
      ],
      "text/plain": [
       "  Date       Month Year Week Edit_size Type          Platform       Brand\n",
       "1 2018-02-17 2     2018  7   10s       Top Snap Only SnapChat       B1   \n",
       "2 2018-03-02 3     2018  9   15        Video         facebook       B1   \n",
       "3 2018-03-02 3     2018  9   15        Video         instagram      B1   \n",
       "4 2018-03-04 3     2018 10   15.7      Video         shahid.mbc.net B1   \n",
       "5 2018-03-04 3     2018 10   15.7      Video         shahid.mbc.net B1   \n",
       "6 2018-03-04 3     2018 10   15.72     Video         TubeMogul MENA B1   \n",
       "  Impressions Views  Completed_Views Engagement Spends   Clicks\n",
       "1 2157384     474414 102222               0      2808.57 0     \n",
       "2  354447     136986  19992          137433       260.13 0     \n",
       "3  104661      26463   4245           26787        54.96 0     \n",
       "4  243624     243465 229281            1752     14252.00 0     \n",
       "5  239280     239097 226212            1596     13997.88 0     \n",
       "6  113451     113067  32979            2091      2638.32 0     \n",
       "  Campaign_Objective\n",
       "1 Promotion         \n",
       "2 Promotion         \n",
       "3 Promotion         \n",
       "4 Promotion         \n",
       "5 Promotion         \n",
       "6 Promotion         "
      ]
     },
     "metadata": {},
     "output_type": "display_data"
    }
   ],
   "source": [
    "dig_media <- read_excel(\"Media_Data.xlsx\", sheet=2)\n",
    "head(dig_media)"
   ]
  },
  {
   "cell_type": "code",
   "execution_count": 8,
   "id": "76f69b48",
   "metadata": {},
   "outputs": [
    {
     "data": {
      "text/html": [
       "<dl class=dl-horizontal>\n",
       "\t<dt>Date</dt>\n",
       "\t\t<dd>0</dd>\n",
       "\t<dt>Month</dt>\n",
       "\t\t<dd>0</dd>\n",
       "\t<dt>Year</dt>\n",
       "\t\t<dd>0</dd>\n",
       "\t<dt>Week</dt>\n",
       "\t\t<dd>0</dd>\n",
       "\t<dt>Edit_size</dt>\n",
       "\t\t<dd>4741</dd>\n",
       "\t<dt>Type</dt>\n",
       "\t\t<dd>3651</dd>\n",
       "\t<dt>Platform</dt>\n",
       "\t\t<dd>0</dd>\n",
       "\t<dt>Brand</dt>\n",
       "\t\t<dd>0</dd>\n",
       "\t<dt>Impressions</dt>\n",
       "\t\t<dd>0</dd>\n",
       "\t<dt>Views</dt>\n",
       "\t\t<dd>0</dd>\n",
       "\t<dt>Completed_Views</dt>\n",
       "\t\t<dd>0</dd>\n",
       "\t<dt>Engagement</dt>\n",
       "\t\t<dd>0</dd>\n",
       "\t<dt>Spends</dt>\n",
       "\t\t<dd>0</dd>\n",
       "\t<dt>Clicks</dt>\n",
       "\t\t<dd>50</dd>\n",
       "\t<dt>Campaign_Objective</dt>\n",
       "\t\t<dd>0</dd>\n",
       "</dl>\n"
      ],
      "text/latex": [
       "\\begin{description*}\n",
       "\\item[Date] 0\n",
       "\\item[Month] 0\n",
       "\\item[Year] 0\n",
       "\\item[Week] 0\n",
       "\\item[Edit\\textbackslash{}\\_size] 4741\n",
       "\\item[Type] 3651\n",
       "\\item[Platform] 0\n",
       "\\item[Brand] 0\n",
       "\\item[Impressions] 0\n",
       "\\item[Views] 0\n",
       "\\item[Completed\\textbackslash{}\\_Views] 0\n",
       "\\item[Engagement] 0\n",
       "\\item[Spends] 0\n",
       "\\item[Clicks] 50\n",
       "\\item[Campaign\\textbackslash{}\\_Objective] 0\n",
       "\\end{description*}\n"
      ],
      "text/markdown": [
       "Date\n",
       ":   0Month\n",
       ":   0Year\n",
       ":   0Week\n",
       ":   0Edit_size\n",
       ":   4741Type\n",
       ":   3651Platform\n",
       ":   0Brand\n",
       ":   0Impressions\n",
       ":   0Views\n",
       ":   0Completed_Views\n",
       ":   0Engagement\n",
       ":   0Spends\n",
       ":   0Clicks\n",
       ":   50Campaign_Objective\n",
       ":   0\n",
       "\n"
      ],
      "text/plain": [
       "              Date              Month               Year               Week \n",
       "                 0                  0                  0                  0 \n",
       "         Edit_size               Type           Platform              Brand \n",
       "              4741               3651                  0                  0 \n",
       "       Impressions              Views    Completed_Views         Engagement \n",
       "                 0                  0                  0                  0 \n",
       "            Spends             Clicks Campaign_Objective \n",
       "                 0                 50                  0 "
      ]
     },
     "metadata": {},
     "output_type": "display_data"
    }
   ],
   "source": [
    "colSums(is.na(dig_media))"
   ]
  },
  {
   "cell_type": "code",
   "execution_count": null,
   "id": "2bb086ef",
   "metadata": {},
   "outputs": [],
   "source": []
  },
  {
   "cell_type": "code",
   "execution_count": 9,
   "id": "79f9ec55",
   "metadata": {},
   "outputs": [],
   "source": [
    "# imputing null values in clicks with 0\n",
    "dig_media$Clicks[is.na(dig_media$Clicks)] <- 0\n",
    "\n",
    "\n",
    "dig_media$Type[is.na(dig_media$Type)] <- 'New_type'\n"
   ]
  },
  {
   "cell_type": "code",
   "execution_count": 10,
   "id": "c08533cd",
   "metadata": {},
   "outputs": [
    {
     "data": {
      "text/html": [
       "<dl class=dl-horizontal>\n",
       "\t<dt>Date</dt>\n",
       "\t\t<dd>0</dd>\n",
       "\t<dt>Month</dt>\n",
       "\t\t<dd>0</dd>\n",
       "\t<dt>Year</dt>\n",
       "\t\t<dd>0</dd>\n",
       "\t<dt>Week</dt>\n",
       "\t\t<dd>0</dd>\n",
       "\t<dt>Edit_size</dt>\n",
       "\t\t<dd>4741</dd>\n",
       "\t<dt>Type</dt>\n",
       "\t\t<dd>0</dd>\n",
       "\t<dt>Platform</dt>\n",
       "\t\t<dd>0</dd>\n",
       "\t<dt>Brand</dt>\n",
       "\t\t<dd>0</dd>\n",
       "\t<dt>Impressions</dt>\n",
       "\t\t<dd>0</dd>\n",
       "\t<dt>Views</dt>\n",
       "\t\t<dd>0</dd>\n",
       "\t<dt>Completed_Views</dt>\n",
       "\t\t<dd>0</dd>\n",
       "\t<dt>Engagement</dt>\n",
       "\t\t<dd>0</dd>\n",
       "\t<dt>Spends</dt>\n",
       "\t\t<dd>0</dd>\n",
       "\t<dt>Clicks</dt>\n",
       "\t\t<dd>0</dd>\n",
       "\t<dt>Campaign_Objective</dt>\n",
       "\t\t<dd>0</dd>\n",
       "</dl>\n"
      ],
      "text/latex": [
       "\\begin{description*}\n",
       "\\item[Date] 0\n",
       "\\item[Month] 0\n",
       "\\item[Year] 0\n",
       "\\item[Week] 0\n",
       "\\item[Edit\\textbackslash{}\\_size] 4741\n",
       "\\item[Type] 0\n",
       "\\item[Platform] 0\n",
       "\\item[Brand] 0\n",
       "\\item[Impressions] 0\n",
       "\\item[Views] 0\n",
       "\\item[Completed\\textbackslash{}\\_Views] 0\n",
       "\\item[Engagement] 0\n",
       "\\item[Spends] 0\n",
       "\\item[Clicks] 0\n",
       "\\item[Campaign\\textbackslash{}\\_Objective] 0\n",
       "\\end{description*}\n"
      ],
      "text/markdown": [
       "Date\n",
       ":   0Month\n",
       ":   0Year\n",
       ":   0Week\n",
       ":   0Edit_size\n",
       ":   4741Type\n",
       ":   0Platform\n",
       ":   0Brand\n",
       ":   0Impressions\n",
       ":   0Views\n",
       ":   0Completed_Views\n",
       ":   0Engagement\n",
       ":   0Spends\n",
       ":   0Clicks\n",
       ":   0Campaign_Objective\n",
       ":   0\n",
       "\n"
      ],
      "text/plain": [
       "              Date              Month               Year               Week \n",
       "                 0                  0                  0                  0 \n",
       "         Edit_size               Type           Platform              Brand \n",
       "              4741                  0                  0                  0 \n",
       "       Impressions              Views    Completed_Views         Engagement \n",
       "                 0                  0                  0                  0 \n",
       "            Spends             Clicks Campaign_Objective \n",
       "                 0                  0                  0 "
      ]
     },
     "metadata": {},
     "output_type": "display_data"
    }
   ],
   "source": [
    "colSums(is.na(dig_media))"
   ]
  },
  {
   "cell_type": "code",
   "execution_count": null,
   "id": "43acc6cb",
   "metadata": {},
   "outputs": [],
   "source": []
  },
  {
   "cell_type": "code",
   "execution_count": 11,
   "id": "abf1d6a6",
   "metadata": {},
   "outputs": [
    {
     "data": {
      "text/html": [
       "<table>\n",
       "<thead><tr><th scope=col>Year</th><th scope=col>Month</th><th scope=col>views</th><th scope=col>completed_views</th><th scope=col>Impressions</th><th scope=col>Engagement</th><th scope=col>Clicks</th><th scope=col>Spends</th></tr></thead>\n",
       "<tbody>\n",
       "\t<tr><td>2018      </td><td>2         </td><td>  474414  </td><td>  102222.0</td><td>  2157384 </td><td>       0  </td><td>0         </td><td>  2808.57 </td></tr>\n",
       "\t<tr><td>2018      </td><td>3         </td><td>61774029  </td><td>25774483.6</td><td>221973072 </td><td>33529623  </td><td>0         </td><td>747358.36 </td></tr>\n",
       "\t<tr><td>2018      </td><td>4         </td><td>66864690  </td><td>37638613.0</td><td>216255933 </td><td> 9868470  </td><td>0         </td><td>853006.24 </td></tr>\n",
       "\t<tr><td>2018      </td><td>5         </td><td> 2801142  </td><td>  802691.5</td><td> 15879387 </td><td> 1402281  </td><td>0         </td><td> 45376.06 </td></tr>\n",
       "\t<tr><td>2018      </td><td>6         </td><td>18822180  </td><td> 7488233.7</td><td>100096371 </td><td> 8423886  </td><td>0         </td><td>601876.52 </td></tr>\n",
       "\t<tr><td>2018      </td><td>9         </td><td> 5639664  </td><td> 1036050.0</td><td> 30063381 </td><td> 3034887  </td><td>0         </td><td> 38695.23 </td></tr>\n",
       "</tbody>\n",
       "</table>\n"
      ],
      "text/latex": [
       "\\begin{tabular}{r|llllllll}\n",
       " Year & Month & views & completed\\_views & Impressions & Engagement & Clicks & Spends\\\\\n",
       "\\hline\n",
       "\t 2018       & 2          &   474414   &   102222.0 &   2157384  &        0   & 0          &   2808.57 \\\\\n",
       "\t 2018       & 3          & 61774029   & 25774483.6 & 221973072  & 33529623   & 0          & 747358.36 \\\\\n",
       "\t 2018       & 4          & 66864690   & 37638613.0 & 216255933  &  9868470   & 0          & 853006.24 \\\\\n",
       "\t 2018       & 5          &  2801142   &   802691.5 &  15879387  &  1402281   & 0          &  45376.06 \\\\\n",
       "\t 2018       & 6          & 18822180   &  7488233.7 & 100096371  &  8423886   & 0          & 601876.52 \\\\\n",
       "\t 2018       & 9          &  5639664   &  1036050.0 &  30063381  &  3034887   & 0          &  38695.23 \\\\\n",
       "\\end{tabular}\n"
      ],
      "text/markdown": [
       "\n",
       "| Year | Month | views | completed_views | Impressions | Engagement | Clicks | Spends |\n",
       "|---|---|---|---|---|---|---|---|\n",
       "| 2018       | 2          |   474414   |   102222.0 |   2157384  |        0   | 0          |   2808.57  |\n",
       "| 2018       | 3          | 61774029   | 25774483.6 | 221973072  | 33529623   | 0          | 747358.36  |\n",
       "| 2018       | 4          | 66864690   | 37638613.0 | 216255933  |  9868470   | 0          | 853006.24  |\n",
       "| 2018       | 5          |  2801142   |   802691.5 |  15879387  |  1402281   | 0          |  45376.06  |\n",
       "| 2018       | 6          | 18822180   |  7488233.7 | 100096371  |  8423886   | 0          | 601876.52  |\n",
       "| 2018       | 9          |  5639664   |  1036050.0 |  30063381  |  3034887   | 0          |  38695.23  |\n",
       "\n"
      ],
      "text/plain": [
       "  Year Month views    completed_views Impressions Engagement Clicks Spends   \n",
       "1 2018 2       474414   102222.0        2157384          0   0        2808.57\n",
       "2 2018 3     61774029 25774483.6      221973072   33529623   0      747358.36\n",
       "3 2018 4     66864690 37638613.0      216255933    9868470   0      853006.24\n",
       "4 2018 5      2801142   802691.5       15879387    1402281   0       45376.06\n",
       "5 2018 6     18822180  7488233.7      100096371    8423886   0      601876.52\n",
       "6 2018 9      5639664  1036050.0       30063381    3034887   0       38695.23"
      ]
     },
     "metadata": {},
     "output_type": "display_data"
    }
   ],
   "source": [
    "library(dplyr)\n",
    "b <- dig_media %>%\n",
    "  group_by(Year, Month) %>%\n",
    "  summarise(views = sum(Views, na.rm=TRUE), completed_views = sum(Completed_Views, na.rm=TRUE), Impressions = sum(Impressions, na.rm=TRUE), Engagement = sum(Engagement, na.rm=TRUE), Clicks = sum(Clicks, na.rm=TRUE), Spends = sum(Spends, na.rm=TRUE))\n",
    "\n",
    "head(b)\n"
   ]
  },
  {
   "cell_type": "code",
   "execution_count": 12,
   "id": "a8593655",
   "metadata": {},
   "outputs": [
    {
     "data": {
      "text/html": [
       "<ol class=list-inline>\n",
       "\t<li>28</li>\n",
       "\t<li>8</li>\n",
       "</ol>\n"
      ],
      "text/latex": [
       "\\begin{enumerate*}\n",
       "\\item 28\n",
       "\\item 8\n",
       "\\end{enumerate*}\n"
      ],
      "text/markdown": [
       "1. 28\n",
       "2. 8\n",
       "\n",
       "\n"
      ],
      "text/plain": [
       "[1] 28  8"
      ]
     },
     "metadata": {},
     "output_type": "display_data"
    }
   ],
   "source": [
    "dim(b)"
   ]
  },
  {
   "cell_type": "code",
   "execution_count": 13,
   "id": "37b09986",
   "metadata": {},
   "outputs": [],
   "source": [
    "names(b)[names(b) == 'views'] <- 'dig_views'\n",
    "\n",
    "names(b)[names(b) == 'completed_views'] <- 'dig_completed_views'\n",
    "\n",
    "names(b)[names(b) == 'Impressions'] <- 'dig_Impressions'\n",
    "\n",
    "names(b)[names(b) == 'Engagement'] <- 'dig_Engagement'\n",
    "\n",
    "names(b)[names(b) == 'Clicks'] <- 'dig_Clicks'\n",
    "\n",
    "names(b)[names(b) == 'Spends'] <- 'dig_Spends'\n",
    "\n"
   ]
  },
  {
   "cell_type": "markdown",
   "id": "084c9e36",
   "metadata": {},
   "source": [
    "# OOH Data"
   ]
  },
  {
   "cell_type": "code",
   "execution_count": 14,
   "id": "5b576575",
   "metadata": {},
   "outputs": [
    {
     "data": {
      "text/html": [
       "<table>\n",
       "<thead><tr><th scope=col>Brand</th><th scope=col>Year</th><th scope=col>Format</th><th scope=col>Month</th><th scope=col>Spends</th></tr></thead>\n",
       "<tbody>\n",
       "\t<tr><td>B1        </td><td>2017      </td><td>Billboard </td><td>DEC       </td><td> 543613.80</td></tr>\n",
       "\t<tr><td>B1        </td><td>2017      </td><td>Billboard </td><td>DEC       </td><td>  63027.69</td></tr>\n",
       "\t<tr><td>B1        </td><td>2018      </td><td>Billboard </td><td>DEC       </td><td> 645237.24</td></tr>\n",
       "\t<tr><td>B1        </td><td>2018      </td><td>Billboard </td><td>MAR       </td><td> 467140.08</td></tr>\n",
       "\t<tr><td>B1        </td><td>2018      </td><td>Billboard </td><td>APR       </td><td> 604362.48</td></tr>\n",
       "\t<tr><td>B1        </td><td>2019      </td><td>Megacom   </td><td>DEC       </td><td>1136490.00</td></tr>\n",
       "</tbody>\n",
       "</table>\n"
      ],
      "text/latex": [
       "\\begin{tabular}{r|lllll}\n",
       " Brand & Year & Format & Month & Spends\\\\\n",
       "\\hline\n",
       "\t B1         & 2017       & Billboard  & DEC        &  543613.80\\\\\n",
       "\t B1         & 2017       & Billboard  & DEC        &   63027.69\\\\\n",
       "\t B1         & 2018       & Billboard  & DEC        &  645237.24\\\\\n",
       "\t B1         & 2018       & Billboard  & MAR        &  467140.08\\\\\n",
       "\t B1         & 2018       & Billboard  & APR        &  604362.48\\\\\n",
       "\t B1         & 2019       & Megacom    & DEC        & 1136490.00\\\\\n",
       "\\end{tabular}\n"
      ],
      "text/markdown": [
       "\n",
       "| Brand | Year | Format | Month | Spends |\n",
       "|---|---|---|---|---|\n",
       "| B1         | 2017       | Billboard  | DEC        |  543613.80 |\n",
       "| B1         | 2017       | Billboard  | DEC        |   63027.69 |\n",
       "| B1         | 2018       | Billboard  | DEC        |  645237.24 |\n",
       "| B1         | 2018       | Billboard  | MAR        |  467140.08 |\n",
       "| B1         | 2018       | Billboard  | APR        |  604362.48 |\n",
       "| B1         | 2019       | Megacom    | DEC        | 1136490.00 |\n",
       "\n"
      ],
      "text/plain": [
       "  Brand Year Format    Month Spends    \n",
       "1 B1    2017 Billboard DEC    543613.80\n",
       "2 B1    2017 Billboard DEC     63027.69\n",
       "3 B1    2018 Billboard DEC    645237.24\n",
       "4 B1    2018 Billboard MAR    467140.08\n",
       "5 B1    2018 Billboard APR    604362.48\n",
       "6 B1    2019 Megacom   DEC   1136490.00"
      ]
     },
     "metadata": {},
     "output_type": "display_data"
    }
   ],
   "source": [
    "media_ooh <- read_excel(\"Media_Data.xlsx\", sheet=4)\n",
    "head(media_ooh)"
   ]
  },
  {
   "cell_type": "code",
   "execution_count": 15,
   "id": "7675c92b",
   "metadata": {},
   "outputs": [
    {
     "data": {
      "text/html": [
       "<dl class=dl-horizontal>\n",
       "\t<dt>Brand</dt>\n",
       "\t\t<dd>0</dd>\n",
       "\t<dt>Year</dt>\n",
       "\t\t<dd>0</dd>\n",
       "\t<dt>Format</dt>\n",
       "\t\t<dd>0</dd>\n",
       "\t<dt>Month</dt>\n",
       "\t\t<dd>0</dd>\n",
       "\t<dt>Spends</dt>\n",
       "\t\t<dd>0</dd>\n",
       "</dl>\n"
      ],
      "text/latex": [
       "\\begin{description*}\n",
       "\\item[Brand] 0\n",
       "\\item[Year] 0\n",
       "\\item[Format] 0\n",
       "\\item[Month] 0\n",
       "\\item[Spends] 0\n",
       "\\end{description*}\n"
      ],
      "text/markdown": [
       "Brand\n",
       ":   0Year\n",
       ":   0Format\n",
       ":   0Month\n",
       ":   0Spends\n",
       ":   0\n",
       "\n"
      ],
      "text/plain": [
       " Brand   Year Format  Month Spends \n",
       "     0      0      0      0      0 "
      ]
     },
     "metadata": {},
     "output_type": "display_data"
    }
   ],
   "source": [
    "colSums(is.na(media_ooh))"
   ]
  },
  {
   "cell_type": "code",
   "execution_count": 16,
   "id": "9d8eb7df",
   "metadata": {},
   "outputs": [
    {
     "data": {
      "text/html": [
       "<table>\n",
       "<thead><tr><th scope=col>Year</th><th scope=col>Month</th><th scope=col>spends</th></tr></thead>\n",
       "<tbody>\n",
       "\t<tr><td>2017     </td><td>DEC      </td><td> 606641.5</td></tr>\n",
       "\t<tr><td>2018     </td><td>APR      </td><td> 604362.5</td></tr>\n",
       "\t<tr><td>2018     </td><td>DEC      </td><td> 645237.2</td></tr>\n",
       "\t<tr><td>2018     </td><td>MAR      </td><td> 467140.1</td></tr>\n",
       "\t<tr><td>2019     </td><td>DEC      </td><td>1525801.4</td></tr>\n",
       "\t<tr><td>2019     </td><td>JAN      </td><td>2680861.1</td></tr>\n",
       "</tbody>\n",
       "</table>\n"
      ],
      "text/latex": [
       "\\begin{tabular}{r|lll}\n",
       " Year & Month & spends\\\\\n",
       "\\hline\n",
       "\t 2017      & DEC       &  606641.5\\\\\n",
       "\t 2018      & APR       &  604362.5\\\\\n",
       "\t 2018      & DEC       &  645237.2\\\\\n",
       "\t 2018      & MAR       &  467140.1\\\\\n",
       "\t 2019      & DEC       & 1525801.4\\\\\n",
       "\t 2019      & JAN       & 2680861.1\\\\\n",
       "\\end{tabular}\n"
      ],
      "text/markdown": [
       "\n",
       "| Year | Month | spends |\n",
       "|---|---|---|\n",
       "| 2017      | DEC       |  606641.5 |\n",
       "| 2018      | APR       |  604362.5 |\n",
       "| 2018      | DEC       |  645237.2 |\n",
       "| 2018      | MAR       |  467140.1 |\n",
       "| 2019      | DEC       | 1525801.4 |\n",
       "| 2019      | JAN       | 2680861.1 |\n",
       "\n"
      ],
      "text/plain": [
       "  Year Month spends   \n",
       "1 2017 DEC    606641.5\n",
       "2 2018 APR    604362.5\n",
       "3 2018 DEC    645237.2\n",
       "4 2018 MAR    467140.1\n",
       "5 2019 DEC   1525801.4\n",
       "6 2019 JAN   2680861.1"
      ]
     },
     "metadata": {},
     "output_type": "display_data"
    }
   ],
   "source": [
    "library(dplyr)\n",
    "c <- media_ooh %>%\n",
    "  group_by(Year, Month) %>%\n",
    "  summarise(spends = sum(Spends, na.rm=TRUE))\n",
    "\n",
    "head(c)\n"
   ]
  },
  {
   "cell_type": "code",
   "execution_count": 17,
   "id": "da89343c",
   "metadata": {},
   "outputs": [
    {
     "data": {
      "text/html": [
       "<ol class=list-inline>\n",
       "\t<li>12</li>\n",
       "\t<li>3</li>\n",
       "</ol>\n"
      ],
      "text/latex": [
       "\\begin{enumerate*}\n",
       "\\item 12\n",
       "\\item 3\n",
       "\\end{enumerate*}\n"
      ],
      "text/markdown": [
       "1. 12\n",
       "2. 3\n",
       "\n",
       "\n"
      ],
      "text/plain": [
       "[1] 12  3"
      ]
     },
     "metadata": {},
     "output_type": "display_data"
    }
   ],
   "source": [
    "dim(c)"
   ]
  },
  {
   "cell_type": "code",
   "execution_count": 18,
   "id": "d710dca1",
   "metadata": {},
   "outputs": [],
   "source": [
    "names(c)[names(c) == 'spends'] <- 'ooh_Spends'\n"
   ]
  },
  {
   "cell_type": "markdown",
   "id": "b7f53717",
   "metadata": {},
   "source": [
    "# Macro data"
   ]
  },
  {
   "cell_type": "code",
   "execution_count": 19,
   "id": "32d551e6",
   "metadata": {},
   "outputs": [
    {
     "data": {
      "text/html": [
       "<table>\n",
       "<thead><tr><th scope=col>MONTH_YEAR</th><th scope=col>Temp_City1</th><th scope=col>Temp_City2</th><th scope=col>Temp_City3</th><th scope=col>Temp_City4</th><th scope=col>Temp_City5</th><th scope=col>Oil_Prices</th><th scope=col>Gasoline_Prices</th><th scope=col>Inflation</th><th scope=col>CCI</th><th scope=col>...</th><th scope=col>total_confirmed_cases</th><th scope=col>new_confirmed_cases</th><th scope=col>total_deaths</th><th scope=col>new_total_deaths</th><th scope=col>retail_and_recreation_mobility_index</th><th scope=col>grocery_and_pharmacy_mobility_index</th><th scope=col>residential_mobility_index</th><th scope=col>transit_stations_mobility_index</th><th scope=col>parks_mobility_index</th><th scope=col>workplaces_mobility_index</th></tr></thead>\n",
       "<tbody>\n",
       "\t<tr><td>2018-01-01</td><td>20        </td><td>27        </td><td>27        </td><td>22        </td><td>22        </td><td>63        </td><td>2.025     </td><td>3.0       </td><td> 95       </td><td>...       </td><td>0         </td><td>0         </td><td>0         </td><td>0         </td><td>0         </td><td>0         </td><td>0         </td><td>0         </td><td>0         </td><td>0         </td></tr>\n",
       "\t<tr><td>2018-02-01</td><td>25        </td><td>29        </td><td>31        </td><td>27        </td><td>27        </td><td>63        </td><td>2.025     </td><td>2.9       </td><td> 95       </td><td>...       </td><td>0         </td><td>0         </td><td>0         </td><td>0         </td><td>0         </td><td>0         </td><td>0         </td><td>0         </td><td>0         </td><td>0         </td></tr>\n",
       "\t<tr><td>2018-03-01</td><td>30        </td><td>30        </td><td>34        </td><td>32        </td><td>32        </td><td>63        </td><td>2.025     </td><td>2.8       </td><td> 95       </td><td>...       </td><td>0         </td><td>0         </td><td>0         </td><td>0         </td><td>0         </td><td>0         </td><td>0         </td><td>0         </td><td>0         </td><td>0         </td></tr>\n",
       "\t<tr><td>2018-04-01</td><td>32        </td><td>31        </td><td>35        </td><td>33        </td><td>33        </td><td>68        </td><td>2.025     </td><td>2.5       </td><td>107       </td><td>...       </td><td>0         </td><td>0         </td><td>0         </td><td>0         </td><td>0         </td><td>0         </td><td>0         </td><td>0         </td><td>0         </td><td>0         </td></tr>\n",
       "\t<tr><td>2018-05-01</td><td>37        </td><td>35        </td><td>39        </td><td>38        </td><td>38        </td><td>68        </td><td>2.025     </td><td>2.3       </td><td>107       </td><td>...       </td><td>0         </td><td>0         </td><td>0         </td><td>0         </td><td>0         </td><td>0         </td><td>0         </td><td>0         </td><td>0         </td><td>0         </td></tr>\n",
       "\t<tr><td>2018-06-01</td><td>41        </td><td>35        </td><td>41        </td><td>40        </td><td>40        </td><td>68        </td><td>2.025     </td><td>2.1       </td><td>107       </td><td>...       </td><td>0         </td><td>0         </td><td>0         </td><td>0         </td><td>0         </td><td>0         </td><td>0         </td><td>0         </td><td>0         </td><td>0         </td></tr>\n",
       "</tbody>\n",
       "</table>\n"
      ],
      "text/latex": [
       "\\begin{tabular}{r|lllllllllllllllllllllll}\n",
       " MONTH\\_YEAR & Temp\\_City1 & Temp\\_City2 & Temp\\_City3 & Temp\\_City4 & Temp\\_City5 & Oil\\_Prices & Gasoline\\_Prices & Inflation & CCI & ... & total\\_confirmed\\_cases & new\\_confirmed\\_cases & total\\_deaths & new\\_total\\_deaths & retail\\_and\\_recreation\\_mobility\\_index & grocery\\_and\\_pharmacy\\_mobility\\_index & residential\\_mobility\\_index & transit\\_stations\\_mobility\\_index & parks\\_mobility\\_index & workplaces\\_mobility\\_index\\\\\n",
       "\\hline\n",
       "\t 2018-01-01 & 20         & 27         & 27         & 22         & 22         & 63         & 2.025      & 3.0        &  95        & ...        & 0          & 0          & 0          & 0          & 0          & 0          & 0          & 0          & 0          & 0         \\\\\n",
       "\t 2018-02-01 & 25         & 29         & 31         & 27         & 27         & 63         & 2.025      & 2.9        &  95        & ...        & 0          & 0          & 0          & 0          & 0          & 0          & 0          & 0          & 0          & 0         \\\\\n",
       "\t 2018-03-01 & 30         & 30         & 34         & 32         & 32         & 63         & 2.025      & 2.8        &  95        & ...        & 0          & 0          & 0          & 0          & 0          & 0          & 0          & 0          & 0          & 0         \\\\\n",
       "\t 2018-04-01 & 32         & 31         & 35         & 33         & 33         & 68         & 2.025      & 2.5        & 107        & ...        & 0          & 0          & 0          & 0          & 0          & 0          & 0          & 0          & 0          & 0         \\\\\n",
       "\t 2018-05-01 & 37         & 35         & 39         & 38         & 38         & 68         & 2.025      & 2.3        & 107        & ...        & 0          & 0          & 0          & 0          & 0          & 0          & 0          & 0          & 0          & 0         \\\\\n",
       "\t 2018-06-01 & 41         & 35         & 41         & 40         & 40         & 68         & 2.025      & 2.1        & 107        & ...        & 0          & 0          & 0          & 0          & 0          & 0          & 0          & 0          & 0          & 0         \\\\\n",
       "\\end{tabular}\n"
      ],
      "text/markdown": [
       "\n",
       "| MONTH_YEAR | Temp_City1 | Temp_City2 | Temp_City3 | Temp_City4 | Temp_City5 | Oil_Prices | Gasoline_Prices | Inflation | CCI | ... | total_confirmed_cases | new_confirmed_cases | total_deaths | new_total_deaths | retail_and_recreation_mobility_index | grocery_and_pharmacy_mobility_index | residential_mobility_index | transit_stations_mobility_index | parks_mobility_index | workplaces_mobility_index |\n",
       "|---|---|---|---|---|---|---|---|---|---|---|---|---|---|---|---|---|---|---|---|---|\n",
       "| 2018-01-01 | 20         | 27         | 27         | 22         | 22         | 63         | 2.025      | 3.0        |  95        | ...        | 0          | 0          | 0          | 0          | 0          | 0          | 0          | 0          | 0          | 0          |\n",
       "| 2018-02-01 | 25         | 29         | 31         | 27         | 27         | 63         | 2.025      | 2.9        |  95        | ...        | 0          | 0          | 0          | 0          | 0          | 0          | 0          | 0          | 0          | 0          |\n",
       "| 2018-03-01 | 30         | 30         | 34         | 32         | 32         | 63         | 2.025      | 2.8        |  95        | ...        | 0          | 0          | 0          | 0          | 0          | 0          | 0          | 0          | 0          | 0          |\n",
       "| 2018-04-01 | 32         | 31         | 35         | 33         | 33         | 68         | 2.025      | 2.5        | 107        | ...        | 0          | 0          | 0          | 0          | 0          | 0          | 0          | 0          | 0          | 0          |\n",
       "| 2018-05-01 | 37         | 35         | 39         | 38         | 38         | 68         | 2.025      | 2.3        | 107        | ...        | 0          | 0          | 0          | 0          | 0          | 0          | 0          | 0          | 0          | 0          |\n",
       "| 2018-06-01 | 41         | 35         | 41         | 40         | 40         | 68         | 2.025      | 2.1        | 107        | ...        | 0          | 0          | 0          | 0          | 0          | 0          | 0          | 0          | 0          | 0          |\n",
       "\n"
      ],
      "text/plain": [
       "  MONTH_YEAR Temp_City1 Temp_City2 Temp_City3 Temp_City4 Temp_City5 Oil_Prices\n",
       "1 2018-01-01 20         27         27         22         22         63        \n",
       "2 2018-02-01 25         29         31         27         27         63        \n",
       "3 2018-03-01 30         30         34         32         32         63        \n",
       "4 2018-04-01 32         31         35         33         33         68        \n",
       "5 2018-05-01 37         35         39         38         38         68        \n",
       "6 2018-06-01 41         35         41         40         40         68        \n",
       "  Gasoline_Prices Inflation CCI ... total_confirmed_cases new_confirmed_cases\n",
       "1 2.025           3.0        95 ... 0                     0                  \n",
       "2 2.025           2.9        95 ... 0                     0                  \n",
       "3 2.025           2.8        95 ... 0                     0                  \n",
       "4 2.025           2.5       107 ... 0                     0                  \n",
       "5 2.025           2.3       107 ... 0                     0                  \n",
       "6 2.025           2.1       107 ... 0                     0                  \n",
       "  total_deaths new_total_deaths retail_and_recreation_mobility_index\n",
       "1 0            0                0                                   \n",
       "2 0            0                0                                   \n",
       "3 0            0                0                                   \n",
       "4 0            0                0                                   \n",
       "5 0            0                0                                   \n",
       "6 0            0                0                                   \n",
       "  grocery_and_pharmacy_mobility_index residential_mobility_index\n",
       "1 0                                   0                         \n",
       "2 0                                   0                         \n",
       "3 0                                   0                         \n",
       "4 0                                   0                         \n",
       "5 0                                   0                         \n",
       "6 0                                   0                         \n",
       "  transit_stations_mobility_index parks_mobility_index\n",
       "1 0                               0                   \n",
       "2 0                               0                   \n",
       "3 0                               0                   \n",
       "4 0                               0                   \n",
       "5 0                               0                   \n",
       "6 0                               0                   \n",
       "  workplaces_mobility_index\n",
       "1 0                        \n",
       "2 0                        \n",
       "3 0                        \n",
       "4 0                        \n",
       "5 0                        \n",
       "6 0                        "
      ]
     },
     "metadata": {},
     "output_type": "display_data"
    }
   ],
   "source": [
    "macro <- read_excel(\"Macro_Data.xlsx\", sheet=1)\n",
    "\n",
    "head(macro)"
   ]
  },
  {
   "cell_type": "code",
   "execution_count": 20,
   "id": "b0802ee4",
   "metadata": {},
   "outputs": [
    {
     "data": {
      "text/html": [
       "<ol class=list-inline>\n",
       "\t<li>41</li>\n",
       "\t<li>23</li>\n",
       "</ol>\n"
      ],
      "text/latex": [
       "\\begin{enumerate*}\n",
       "\\item 41\n",
       "\\item 23\n",
       "\\end{enumerate*}\n"
      ],
      "text/markdown": [
       "1. 41\n",
       "2. 23\n",
       "\n",
       "\n"
      ],
      "text/plain": [
       "[1] 41 23"
      ]
     },
     "metadata": {},
     "output_type": "display_data"
    }
   ],
   "source": [
    "dim(macro)"
   ]
  },
  {
   "cell_type": "code",
   "execution_count": 21,
   "id": "46e06bf8",
   "metadata": {},
   "outputs": [
    {
     "name": "stdout",
     "output_type": "stream",
     "text": [
      "Classes 'tbl_df', 'tbl' and 'data.frame':\t41 obs. of  23 variables:\n",
      " $ MONTH_YEAR                          : POSIXct, format: \"2018-01-01\" \"2018-02-01\" ...\n",
      " $ Temp_City1                          : num  20 25 30 32 37 41 42 41 41 34 ...\n",
      " $ Temp_City2                          : num  27 29 30 31 35 35 36 36 34 35 ...\n",
      " $ Temp_City3                          : num  27 31 34 35 39 41 44 40 39 37 ...\n",
      " $ Temp_City4                          : num  22 27 32 33 38 40 40 41 41 34 ...\n",
      " $ Temp_City5                          : num  22 27 32 33 38 40 40 41 41 34 ...\n",
      " $ Oil_Prices                          : num  63 63 63 68 68 68 69 69 69 59 ...\n",
      " $ Gasoline_Prices                     : num  2.02 2.02 2.02 2.02 2.02 ...\n",
      " $ Inflation                           : num  3 2.9 2.8 2.5 2.3 2.1 2.2 2.2 2.1 2.4 ...\n",
      " $ CCI                                 : num  95 95 95 107 107 107 106 106 106 109 ...\n",
      " $ GDP                                 : num  1.38 1.38 1.38 1.58 1.58 1.58 2.45 2.45 2.45 4.26 ...\n",
      " $ Population                          : num  33702756 33702756 33702756 33702756 33702756 ...\n",
      " $ stringency_index                    : num  0 0 0 0 0 0 0 0 0 0 ...\n",
      " $ total_confirmed_cases               : num  0 0 0 0 0 0 0 0 0 0 ...\n",
      " $ new_confirmed_cases                 : num  0 0 0 0 0 0 0 0 0 0 ...\n",
      " $ total_deaths                        : num  0 0 0 0 0 0 0 0 0 0 ...\n",
      " $ new_total_deaths                    : num  0 0 0 0 0 0 0 0 0 0 ...\n",
      " $ retail_and_recreation_mobility_index: num  0 0 0 0 0 0 0 0 0 0 ...\n",
      " $ grocery_and_pharmacy_mobility_index : num  0 0 0 0 0 0 0 0 0 0 ...\n",
      " $ residential_mobility_index          : num  0 0 0 0 0 0 0 0 0 0 ...\n",
      " $ transit_stations_mobility_index     : num  0 0 0 0 0 0 0 0 0 0 ...\n",
      " $ parks_mobility_index                : num  0 0 0 0 0 0 0 0 0 0 ...\n",
      " $ workplaces_mobility_index           : num  0 0 0 0 0 0 0 0 0 0 ...\n"
     ]
    }
   ],
   "source": [
    "str(macro)"
   ]
  },
  {
   "cell_type": "code",
   "execution_count": 22,
   "id": "11ed26e7",
   "metadata": {},
   "outputs": [
    {
     "data": {
      "text/html": [
       "<table>\n",
       "<thead><tr><th scope=col>MONTH_YEAR</th><th scope=col>Oil_Prices</th><th scope=col>CCI</th><th scope=col>total_confirmed_cases</th><th scope=col>stringency_index</th><th scope=col>Temp</th></tr></thead>\n",
       "<tbody>\n",
       "\t<tr><td>2018-01-01</td><td>63        </td><td> 95       </td><td>0         </td><td>0         </td><td>21.0      </td></tr>\n",
       "\t<tr><td>2018-02-01</td><td>63        </td><td> 95       </td><td>0         </td><td>0         </td><td>26.0      </td></tr>\n",
       "\t<tr><td>2018-03-01</td><td>63        </td><td> 95       </td><td>0         </td><td>0         </td><td>31.0      </td></tr>\n",
       "\t<tr><td>2018-04-01</td><td>68        </td><td>107       </td><td>0         </td><td>0         </td><td>32.5      </td></tr>\n",
       "\t<tr><td>2018-05-01</td><td>68        </td><td>107       </td><td>0         </td><td>0         </td><td>37.5      </td></tr>\n",
       "\t<tr><td>2018-06-01</td><td>68        </td><td>107       </td><td>0         </td><td>0         </td><td>40.5      </td></tr>\n",
       "</tbody>\n",
       "</table>\n"
      ],
      "text/latex": [
       "\\begin{tabular}{r|llllll}\n",
       " MONTH\\_YEAR & Oil\\_Prices & CCI & total\\_confirmed\\_cases & stringency\\_index & Temp\\\\\n",
       "\\hline\n",
       "\t 2018-01-01 & 63         &  95        & 0          & 0          & 21.0      \\\\\n",
       "\t 2018-02-01 & 63         &  95        & 0          & 0          & 26.0      \\\\\n",
       "\t 2018-03-01 & 63         &  95        & 0          & 0          & 31.0      \\\\\n",
       "\t 2018-04-01 & 68         & 107        & 0          & 0          & 32.5      \\\\\n",
       "\t 2018-05-01 & 68         & 107        & 0          & 0          & 37.5      \\\\\n",
       "\t 2018-06-01 & 68         & 107        & 0          & 0          & 40.5      \\\\\n",
       "\\end{tabular}\n"
      ],
      "text/markdown": [
       "\n",
       "| MONTH_YEAR | Oil_Prices | CCI | total_confirmed_cases | stringency_index | Temp |\n",
       "|---|---|---|---|---|---|\n",
       "| 2018-01-01 | 63         |  95        | 0          | 0          | 21.0       |\n",
       "| 2018-02-01 | 63         |  95        | 0          | 0          | 26.0       |\n",
       "| 2018-03-01 | 63         |  95        | 0          | 0          | 31.0       |\n",
       "| 2018-04-01 | 68         | 107        | 0          | 0          | 32.5       |\n",
       "| 2018-05-01 | 68         | 107        | 0          | 0          | 37.5       |\n",
       "| 2018-06-01 | 68         | 107        | 0          | 0          | 40.5       |\n",
       "\n"
      ],
      "text/plain": [
       "  MONTH_YEAR Oil_Prices CCI total_confirmed_cases stringency_index Temp\n",
       "1 2018-01-01 63          95 0                     0                21.0\n",
       "2 2018-02-01 63          95 0                     0                26.0\n",
       "3 2018-03-01 63          95 0                     0                31.0\n",
       "4 2018-04-01 68         107 0                     0                32.5\n",
       "5 2018-05-01 68         107 0                     0                37.5\n",
       "6 2018-06-01 68         107 0                     0                40.5"
      ]
     },
     "metadata": {},
     "output_type": "display_data"
    }
   ],
   "source": [
    "month_macro = macro[c('MONTH_YEAR', 'Oil_Prices', 'CCI', 'total_confirmed_cases', 'stringency_index')]\n",
    "\n",
    "month_macro['Temp'] = rowMeans(macro[,c(2,6)])\n",
    "\n",
    "head(month_macro)"
   ]
  },
  {
   "cell_type": "code",
   "execution_count": null,
   "id": "d4d6480d",
   "metadata": {},
   "outputs": [],
   "source": []
  },
  {
   "cell_type": "markdown",
   "id": "1e4e4102",
   "metadata": {},
   "source": [
    "# Neilsen shipment data"
   ]
  },
  {
   "cell_type": "code",
   "execution_count": 23,
   "id": "58b44531",
   "metadata": {},
   "outputs": [
    {
     "data": {
      "text/html": [
       "<table>\n",
       "<thead><tr><th scope=col>MONTH_YEAR</th><th scope=col>CHANNEL</th><th scope=col>MONTH</th><th scope=col>YEAR</th><th scope=col>Comp1_NIELSEN_VALUE_SALES</th><th scope=col>Comp2_NIELSEN_VALUE_SALES</th><th scope=col>B1_NIELSEN_VALUE_SALES</th><th scope=col>Comp3_NIELSEN_VALUE_SALES</th><th scope=col>Comp4_NIELSEN_VALUE_SALES</th><th scope=col>Comp5_NIELSEN_VALUE_SALES</th><th scope=col>...</th><th scope=col>Comp3_NIELSEN_ABS_TDP_ND</th><th scope=col>Comp4_NIELSEN_ABS_TDP_ND</th><th scope=col>Comp5_NIELSEN_ABS_TDP_ND</th><th scope=col>Comp6_NIELSEN_ABS_TDP_ND</th><th scope=col>Internal_sum_volumeKg</th><th scope=col>Internal_sum_grossrev</th><th scope=col>Internal_sum_unitsales</th><th scope=col>Internal_disc_a</th><th scope=col>Corrected_Volume</th><th scope=col>Quarter</th></tr></thead>\n",
       "<tbody>\n",
       "\t<tr><td>2018-01-01             </td><td>MINIMARKET/SELF SERVICE</td><td>1                      </td><td>2018                   </td><td>5183.91                </td><td>1143.30                </td><td>26478.78               </td><td>6092.04                </td><td>1924.17                </td><td>7086.36                </td><td>...                    </td><td>309.6250               </td><td>218.5143               </td><td>536.4216               </td><td>296.1548               </td><td>972.2894               </td><td>9033962                </td><td>22920648               </td><td>648990.0               </td><td>835.1155               </td><td>Q1                     </td></tr>\n",
       "\t<tr><td>2018-02-01             </td><td>MINIMARKET/SELF SERVICE</td><td>2                      </td><td>2018                   </td><td>4730.85                </td><td>1260.51                </td><td>24823.89               </td><td>5997.33                </td><td>1813.53                </td><td>6862.89                </td><td>...                    </td><td>330.6183               </td><td>220.0108               </td><td>565.5517               </td><td>307.5383               </td><td>975.7128               </td><td>9106867                </td><td>22458411               </td><td>658636.7               </td><td>774.1404               </td><td>Q1                     </td></tr>\n",
       "\t<tr><td>2018-03-01             </td><td>MINIMARKET/SELF SERVICE</td><td>3                      </td><td>2018                   </td><td>5649.12                </td><td>1550.31                </td><td>29412.51               </td><td>6374.76                </td><td>2508.45                </td><td>7440.15                </td><td>...                    </td><td>294.5765               </td><td>258.1316               </td><td>542.7097               </td><td>310.3569               </td><td>806.2391               </td><td>7766168                </td><td>20122479               </td><td>802615.3               </td><td>925.5180               </td><td>Q1                     </td></tr>\n",
       "\t<tr><td>2018-04-01             </td><td>MINIMARKET/SELF SERVICE</td><td>4                      </td><td>2018                   </td><td>5125.59                </td><td>1269.12                </td><td>30085.02               </td><td>6170.61                </td><td>2835.12                </td><td>7692.12                </td><td>...                    </td><td>274.2998               </td><td>288.4993               </td><td>543.3250               </td><td>303.6793               </td><td>870.8058               </td><td>8338325                </td><td>22222101               </td><td>800926.3               </td><td>947.0378               </td><td>Q2                     </td></tr>\n",
       "\t<tr><td>2018-05-01             </td><td>MINIMARKET/SELF SERVICE</td><td>5                      </td><td>2018                   </td><td>5648.16                </td><td>1378.26                </td><td>31100.25               </td><td>6744.51                </td><td>3252.09                </td><td>7999.50                </td><td>...                    </td><td>296.7594               </td><td>293.1946               </td><td>556.0395               </td><td>291.5473               </td><td>676.1504               </td><td>6623947                </td><td>17720106               </td><td>754330.3               </td><td>952.1822               </td><td>Q2                     </td></tr>\n",
       "\t<tr><td>2018-06-01             </td><td>MINIMARKET/SELF SERVICE</td><td>6                      </td><td>2018                   </td><td>4593.00                </td><td>1277.94                </td><td>25003.59               </td><td>5605.20                </td><td>2813.55                </td><td>7590.30                </td><td>...                    </td><td>315.4311               </td><td>293.4360               </td><td>565.1340               </td><td>289.1364               </td><td>778.6683               </td><td>7422233                </td><td>19655754               </td><td>593277.5               </td><td>766.2630               </td><td>Q2                     </td></tr>\n",
       "</tbody>\n",
       "</table>\n"
      ],
      "text/latex": [
       "\\begin{tabular}{r|llllllllllllllllllllllllllllllllllllllllllllllllllllllllllll}\n",
       " MONTH\\_YEAR & CHANNEL & MONTH & YEAR & Comp1\\_NIELSEN\\_VALUE\\_SALES & Comp2\\_NIELSEN\\_VALUE\\_SALES & B1\\_NIELSEN\\_VALUE\\_SALES & Comp3\\_NIELSEN\\_VALUE\\_SALES & Comp4\\_NIELSEN\\_VALUE\\_SALES & Comp5\\_NIELSEN\\_VALUE\\_SALES & ... & Comp3\\_NIELSEN\\_ABS\\_TDP\\_ND & Comp4\\_NIELSEN\\_ABS\\_TDP\\_ND & Comp5\\_NIELSEN\\_ABS\\_TDP\\_ND & Comp6\\_NIELSEN\\_ABS\\_TDP\\_ND & Internal\\_sum\\_volumeKg & Internal\\_sum\\_grossrev & Internal\\_sum\\_unitsales & Internal\\_disc\\_a & Corrected\\_Volume & Quarter\\\\\n",
       "\\hline\n",
       "\t 2018-01-01              & MINIMARKET/SELF SERVICE & 1                       & 2018                    & 5183.91                 & 1143.30                 & 26478.78                & 6092.04                 & 1924.17                 & 7086.36                 & ...                     & 309.6250                & 218.5143                & 536.4216                & 296.1548                & 972.2894                & 9033962                 & 22920648                & 648990.0                & 835.1155                & Q1                     \\\\\n",
       "\t 2018-02-01              & MINIMARKET/SELF SERVICE & 2                       & 2018                    & 4730.85                 & 1260.51                 & 24823.89                & 5997.33                 & 1813.53                 & 6862.89                 & ...                     & 330.6183                & 220.0108                & 565.5517                & 307.5383                & 975.7128                & 9106867                 & 22458411                & 658636.7                & 774.1404                & Q1                     \\\\\n",
       "\t 2018-03-01              & MINIMARKET/SELF SERVICE & 3                       & 2018                    & 5649.12                 & 1550.31                 & 29412.51                & 6374.76                 & 2508.45                 & 7440.15                 & ...                     & 294.5765                & 258.1316                & 542.7097                & 310.3569                & 806.2391                & 7766168                 & 20122479                & 802615.3                & 925.5180                & Q1                     \\\\\n",
       "\t 2018-04-01              & MINIMARKET/SELF SERVICE & 4                       & 2018                    & 5125.59                 & 1269.12                 & 30085.02                & 6170.61                 & 2835.12                 & 7692.12                 & ...                     & 274.2998                & 288.4993                & 543.3250                & 303.6793                & 870.8058                & 8338325                 & 22222101                & 800926.3                & 947.0378                & Q2                     \\\\\n",
       "\t 2018-05-01              & MINIMARKET/SELF SERVICE & 5                       & 2018                    & 5648.16                 & 1378.26                 & 31100.25                & 6744.51                 & 3252.09                 & 7999.50                 & ...                     & 296.7594                & 293.1946                & 556.0395                & 291.5473                & 676.1504                & 6623947                 & 17720106                & 754330.3                & 952.1822                & Q2                     \\\\\n",
       "\t 2018-06-01              & MINIMARKET/SELF SERVICE & 6                       & 2018                    & 4593.00                 & 1277.94                 & 25003.59                & 5605.20                 & 2813.55                 & 7590.30                 & ...                     & 315.4311                & 293.4360                & 565.1340                & 289.1364                & 778.6683                & 7422233                 & 19655754                & 593277.5                & 766.2630                & Q2                     \\\\\n",
       "\\end{tabular}\n"
      ],
      "text/markdown": [
       "\n",
       "| MONTH_YEAR | CHANNEL | MONTH | YEAR | Comp1_NIELSEN_VALUE_SALES | Comp2_NIELSEN_VALUE_SALES | B1_NIELSEN_VALUE_SALES | Comp3_NIELSEN_VALUE_SALES | Comp4_NIELSEN_VALUE_SALES | Comp5_NIELSEN_VALUE_SALES | ... | Comp3_NIELSEN_ABS_TDP_ND | Comp4_NIELSEN_ABS_TDP_ND | Comp5_NIELSEN_ABS_TDP_ND | Comp6_NIELSEN_ABS_TDP_ND | Internal_sum_volumeKg | Internal_sum_grossrev | Internal_sum_unitsales | Internal_disc_a | Corrected_Volume | Quarter |\n",
       "|---|---|---|---|---|---|---|---|---|---|---|---|---|---|---|---|---|---|---|---|---|\n",
       "| 2018-01-01              | MINIMARKET/SELF SERVICE | 1                       | 2018                    | 5183.91                 | 1143.30                 | 26478.78                | 6092.04                 | 1924.17                 | 7086.36                 | ...                     | 309.6250                | 218.5143                | 536.4216                | 296.1548                | 972.2894                | 9033962                 | 22920648                | 648990.0                | 835.1155                | Q1                      |\n",
       "| 2018-02-01              | MINIMARKET/SELF SERVICE | 2                       | 2018                    | 4730.85                 | 1260.51                 | 24823.89                | 5997.33                 | 1813.53                 | 6862.89                 | ...                     | 330.6183                | 220.0108                | 565.5517                | 307.5383                | 975.7128                | 9106867                 | 22458411                | 658636.7                | 774.1404                | Q1                      |\n",
       "| 2018-03-01              | MINIMARKET/SELF SERVICE | 3                       | 2018                    | 5649.12                 | 1550.31                 | 29412.51                | 6374.76                 | 2508.45                 | 7440.15                 | ...                     | 294.5765                | 258.1316                | 542.7097                | 310.3569                | 806.2391                | 7766168                 | 20122479                | 802615.3                | 925.5180                | Q1                      |\n",
       "| 2018-04-01              | MINIMARKET/SELF SERVICE | 4                       | 2018                    | 5125.59                 | 1269.12                 | 30085.02                | 6170.61                 | 2835.12                 | 7692.12                 | ...                     | 274.2998                | 288.4993                | 543.3250                | 303.6793                | 870.8058                | 8338325                 | 22222101                | 800926.3                | 947.0378                | Q2                      |\n",
       "| 2018-05-01              | MINIMARKET/SELF SERVICE | 5                       | 2018                    | 5648.16                 | 1378.26                 | 31100.25                | 6744.51                 | 3252.09                 | 7999.50                 | ...                     | 296.7594                | 293.1946                | 556.0395                | 291.5473                | 676.1504                | 6623947                 | 17720106                | 754330.3                | 952.1822                | Q2                      |\n",
       "| 2018-06-01              | MINIMARKET/SELF SERVICE | 6                       | 2018                    | 4593.00                 | 1277.94                 | 25003.59                | 5605.20                 | 2813.55                 | 7590.30                 | ...                     | 315.4311                | 293.4360                | 565.1340                | 289.1364                | 778.6683                | 7422233                 | 19655754                | 593277.5                | 766.2630                | Q2                      |\n",
       "\n"
      ],
      "text/plain": [
       "  MONTH_YEAR CHANNEL                 MONTH YEAR Comp1_NIELSEN_VALUE_SALES\n",
       "1 2018-01-01 MINIMARKET/SELF SERVICE 1     2018 5183.91                  \n",
       "2 2018-02-01 MINIMARKET/SELF SERVICE 2     2018 4730.85                  \n",
       "3 2018-03-01 MINIMARKET/SELF SERVICE 3     2018 5649.12                  \n",
       "4 2018-04-01 MINIMARKET/SELF SERVICE 4     2018 5125.59                  \n",
       "5 2018-05-01 MINIMARKET/SELF SERVICE 5     2018 5648.16                  \n",
       "6 2018-06-01 MINIMARKET/SELF SERVICE 6     2018 4593.00                  \n",
       "  Comp2_NIELSEN_VALUE_SALES B1_NIELSEN_VALUE_SALES Comp3_NIELSEN_VALUE_SALES\n",
       "1 1143.30                   26478.78               6092.04                  \n",
       "2 1260.51                   24823.89               5997.33                  \n",
       "3 1550.31                   29412.51               6374.76                  \n",
       "4 1269.12                   30085.02               6170.61                  \n",
       "5 1378.26                   31100.25               6744.51                  \n",
       "6 1277.94                   25003.59               5605.20                  \n",
       "  Comp4_NIELSEN_VALUE_SALES Comp5_NIELSEN_VALUE_SALES ...\n",
       "1 1924.17                   7086.36                   ...\n",
       "2 1813.53                   6862.89                   ...\n",
       "3 2508.45                   7440.15                   ...\n",
       "4 2835.12                   7692.12                   ...\n",
       "5 3252.09                   7999.50                   ...\n",
       "6 2813.55                   7590.30                   ...\n",
       "  Comp3_NIELSEN_ABS_TDP_ND Comp4_NIELSEN_ABS_TDP_ND Comp5_NIELSEN_ABS_TDP_ND\n",
       "1 309.6250                 218.5143                 536.4216                \n",
       "2 330.6183                 220.0108                 565.5517                \n",
       "3 294.5765                 258.1316                 542.7097                \n",
       "4 274.2998                 288.4993                 543.3250                \n",
       "5 296.7594                 293.1946                 556.0395                \n",
       "6 315.4311                 293.4360                 565.1340                \n",
       "  Comp6_NIELSEN_ABS_TDP_ND Internal_sum_volumeKg Internal_sum_grossrev\n",
       "1 296.1548                 972.2894              9033962              \n",
       "2 307.5383                 975.7128              9106867              \n",
       "3 310.3569                 806.2391              7766168              \n",
       "4 303.6793                 870.8058              8338325              \n",
       "5 291.5473                 676.1504              6623947              \n",
       "6 289.1364                 778.6683              7422233              \n",
       "  Internal_sum_unitsales Internal_disc_a Corrected_Volume Quarter\n",
       "1 22920648               648990.0        835.1155         Q1     \n",
       "2 22458411               658636.7        774.1404         Q1     \n",
       "3 20122479               802615.3        925.5180         Q1     \n",
       "4 22222101               800926.3        947.0378         Q2     \n",
       "5 17720106               754330.3        952.1822         Q2     \n",
       "6 19655754               593277.5        766.2630         Q2     "
      ]
     },
     "metadata": {},
     "output_type": "display_data"
    }
   ],
   "source": [
    "shipment <- read_excel(\"Nielsen_Shipment Data.xlsx\", sheet=1)\n",
    "\n",
    "names(shipment)[names(shipment) == 'Internal_sum_d&a'] <- 'Internal_disc_a'\n",
    "\n",
    "head(shipment)"
   ]
  },
  {
   "cell_type": "code",
   "execution_count": 24,
   "id": "898cbab9",
   "metadata": {},
   "outputs": [],
   "source": [
    "shipment['Avg_selling_price'] = shipment['B1_NIELSEN_VALUE_SALES'] / shipment['B1_NIELSEN_VOLUME_SALES']\n",
    "shipment['Discount_percent'] = shipment['Internal_disc_a']/ shipment['Internal_sum_grossrev']\n"
   ]
  },
  {
   "cell_type": "code",
   "execution_count": null,
   "id": "53de7821",
   "metadata": {},
   "outputs": [],
   "source": []
  },
  {
   "cell_type": "code",
   "execution_count": 25,
   "id": "bfb91d23",
   "metadata": {},
   "outputs": [
    {
     "data": {
      "text/html": [
       "<table>\n",
       "<thead><tr><th scope=col>MONTH_YEAR</th><th scope=col>YEAR</th><th scope=col>MONTH</th><th scope=col>CHANNEL</th><th scope=col>Avg_selling_price</th><th scope=col>Discount_percent</th><th scope=col>B1_NIELSEN_ABS_TDP_ND</th><th scope=col>B1_NIELSEN_ABS_TDP_WD</th><th scope=col>B1_NIELSEN_ND</th><th scope=col>B1_NIELSEN_WD</th><th scope=col>Corrected_Volume</th></tr></thead>\n",
       "<tbody>\n",
       "\t<tr><td>2018-01-01             </td><td>2018                   </td><td>1                      </td><td>MINIMARKET/SELF SERVICE</td><td>39.51923               </td><td>0.07183892             </td><td>1197.817               </td><td>1485.939               </td><td>93.4411                </td><td>99.2707                </td><td>835.1155               </td></tr>\n",
       "\t<tr><td>2018-02-01             </td><td>2018                   </td><td>2                      </td><td>MINIMARKET/SELF SERVICE</td><td>39.96751               </td><td>0.07232309             </td><td>1159.026               </td><td>1427.133               </td><td>95.0123                </td><td>99.3042                </td><td>774.1404               </td></tr>\n",
       "\t<tr><td>2018-03-01             </td><td>2018                   </td><td>3                      </td><td>MINIMARKET/SELF SERVICE</td><td>39.60994               </td><td>0.10334766             </td><td>1245.945               </td><td>1534.842               </td><td>95.6716                </td><td>99.3408                </td><td>925.5180               </td></tr>\n",
       "\t<tr><td>2018-04-01             </td><td>2018                   </td><td>4                      </td><td>MINIMARKET/SELF SERVICE</td><td>39.59497               </td><td>0.09605361             </td><td>1258.732               </td><td>1555.042               </td><td>96.2691                </td><td>99.5732                </td><td>947.0378               </td></tr>\n",
       "\t<tr><td>2018-05-01             </td><td>2018                   </td><td>5                      </td><td>MINIMARKET/SELF SERVICE</td><td>40.70997               </td><td>0.11387929             </td><td>1281.986               </td><td>1577.628               </td><td>95.7646                </td><td>99.4477                </td><td>952.1822               </td></tr>\n",
       "\t<tr><td>2018-06-01             </td><td>2018                   </td><td>6                      </td><td>MINIMARKET/SELF SERVICE</td><td>40.67069               </td><td>0.07993248             </td><td>1232.130               </td><td>1483.458               </td><td>94.7312                </td><td>99.3201                </td><td>766.2630               </td></tr>\n",
       "</tbody>\n",
       "</table>\n"
      ],
      "text/latex": [
       "\\begin{tabular}{r|lllllllllll}\n",
       " MONTH\\_YEAR & YEAR & MONTH & CHANNEL & Avg\\_selling\\_price & Discount\\_percent & B1\\_NIELSEN\\_ABS\\_TDP\\_ND & B1\\_NIELSEN\\_ABS\\_TDP\\_WD & B1\\_NIELSEN\\_ND & B1\\_NIELSEN\\_WD & Corrected\\_Volume\\\\\n",
       "\\hline\n",
       "\t 2018-01-01              & 2018                    & 1                       & MINIMARKET/SELF SERVICE & 39.51923                & 0.07183892              & 1197.817                & 1485.939                & 93.4411                 & 99.2707                 & 835.1155               \\\\\n",
       "\t 2018-02-01              & 2018                    & 2                       & MINIMARKET/SELF SERVICE & 39.96751                & 0.07232309              & 1159.026                & 1427.133                & 95.0123                 & 99.3042                 & 774.1404               \\\\\n",
       "\t 2018-03-01              & 2018                    & 3                       & MINIMARKET/SELF SERVICE & 39.60994                & 0.10334766              & 1245.945                & 1534.842                & 95.6716                 & 99.3408                 & 925.5180               \\\\\n",
       "\t 2018-04-01              & 2018                    & 4                       & MINIMARKET/SELF SERVICE & 39.59497                & 0.09605361              & 1258.732                & 1555.042                & 96.2691                 & 99.5732                 & 947.0378               \\\\\n",
       "\t 2018-05-01              & 2018                    & 5                       & MINIMARKET/SELF SERVICE & 40.70997                & 0.11387929              & 1281.986                & 1577.628                & 95.7646                 & 99.4477                 & 952.1822               \\\\\n",
       "\t 2018-06-01              & 2018                    & 6                       & MINIMARKET/SELF SERVICE & 40.67069                & 0.07993248              & 1232.130                & 1483.458                & 94.7312                 & 99.3201                 & 766.2630               \\\\\n",
       "\\end{tabular}\n"
      ],
      "text/markdown": [
       "\n",
       "| MONTH_YEAR | YEAR | MONTH | CHANNEL | Avg_selling_price | Discount_percent | B1_NIELSEN_ABS_TDP_ND | B1_NIELSEN_ABS_TDP_WD | B1_NIELSEN_ND | B1_NIELSEN_WD | Corrected_Volume |\n",
       "|---|---|---|---|---|---|---|---|---|---|---|\n",
       "| 2018-01-01              | 2018                    | 1                       | MINIMARKET/SELF SERVICE | 39.51923                | 0.07183892              | 1197.817                | 1485.939                | 93.4411                 | 99.2707                 | 835.1155                |\n",
       "| 2018-02-01              | 2018                    | 2                       | MINIMARKET/SELF SERVICE | 39.96751                | 0.07232309              | 1159.026                | 1427.133                | 95.0123                 | 99.3042                 | 774.1404                |\n",
       "| 2018-03-01              | 2018                    | 3                       | MINIMARKET/SELF SERVICE | 39.60994                | 0.10334766              | 1245.945                | 1534.842                | 95.6716                 | 99.3408                 | 925.5180                |\n",
       "| 2018-04-01              | 2018                    | 4                       | MINIMARKET/SELF SERVICE | 39.59497                | 0.09605361              | 1258.732                | 1555.042                | 96.2691                 | 99.5732                 | 947.0378                |\n",
       "| 2018-05-01              | 2018                    | 5                       | MINIMARKET/SELF SERVICE | 40.70997                | 0.11387929              | 1281.986                | 1577.628                | 95.7646                 | 99.4477                 | 952.1822                |\n",
       "| 2018-06-01              | 2018                    | 6                       | MINIMARKET/SELF SERVICE | 40.67069                | 0.07993248              | 1232.130                | 1483.458                | 94.7312                 | 99.3201                 | 766.2630                |\n",
       "\n"
      ],
      "text/plain": [
       "  MONTH_YEAR YEAR MONTH CHANNEL                 Avg_selling_price\n",
       "1 2018-01-01 2018 1     MINIMARKET/SELF SERVICE 39.51923         \n",
       "2 2018-02-01 2018 2     MINIMARKET/SELF SERVICE 39.96751         \n",
       "3 2018-03-01 2018 3     MINIMARKET/SELF SERVICE 39.60994         \n",
       "4 2018-04-01 2018 4     MINIMARKET/SELF SERVICE 39.59497         \n",
       "5 2018-05-01 2018 5     MINIMARKET/SELF SERVICE 40.70997         \n",
       "6 2018-06-01 2018 6     MINIMARKET/SELF SERVICE 40.67069         \n",
       "  Discount_percent B1_NIELSEN_ABS_TDP_ND B1_NIELSEN_ABS_TDP_WD B1_NIELSEN_ND\n",
       "1 0.07183892       1197.817              1485.939              93.4411      \n",
       "2 0.07232309       1159.026              1427.133              95.0123      \n",
       "3 0.10334766       1245.945              1534.842              95.6716      \n",
       "4 0.09605361       1258.732              1555.042              96.2691      \n",
       "5 0.11387929       1281.986              1577.628              95.7646      \n",
       "6 0.07993248       1232.130              1483.458              94.7312      \n",
       "  B1_NIELSEN_WD Corrected_Volume\n",
       "1 99.2707       835.1155        \n",
       "2 99.3042       774.1404        \n",
       "3 99.3408       925.5180        \n",
       "4 99.5732       947.0378        \n",
       "5 99.4477       952.1822        \n",
       "6 99.3201       766.2630        "
      ]
     },
     "metadata": {},
     "output_type": "display_data"
    }
   ],
   "source": [
    "ship = shipment[c('MONTH_YEAR','YEAR', 'MONTH', 'CHANNEL', 'Avg_selling_price', 'Discount_percent', 'B1_NIELSEN_ABS_TDP_ND', \n",
    "                  'B1_NIELSEN_ABS_TDP_WD', 'B1_NIELSEN_ND', 'B1_NIELSEN_WD', 'Corrected_Volume')]\n",
    "\n",
    "head(ship)"
   ]
  },
  {
   "cell_type": "code",
   "execution_count": 26,
   "id": "de30b059",
   "metadata": {},
   "outputs": [],
   "source": [
    "names(ship)[names(ship) == 'YEAR'] <- 'Year'\n",
    "\n",
    "names(ship)[names(ship) == 'MONTH'] <- 'Month'\n"
   ]
  },
  {
   "cell_type": "code",
   "execution_count": 27,
   "id": "5cd0cc04",
   "metadata": {},
   "outputs": [
    {
     "data": {
      "text/html": [
       "<table>\n",
       "<thead><tr><th scope=col>Year</th><th scope=col>Month</th><th scope=col>tv_spends</th><th scope=col>GRP</th></tr></thead>\n",
       "<tbody>\n",
       "\t<tr><td>2018     </td><td>1        </td><td> 509158.7</td><td>1507.403 </td></tr>\n",
       "\t<tr><td>2018     </td><td>2        </td><td> 167309.6</td><td>1011.356 </td></tr>\n",
       "\t<tr><td>2018     </td><td>3        </td><td>1015164.0</td><td>3160.615 </td></tr>\n",
       "\t<tr><td>2018     </td><td>4        </td><td>1289588.0</td><td>3575.840 </td></tr>\n",
       "\t<tr><td>2018     </td><td>5        </td><td> 577394.8</td><td>1508.846 </td></tr>\n",
       "\t<tr><td>2018     </td><td>6        </td><td>2379346.6</td><td>2491.533 </td></tr>\n",
       "</tbody>\n",
       "</table>\n"
      ],
      "text/latex": [
       "\\begin{tabular}{r|llll}\n",
       " Year & Month & tv\\_spends & GRP\\\\\n",
       "\\hline\n",
       "\t 2018      & 1         &  509158.7 & 1507.403 \\\\\n",
       "\t 2018      & 2         &  167309.6 & 1011.356 \\\\\n",
       "\t 2018      & 3         & 1015164.0 & 3160.615 \\\\\n",
       "\t 2018      & 4         & 1289588.0 & 3575.840 \\\\\n",
       "\t 2018      & 5         &  577394.8 & 1508.846 \\\\\n",
       "\t 2018      & 6         & 2379346.6 & 2491.533 \\\\\n",
       "\\end{tabular}\n"
      ],
      "text/markdown": [
       "\n",
       "| Year | Month | tv_spends | GRP |\n",
       "|---|---|---|---|\n",
       "| 2018      | 1         |  509158.7 | 1507.403  |\n",
       "| 2018      | 2         |  167309.6 | 1011.356  |\n",
       "| 2018      | 3         | 1015164.0 | 3160.615  |\n",
       "| 2018      | 4         | 1289588.0 | 3575.840  |\n",
       "| 2018      | 5         |  577394.8 | 1508.846  |\n",
       "| 2018      | 6         | 2379346.6 | 2491.533  |\n",
       "\n"
      ],
      "text/plain": [
       "  Year Month tv_spends GRP     \n",
       "1 2018 1      509158.7 1507.403\n",
       "2 2018 2      167309.6 1011.356\n",
       "3 2018 3     1015164.0 3160.615\n",
       "4 2018 4     1289588.0 3575.840\n",
       "5 2018 5      577394.8 1508.846\n",
       "6 2018 6     2379346.6 2491.533"
      ]
     },
     "metadata": {},
     "output_type": "display_data"
    }
   ],
   "source": [
    "head(a)"
   ]
  },
  {
   "cell_type": "code",
   "execution_count": 28,
   "id": "6b4841cd",
   "metadata": {},
   "outputs": [
    {
     "data": {
      "text/html": [
       "<table>\n",
       "<thead><tr><th scope=col>Year</th><th scope=col>Month</th><th scope=col>MONTH_YEAR</th><th scope=col>CHANNEL</th><th scope=col>Avg_selling_price</th><th scope=col>Discount_percent</th><th scope=col>B1_NIELSEN_ABS_TDP_ND</th><th scope=col>B1_NIELSEN_ABS_TDP_WD</th><th scope=col>B1_NIELSEN_ND</th><th scope=col>B1_NIELSEN_WD</th><th scope=col>Corrected_Volume</th><th scope=col>tv_spends</th><th scope=col>GRP</th></tr></thead>\n",
       "<tbody>\n",
       "\t<tr><td>2018                   </td><td>1                      </td><td>2018-01-01             </td><td>MINIMARKET/SELF SERVICE</td><td>39.51923               </td><td>0.07183892             </td><td>1197.8169              </td><td>1485.939               </td><td> 93.4411               </td><td> 99.2707               </td><td> 835.1155              </td><td>509158.7               </td><td>1507.403               </td></tr>\n",
       "\t<tr><td>2018                   </td><td>1                      </td><td>2018-01-01             </td><td>TRADITIONAL TRADE      </td><td>39.29161               </td><td>0.07677612             </td><td>1709.0011              </td><td>2433.886               </td><td> 89.2726               </td><td> 99.0985               </td><td>2356.0462              </td><td>509158.7               </td><td>1507.403               </td></tr>\n",
       "\t<tr><td>2018                   </td><td>1                      </td><td>2018-01-01             </td><td>NATIONAL               </td><td>38.86158               </td><td>0.10470124             </td><td> 979.6539              </td><td>1506.198               </td><td> 88.2747               </td><td> 99.2683               </td><td>3712.3501              </td><td>509158.7               </td><td>1507.403               </td></tr>\n",
       "\t<tr><td>2018                   </td><td>1                      </td><td>2018-01-01             </td><td>SUPERMARKETS           </td><td>37.13494               </td><td>0.30657942             </td><td>1745.7119              </td><td>1876.192               </td><td> 98.5919               </td><td> 99.9903               </td><td> 521.1885              </td><td>509158.7               </td><td>1507.403               </td></tr>\n",
       "\t<tr><td>2018                   </td><td>2                      </td><td>2018-02-01             </td><td>NATIONAL               </td><td>38.42603               </td><td>0.11226216             </td><td> 928.1955              </td><td>1452.975               </td><td> 89.7091               </td><td> 99.1820               </td><td>3476.5452              </td><td>167309.6               </td><td>1011.356               </td></tr>\n",
       "\t<tr><td>2018                   </td><td>2                      </td><td>2018-02-01             </td><td>SUPERMARKETS           </td><td>35.50799               </td><td>0.30728774             </td><td>1751.8780              </td><td>1878.786               </td><td>100.0000               </td><td>100.0000               </td><td> 571.3434              </td><td>167309.6               </td><td>1011.356               </td></tr>\n",
       "</tbody>\n",
       "</table>\n"
      ],
      "text/latex": [
       "\\begin{tabular}{r|lllllllllllll}\n",
       " Year & Month & MONTH\\_YEAR & CHANNEL & Avg\\_selling\\_price & Discount\\_percent & B1\\_NIELSEN\\_ABS\\_TDP\\_ND & B1\\_NIELSEN\\_ABS\\_TDP\\_WD & B1\\_NIELSEN\\_ND & B1\\_NIELSEN\\_WD & Corrected\\_Volume & tv\\_spends & GRP\\\\\n",
       "\\hline\n",
       "\t 2018                    & 1                       & 2018-01-01              & MINIMARKET/SELF SERVICE & 39.51923                & 0.07183892              & 1197.8169               & 1485.939                &  93.4411                &  99.2707                &  835.1155               & 509158.7                & 1507.403               \\\\\n",
       "\t 2018                    & 1                       & 2018-01-01              & TRADITIONAL TRADE       & 39.29161                & 0.07677612              & 1709.0011               & 2433.886                &  89.2726                &  99.0985                & 2356.0462               & 509158.7                & 1507.403               \\\\\n",
       "\t 2018                    & 1                       & 2018-01-01              & NATIONAL                & 38.86158                & 0.10470124              &  979.6539               & 1506.198                &  88.2747                &  99.2683                & 3712.3501               & 509158.7                & 1507.403               \\\\\n",
       "\t 2018                    & 1                       & 2018-01-01              & SUPERMARKETS            & 37.13494                & 0.30657942              & 1745.7119               & 1876.192                &  98.5919                &  99.9903                &  521.1885               & 509158.7                & 1507.403               \\\\\n",
       "\t 2018                    & 2                       & 2018-02-01              & NATIONAL                & 38.42603                & 0.11226216              &  928.1955               & 1452.975                &  89.7091                &  99.1820                & 3476.5452               & 167309.6                & 1011.356               \\\\\n",
       "\t 2018                    & 2                       & 2018-02-01              & SUPERMARKETS            & 35.50799                & 0.30728774              & 1751.8780               & 1878.786                & 100.0000                & 100.0000                &  571.3434               & 167309.6                & 1011.356               \\\\\n",
       "\\end{tabular}\n"
      ],
      "text/markdown": [
       "\n",
       "| Year | Month | MONTH_YEAR | CHANNEL | Avg_selling_price | Discount_percent | B1_NIELSEN_ABS_TDP_ND | B1_NIELSEN_ABS_TDP_WD | B1_NIELSEN_ND | B1_NIELSEN_WD | Corrected_Volume | tv_spends | GRP |\n",
       "|---|---|---|---|---|---|---|---|---|---|---|---|---|\n",
       "| 2018                    | 1                       | 2018-01-01              | MINIMARKET/SELF SERVICE | 39.51923                | 0.07183892              | 1197.8169               | 1485.939                |  93.4411                |  99.2707                |  835.1155               | 509158.7                | 1507.403                |\n",
       "| 2018                    | 1                       | 2018-01-01              | TRADITIONAL TRADE       | 39.29161                | 0.07677612              | 1709.0011               | 2433.886                |  89.2726                |  99.0985                | 2356.0462               | 509158.7                | 1507.403                |\n",
       "| 2018                    | 1                       | 2018-01-01              | NATIONAL                | 38.86158                | 0.10470124              |  979.6539               | 1506.198                |  88.2747                |  99.2683                | 3712.3501               | 509158.7                | 1507.403                |\n",
       "| 2018                    | 1                       | 2018-01-01              | SUPERMARKETS            | 37.13494                | 0.30657942              | 1745.7119               | 1876.192                |  98.5919                |  99.9903                |  521.1885               | 509158.7                | 1507.403                |\n",
       "| 2018                    | 2                       | 2018-02-01              | NATIONAL                | 38.42603                | 0.11226216              |  928.1955               | 1452.975                |  89.7091                |  99.1820                | 3476.5452               | 167309.6                | 1011.356                |\n",
       "| 2018                    | 2                       | 2018-02-01              | SUPERMARKETS            | 35.50799                | 0.30728774              | 1751.8780               | 1878.786                | 100.0000                | 100.0000                |  571.3434               | 167309.6                | 1011.356                |\n",
       "\n"
      ],
      "text/plain": [
       "  Year Month MONTH_YEAR CHANNEL                 Avg_selling_price\n",
       "1 2018 1     2018-01-01 MINIMARKET/SELF SERVICE 39.51923         \n",
       "2 2018 1     2018-01-01 TRADITIONAL TRADE       39.29161         \n",
       "3 2018 1     2018-01-01 NATIONAL                38.86158         \n",
       "4 2018 1     2018-01-01 SUPERMARKETS            37.13494         \n",
       "5 2018 2     2018-02-01 NATIONAL                38.42603         \n",
       "6 2018 2     2018-02-01 SUPERMARKETS            35.50799         \n",
       "  Discount_percent B1_NIELSEN_ABS_TDP_ND B1_NIELSEN_ABS_TDP_WD B1_NIELSEN_ND\n",
       "1 0.07183892       1197.8169             1485.939               93.4411     \n",
       "2 0.07677612       1709.0011             2433.886               89.2726     \n",
       "3 0.10470124        979.6539             1506.198               88.2747     \n",
       "4 0.30657942       1745.7119             1876.192               98.5919     \n",
       "5 0.11226216        928.1955             1452.975               89.7091     \n",
       "6 0.30728774       1751.8780             1878.786              100.0000     \n",
       "  B1_NIELSEN_WD Corrected_Volume tv_spends GRP     \n",
       "1  99.2707       835.1155        509158.7  1507.403\n",
       "2  99.0985      2356.0462        509158.7  1507.403\n",
       "3  99.2683      3712.3501        509158.7  1507.403\n",
       "4  99.9903       521.1885        509158.7  1507.403\n",
       "5  99.1820      3476.5452        167309.6  1011.356\n",
       "6 100.0000       571.3434        167309.6  1011.356"
      ]
     },
     "metadata": {},
     "output_type": "display_data"
    }
   ],
   "source": [
    "df1 = merge(ship,a, by= c('Year', 'Month'),  all.x = TRUE)\n",
    "\n",
    "head(df1)"
   ]
  },
  {
   "cell_type": "code",
   "execution_count": 29,
   "id": "03f6cb19",
   "metadata": {},
   "outputs": [
    {
     "data": {
      "text/html": [
       "<ol class=list-inline>\n",
       "\t<li>164</li>\n",
       "\t<li>13</li>\n",
       "</ol>\n"
      ],
      "text/latex": [
       "\\begin{enumerate*}\n",
       "\\item 164\n",
       "\\item 13\n",
       "\\end{enumerate*}\n"
      ],
      "text/markdown": [
       "1. 164\n",
       "2. 13\n",
       "\n",
       "\n"
      ],
      "text/plain": [
       "[1] 164  13"
      ]
     },
     "metadata": {},
     "output_type": "display_data"
    }
   ],
   "source": [
    "dim(df1)"
   ]
  },
  {
   "cell_type": "code",
   "execution_count": null,
   "id": "c05e7ef3",
   "metadata": {},
   "outputs": [],
   "source": []
  },
  {
   "cell_type": "code",
   "execution_count": 30,
   "id": "debda062",
   "metadata": {},
   "outputs": [
    {
     "data": {
      "text/html": [
       "<table>\n",
       "<thead><tr><th scope=col>Year</th><th scope=col>Month</th><th scope=col>MONTH_YEAR</th><th scope=col>CHANNEL</th><th scope=col>Avg_selling_price</th><th scope=col>Discount_percent</th><th scope=col>B1_NIELSEN_ABS_TDP_ND</th><th scope=col>B1_NIELSEN_ABS_TDP_WD</th><th scope=col>B1_NIELSEN_ND</th><th scope=col>B1_NIELSEN_WD</th><th scope=col>Corrected_Volume</th><th scope=col>tv_spends</th><th scope=col>GRP</th><th scope=col>dig_views</th><th scope=col>dig_completed_views</th><th scope=col>dig_Impressions</th><th scope=col>dig_Engagement</th><th scope=col>dig_Clicks</th><th scope=col>dig_Spends</th></tr></thead>\n",
       "<tbody>\n",
       "\t<tr><td>2018                   </td><td>1                      </td><td>2018-01-01             </td><td>MINIMARKET/SELF SERVICE</td><td>39.51923               </td><td>0.07183892             </td><td>1197.8169              </td><td>1485.939               </td><td>93.4411                </td><td>99.2707                </td><td> 835.1155              </td><td>509158.7               </td><td>1507.403               </td><td>    NA                 </td><td>    NA                 </td><td>     NA                </td><td>NA                     </td><td>NA                     </td><td>     NA                </td></tr>\n",
       "\t<tr><td>2018                   </td><td>1                      </td><td>2018-01-01             </td><td>TRADITIONAL TRADE      </td><td>39.29161               </td><td>0.07677612             </td><td>1709.0011              </td><td>2433.886               </td><td>89.2726                </td><td>99.0985                </td><td>2356.0462              </td><td>509158.7               </td><td>1507.403               </td><td>    NA                 </td><td>    NA                 </td><td>     NA                </td><td>NA                     </td><td>NA                     </td><td>     NA                </td></tr>\n",
       "\t<tr><td>2018                   </td><td>1                      </td><td>2018-01-01             </td><td>NATIONAL               </td><td>38.86158               </td><td>0.10470124             </td><td> 979.6539              </td><td>1506.198               </td><td>88.2747                </td><td>99.2683                </td><td>3712.3501              </td><td>509158.7               </td><td>1507.403               </td><td>    NA                 </td><td>    NA                 </td><td>     NA                </td><td>NA                     </td><td>NA                     </td><td>     NA                </td></tr>\n",
       "\t<tr><td>2018                   </td><td>1                      </td><td>2018-01-01             </td><td>SUPERMARKETS           </td><td>37.13494               </td><td>0.30657942             </td><td>1745.7119              </td><td>1876.192               </td><td>98.5919                </td><td>99.9903                </td><td> 521.1885              </td><td>509158.7               </td><td>1507.403               </td><td>    NA                 </td><td>    NA                 </td><td>     NA                </td><td>NA                     </td><td>NA                     </td><td>     NA                </td></tr>\n",
       "\t<tr><td>2018                   </td><td>2                      </td><td>2018-02-01             </td><td>TRADITIONAL TRADE      </td><td>39.17436               </td><td>0.07899075             </td><td>1594.1895              </td><td>2260.825               </td><td>91.4898                </td><td>98.8824                </td><td>2131.0614              </td><td>167309.6               </td><td>1011.356               </td><td>474414                 </td><td>102222                 </td><td>2157384                </td><td> 0                     </td><td> 0                     </td><td>2808.57                </td></tr>\n",
       "\t<tr><td>2018                   </td><td>2                      </td><td>2018-02-01             </td><td>MINIMARKET/SELF SERVICE</td><td>39.96751               </td><td>0.07232309             </td><td>1159.0257              </td><td>1427.133               </td><td>95.0123                </td><td>99.3042                </td><td> 774.1404              </td><td>167309.6               </td><td>1011.356               </td><td>474414                 </td><td>102222                 </td><td>2157384                </td><td> 0                     </td><td> 0                     </td><td>2808.57                </td></tr>\n",
       "</tbody>\n",
       "</table>\n"
      ],
      "text/latex": [
       "\\begin{tabular}{r|lllllllllllllllllll}\n",
       " Year & Month & MONTH\\_YEAR & CHANNEL & Avg\\_selling\\_price & Discount\\_percent & B1\\_NIELSEN\\_ABS\\_TDP\\_ND & B1\\_NIELSEN\\_ABS\\_TDP\\_WD & B1\\_NIELSEN\\_ND & B1\\_NIELSEN\\_WD & Corrected\\_Volume & tv\\_spends & GRP & dig\\_views & dig\\_completed\\_views & dig\\_Impressions & dig\\_Engagement & dig\\_Clicks & dig\\_Spends\\\\\n",
       "\\hline\n",
       "\t 2018                    & 1                       & 2018-01-01              & MINIMARKET/SELF SERVICE & 39.51923                & 0.07183892              & 1197.8169               & 1485.939                & 93.4411                 & 99.2707                 &  835.1155               & 509158.7                & 1507.403                &     NA                  &     NA                  &      NA                 & NA                      & NA                      &      NA                \\\\\n",
       "\t 2018                    & 1                       & 2018-01-01              & TRADITIONAL TRADE       & 39.29161                & 0.07677612              & 1709.0011               & 2433.886                & 89.2726                 & 99.0985                 & 2356.0462               & 509158.7                & 1507.403                &     NA                  &     NA                  &      NA                 & NA                      & NA                      &      NA                \\\\\n",
       "\t 2018                    & 1                       & 2018-01-01              & NATIONAL                & 38.86158                & 0.10470124              &  979.6539               & 1506.198                & 88.2747                 & 99.2683                 & 3712.3501               & 509158.7                & 1507.403                &     NA                  &     NA                  &      NA                 & NA                      & NA                      &      NA                \\\\\n",
       "\t 2018                    & 1                       & 2018-01-01              & SUPERMARKETS            & 37.13494                & 0.30657942              & 1745.7119               & 1876.192                & 98.5919                 & 99.9903                 &  521.1885               & 509158.7                & 1507.403                &     NA                  &     NA                  &      NA                 & NA                      & NA                      &      NA                \\\\\n",
       "\t 2018                    & 2                       & 2018-02-01              & TRADITIONAL TRADE       & 39.17436                & 0.07899075              & 1594.1895               & 2260.825                & 91.4898                 & 98.8824                 & 2131.0614               & 167309.6                & 1011.356                & 474414                  & 102222                  & 2157384                 &  0                      &  0                      & 2808.57                \\\\\n",
       "\t 2018                    & 2                       & 2018-02-01              & MINIMARKET/SELF SERVICE & 39.96751                & 0.07232309              & 1159.0257               & 1427.133                & 95.0123                 & 99.3042                 &  774.1404               & 167309.6                & 1011.356                & 474414                  & 102222                  & 2157384                 &  0                      &  0                      & 2808.57                \\\\\n",
       "\\end{tabular}\n"
      ],
      "text/markdown": [
       "\n",
       "| Year | Month | MONTH_YEAR | CHANNEL | Avg_selling_price | Discount_percent | B1_NIELSEN_ABS_TDP_ND | B1_NIELSEN_ABS_TDP_WD | B1_NIELSEN_ND | B1_NIELSEN_WD | Corrected_Volume | tv_spends | GRP | dig_views | dig_completed_views | dig_Impressions | dig_Engagement | dig_Clicks | dig_Spends |\n",
       "|---|---|---|---|---|---|---|---|---|---|---|---|---|---|---|---|---|---|---|\n",
       "| 2018                    | 1                       | 2018-01-01              | MINIMARKET/SELF SERVICE | 39.51923                | 0.07183892              | 1197.8169               | 1485.939                | 93.4411                 | 99.2707                 |  835.1155               | 509158.7                | 1507.403                |     NA                  |     NA                  |      NA                 | NA                      | NA                      |      NA                 |\n",
       "| 2018                    | 1                       | 2018-01-01              | TRADITIONAL TRADE       | 39.29161                | 0.07677612              | 1709.0011               | 2433.886                | 89.2726                 | 99.0985                 | 2356.0462               | 509158.7                | 1507.403                |     NA                  |     NA                  |      NA                 | NA                      | NA                      |      NA                 |\n",
       "| 2018                    | 1                       | 2018-01-01              | NATIONAL                | 38.86158                | 0.10470124              |  979.6539               | 1506.198                | 88.2747                 | 99.2683                 | 3712.3501               | 509158.7                | 1507.403                |     NA                  |     NA                  |      NA                 | NA                      | NA                      |      NA                 |\n",
       "| 2018                    | 1                       | 2018-01-01              | SUPERMARKETS            | 37.13494                | 0.30657942              | 1745.7119               | 1876.192                | 98.5919                 | 99.9903                 |  521.1885               | 509158.7                | 1507.403                |     NA                  |     NA                  |      NA                 | NA                      | NA                      |      NA                 |\n",
       "| 2018                    | 2                       | 2018-02-01              | TRADITIONAL TRADE       | 39.17436                | 0.07899075              | 1594.1895               | 2260.825                | 91.4898                 | 98.8824                 | 2131.0614               | 167309.6                | 1011.356                | 474414                  | 102222                  | 2157384                 |  0                      |  0                      | 2808.57                 |\n",
       "| 2018                    | 2                       | 2018-02-01              | MINIMARKET/SELF SERVICE | 39.96751                | 0.07232309              | 1159.0257               | 1427.133                | 95.0123                 | 99.3042                 |  774.1404               | 167309.6                | 1011.356                | 474414                  | 102222                  | 2157384                 |  0                      |  0                      | 2808.57                 |\n",
       "\n"
      ],
      "text/plain": [
       "  Year Month MONTH_YEAR CHANNEL                 Avg_selling_price\n",
       "1 2018 1     2018-01-01 MINIMARKET/SELF SERVICE 39.51923         \n",
       "2 2018 1     2018-01-01 TRADITIONAL TRADE       39.29161         \n",
       "3 2018 1     2018-01-01 NATIONAL                38.86158         \n",
       "4 2018 1     2018-01-01 SUPERMARKETS            37.13494         \n",
       "5 2018 2     2018-02-01 TRADITIONAL TRADE       39.17436         \n",
       "6 2018 2     2018-02-01 MINIMARKET/SELF SERVICE 39.96751         \n",
       "  Discount_percent B1_NIELSEN_ABS_TDP_ND B1_NIELSEN_ABS_TDP_WD B1_NIELSEN_ND\n",
       "1 0.07183892       1197.8169             1485.939              93.4411      \n",
       "2 0.07677612       1709.0011             2433.886              89.2726      \n",
       "3 0.10470124        979.6539             1506.198              88.2747      \n",
       "4 0.30657942       1745.7119             1876.192              98.5919      \n",
       "5 0.07899075       1594.1895             2260.825              91.4898      \n",
       "6 0.07232309       1159.0257             1427.133              95.0123      \n",
       "  B1_NIELSEN_WD Corrected_Volume tv_spends GRP      dig_views\n",
       "1 99.2707        835.1155        509158.7  1507.403     NA   \n",
       "2 99.0985       2356.0462        509158.7  1507.403     NA   \n",
       "3 99.2683       3712.3501        509158.7  1507.403     NA   \n",
       "4 99.9903        521.1885        509158.7  1507.403     NA   \n",
       "5 98.8824       2131.0614        167309.6  1011.356 474414   \n",
       "6 99.3042        774.1404        167309.6  1011.356 474414   \n",
       "  dig_completed_views dig_Impressions dig_Engagement dig_Clicks dig_Spends\n",
       "1     NA                   NA         NA             NA              NA   \n",
       "2     NA                   NA         NA             NA              NA   \n",
       "3     NA                   NA         NA             NA              NA   \n",
       "4     NA                   NA         NA             NA              NA   \n",
       "5 102222              2157384          0              0         2808.57   \n",
       "6 102222              2157384          0              0         2808.57   "
      ]
     },
     "metadata": {},
     "output_type": "display_data"
    }
   ],
   "source": [
    "df2 = merge(df1,b, by= c('Year', 'Month'),  all.x = TRUE)\n",
    "\n",
    "head(df2)"
   ]
  },
  {
   "cell_type": "code",
   "execution_count": 31,
   "id": "2bf2c3ee",
   "metadata": {},
   "outputs": [
    {
     "data": {
      "text/html": [
       "<ol class=list-inline>\n",
       "\t<li>164</li>\n",
       "\t<li>19</li>\n",
       "</ol>\n"
      ],
      "text/latex": [
       "\\begin{enumerate*}\n",
       "\\item 164\n",
       "\\item 19\n",
       "\\end{enumerate*}\n"
      ],
      "text/markdown": [
       "1. 164\n",
       "2. 19\n",
       "\n",
       "\n"
      ],
      "text/plain": [
       "[1] 164  19"
      ]
     },
     "metadata": {},
     "output_type": "display_data"
    }
   ],
   "source": [
    "dim(df2)"
   ]
  },
  {
   "cell_type": "code",
   "execution_count": null,
   "id": "7920154c",
   "metadata": {},
   "outputs": [],
   "source": []
  },
  {
   "cell_type": "code",
   "execution_count": 32,
   "id": "dfeaa08c",
   "metadata": {},
   "outputs": [
    {
     "data": {
      "text/html": [
       "<table>\n",
       "<thead><tr><th scope=col>Year</th><th scope=col>Month</th><th scope=col>MONTH_YEAR</th><th scope=col>CHANNEL</th><th scope=col>Avg_selling_price</th><th scope=col>Discount_percent</th><th scope=col>B1_NIELSEN_ABS_TDP_ND</th><th scope=col>B1_NIELSEN_ABS_TDP_WD</th><th scope=col>B1_NIELSEN_ND</th><th scope=col>B1_NIELSEN_WD</th><th scope=col>Corrected_Volume</th><th scope=col>tv_spends</th><th scope=col>GRP</th><th scope=col>dig_views</th><th scope=col>dig_completed_views</th><th scope=col>dig_Impressions</th><th scope=col>dig_Engagement</th><th scope=col>dig_Clicks</th><th scope=col>dig_Spends</th><th scope=col>ooh_Spends</th></tr></thead>\n",
       "<tbody>\n",
       "\t<tr><td>2018                   </td><td>1                      </td><td>2018-01-01             </td><td>MINIMARKET/SELF SERVICE</td><td>39.51923               </td><td>0.07183892             </td><td>1197.8169              </td><td>1485.939               </td><td>93.4411                </td><td>99.2707                </td><td> 835.1155              </td><td>509158.7               </td><td>1507.403               </td><td>    NA                 </td><td>    NA                 </td><td>     NA                </td><td>NA                     </td><td>NA                     </td><td>     NA                </td><td>NA                     </td></tr>\n",
       "\t<tr><td>2018                   </td><td>1                      </td><td>2018-01-01             </td><td>TRADITIONAL TRADE      </td><td>39.29161               </td><td>0.07677612             </td><td>1709.0011              </td><td>2433.886               </td><td>89.2726                </td><td>99.0985                </td><td>2356.0462              </td><td>509158.7               </td><td>1507.403               </td><td>    NA                 </td><td>    NA                 </td><td>     NA                </td><td>NA                     </td><td>NA                     </td><td>     NA                </td><td>NA                     </td></tr>\n",
       "\t<tr><td>2018                   </td><td>1                      </td><td>2018-01-01             </td><td>NATIONAL               </td><td>38.86158               </td><td>0.10470124             </td><td> 979.6539              </td><td>1506.198               </td><td>88.2747                </td><td>99.2683                </td><td>3712.3501              </td><td>509158.7               </td><td>1507.403               </td><td>    NA                 </td><td>    NA                 </td><td>     NA                </td><td>NA                     </td><td>NA                     </td><td>     NA                </td><td>NA                     </td></tr>\n",
       "\t<tr><td>2018                   </td><td>1                      </td><td>2018-01-01             </td><td>SUPERMARKETS           </td><td>37.13494               </td><td>0.30657942             </td><td>1745.7119              </td><td>1876.192               </td><td>98.5919                </td><td>99.9903                </td><td> 521.1885              </td><td>509158.7               </td><td>1507.403               </td><td>    NA                 </td><td>    NA                 </td><td>     NA                </td><td>NA                     </td><td>NA                     </td><td>     NA                </td><td>NA                     </td></tr>\n",
       "\t<tr><td>2018                   </td><td>2                      </td><td>2018-02-01             </td><td>TRADITIONAL TRADE      </td><td>39.17436               </td><td>0.07899075             </td><td>1594.1895              </td><td>2260.825               </td><td>91.4898                </td><td>98.8824                </td><td>2131.0614              </td><td>167309.6               </td><td>1011.356               </td><td>474414                 </td><td>102222                 </td><td>2157384                </td><td> 0                     </td><td> 0                     </td><td>2808.57                </td><td>NA                     </td></tr>\n",
       "\t<tr><td>2018                   </td><td>2                      </td><td>2018-02-01             </td><td>MINIMARKET/SELF SERVICE</td><td>39.96751               </td><td>0.07232309             </td><td>1159.0257              </td><td>1427.133               </td><td>95.0123                </td><td>99.3042                </td><td> 774.1404              </td><td>167309.6               </td><td>1011.356               </td><td>474414                 </td><td>102222                 </td><td>2157384                </td><td> 0                     </td><td> 0                     </td><td>2808.57                </td><td>NA                     </td></tr>\n",
       "</tbody>\n",
       "</table>\n"
      ],
      "text/latex": [
       "\\begin{tabular}{r|llllllllllllllllllll}\n",
       " Year & Month & MONTH\\_YEAR & CHANNEL & Avg\\_selling\\_price & Discount\\_percent & B1\\_NIELSEN\\_ABS\\_TDP\\_ND & B1\\_NIELSEN\\_ABS\\_TDP\\_WD & B1\\_NIELSEN\\_ND & B1\\_NIELSEN\\_WD & Corrected\\_Volume & tv\\_spends & GRP & dig\\_views & dig\\_completed\\_views & dig\\_Impressions & dig\\_Engagement & dig\\_Clicks & dig\\_Spends & ooh\\_Spends\\\\\n",
       "\\hline\n",
       "\t 2018                    & 1                       & 2018-01-01              & MINIMARKET/SELF SERVICE & 39.51923                & 0.07183892              & 1197.8169               & 1485.939                & 93.4411                 & 99.2707                 &  835.1155               & 509158.7                & 1507.403                &     NA                  &     NA                  &      NA                 & NA                      & NA                      &      NA                 & NA                     \\\\\n",
       "\t 2018                    & 1                       & 2018-01-01              & TRADITIONAL TRADE       & 39.29161                & 0.07677612              & 1709.0011               & 2433.886                & 89.2726                 & 99.0985                 & 2356.0462               & 509158.7                & 1507.403                &     NA                  &     NA                  &      NA                 & NA                      & NA                      &      NA                 & NA                     \\\\\n",
       "\t 2018                    & 1                       & 2018-01-01              & NATIONAL                & 38.86158                & 0.10470124              &  979.6539               & 1506.198                & 88.2747                 & 99.2683                 & 3712.3501               & 509158.7                & 1507.403                &     NA                  &     NA                  &      NA                 & NA                      & NA                      &      NA                 & NA                     \\\\\n",
       "\t 2018                    & 1                       & 2018-01-01              & SUPERMARKETS            & 37.13494                & 0.30657942              & 1745.7119               & 1876.192                & 98.5919                 & 99.9903                 &  521.1885               & 509158.7                & 1507.403                &     NA                  &     NA                  &      NA                 & NA                      & NA                      &      NA                 & NA                     \\\\\n",
       "\t 2018                    & 2                       & 2018-02-01              & TRADITIONAL TRADE       & 39.17436                & 0.07899075              & 1594.1895               & 2260.825                & 91.4898                 & 98.8824                 & 2131.0614               & 167309.6                & 1011.356                & 474414                  & 102222                  & 2157384                 &  0                      &  0                      & 2808.57                 & NA                     \\\\\n",
       "\t 2018                    & 2                       & 2018-02-01              & MINIMARKET/SELF SERVICE & 39.96751                & 0.07232309              & 1159.0257               & 1427.133                & 95.0123                 & 99.3042                 &  774.1404               & 167309.6                & 1011.356                & 474414                  & 102222                  & 2157384                 &  0                      &  0                      & 2808.57                 & NA                     \\\\\n",
       "\\end{tabular}\n"
      ],
      "text/markdown": [
       "\n",
       "| Year | Month | MONTH_YEAR | CHANNEL | Avg_selling_price | Discount_percent | B1_NIELSEN_ABS_TDP_ND | B1_NIELSEN_ABS_TDP_WD | B1_NIELSEN_ND | B1_NIELSEN_WD | Corrected_Volume | tv_spends | GRP | dig_views | dig_completed_views | dig_Impressions | dig_Engagement | dig_Clicks | dig_Spends | ooh_Spends |\n",
       "|---|---|---|---|---|---|---|---|---|---|---|---|---|---|---|---|---|---|---|---|\n",
       "| 2018                    | 1                       | 2018-01-01              | MINIMARKET/SELF SERVICE | 39.51923                | 0.07183892              | 1197.8169               | 1485.939                | 93.4411                 | 99.2707                 |  835.1155               | 509158.7                | 1507.403                |     NA                  |     NA                  |      NA                 | NA                      | NA                      |      NA                 | NA                      |\n",
       "| 2018                    | 1                       | 2018-01-01              | TRADITIONAL TRADE       | 39.29161                | 0.07677612              | 1709.0011               | 2433.886                | 89.2726                 | 99.0985                 | 2356.0462               | 509158.7                | 1507.403                |     NA                  |     NA                  |      NA                 | NA                      | NA                      |      NA                 | NA                      |\n",
       "| 2018                    | 1                       | 2018-01-01              | NATIONAL                | 38.86158                | 0.10470124              |  979.6539               | 1506.198                | 88.2747                 | 99.2683                 | 3712.3501               | 509158.7                | 1507.403                |     NA                  |     NA                  |      NA                 | NA                      | NA                      |      NA                 | NA                      |\n",
       "| 2018                    | 1                       | 2018-01-01              | SUPERMARKETS            | 37.13494                | 0.30657942              | 1745.7119               | 1876.192                | 98.5919                 | 99.9903                 |  521.1885               | 509158.7                | 1507.403                |     NA                  |     NA                  |      NA                 | NA                      | NA                      |      NA                 | NA                      |\n",
       "| 2018                    | 2                       | 2018-02-01              | TRADITIONAL TRADE       | 39.17436                | 0.07899075              | 1594.1895               | 2260.825                | 91.4898                 | 98.8824                 | 2131.0614               | 167309.6                | 1011.356                | 474414                  | 102222                  | 2157384                 |  0                      |  0                      | 2808.57                 | NA                      |\n",
       "| 2018                    | 2                       | 2018-02-01              | MINIMARKET/SELF SERVICE | 39.96751                | 0.07232309              | 1159.0257               | 1427.133                | 95.0123                 | 99.3042                 |  774.1404               | 167309.6                | 1011.356                | 474414                  | 102222                  | 2157384                 |  0                      |  0                      | 2808.57                 | NA                      |\n",
       "\n"
      ],
      "text/plain": [
       "  Year Month MONTH_YEAR CHANNEL                 Avg_selling_price\n",
       "1 2018 1     2018-01-01 MINIMARKET/SELF SERVICE 39.51923         \n",
       "2 2018 1     2018-01-01 TRADITIONAL TRADE       39.29161         \n",
       "3 2018 1     2018-01-01 NATIONAL                38.86158         \n",
       "4 2018 1     2018-01-01 SUPERMARKETS            37.13494         \n",
       "5 2018 2     2018-02-01 TRADITIONAL TRADE       39.17436         \n",
       "6 2018 2     2018-02-01 MINIMARKET/SELF SERVICE 39.96751         \n",
       "  Discount_percent B1_NIELSEN_ABS_TDP_ND B1_NIELSEN_ABS_TDP_WD B1_NIELSEN_ND\n",
       "1 0.07183892       1197.8169             1485.939              93.4411      \n",
       "2 0.07677612       1709.0011             2433.886              89.2726      \n",
       "3 0.10470124        979.6539             1506.198              88.2747      \n",
       "4 0.30657942       1745.7119             1876.192              98.5919      \n",
       "5 0.07899075       1594.1895             2260.825              91.4898      \n",
       "6 0.07232309       1159.0257             1427.133              95.0123      \n",
       "  B1_NIELSEN_WD Corrected_Volume tv_spends GRP      dig_views\n",
       "1 99.2707        835.1155        509158.7  1507.403     NA   \n",
       "2 99.0985       2356.0462        509158.7  1507.403     NA   \n",
       "3 99.2683       3712.3501        509158.7  1507.403     NA   \n",
       "4 99.9903        521.1885        509158.7  1507.403     NA   \n",
       "5 98.8824       2131.0614        167309.6  1011.356 474414   \n",
       "6 99.3042        774.1404        167309.6  1011.356 474414   \n",
       "  dig_completed_views dig_Impressions dig_Engagement dig_Clicks dig_Spends\n",
       "1     NA                   NA         NA             NA              NA   \n",
       "2     NA                   NA         NA             NA              NA   \n",
       "3     NA                   NA         NA             NA              NA   \n",
       "4     NA                   NA         NA             NA              NA   \n",
       "5 102222              2157384          0              0         2808.57   \n",
       "6 102222              2157384          0              0         2808.57   \n",
       "  ooh_Spends\n",
       "1 NA        \n",
       "2 NA        \n",
       "3 NA        \n",
       "4 NA        \n",
       "5 NA        \n",
       "6 NA        "
      ]
     },
     "metadata": {},
     "output_type": "display_data"
    }
   ],
   "source": [
    "df3 = merge(df2,c, by= c('Year', 'Month'),  all.x = TRUE)\n",
    "\n",
    "head(df3)"
   ]
  },
  {
   "cell_type": "code",
   "execution_count": 33,
   "id": "cd78ba71",
   "metadata": {},
   "outputs": [
    {
     "data": {
      "text/html": [
       "<ol class=list-inline>\n",
       "\t<li>164</li>\n",
       "\t<li>20</li>\n",
       "</ol>\n"
      ],
      "text/latex": [
       "\\begin{enumerate*}\n",
       "\\item 164\n",
       "\\item 20\n",
       "\\end{enumerate*}\n"
      ],
      "text/markdown": [
       "1. 164\n",
       "2. 20\n",
       "\n",
       "\n"
      ],
      "text/plain": [
       "[1] 164  20"
      ]
     },
     "metadata": {},
     "output_type": "display_data"
    }
   ],
   "source": [
    "dim(df3)"
   ]
  },
  {
   "cell_type": "code",
   "execution_count": null,
   "id": "2103c4f5",
   "metadata": {},
   "outputs": [],
   "source": []
  },
  {
   "cell_type": "code",
   "execution_count": 49,
   "id": "b50d3a44",
   "metadata": {},
   "outputs": [
    {
     "data": {
      "text/html": [
       "<table>\n",
       "<thead><tr><th scope=col>MONTH_YEAR</th><th scope=col>Year</th><th scope=col>Month</th><th scope=col>CHANNEL</th><th scope=col>Avg_selling_price</th><th scope=col>Discount_percent</th><th scope=col>B1_NIELSEN_ABS_TDP_ND</th><th scope=col>B1_NIELSEN_ABS_TDP_WD</th><th scope=col>B1_NIELSEN_ND</th><th scope=col>B1_NIELSEN_WD</th><th scope=col>...</th><th scope=col>dig_Impressions</th><th scope=col>dig_Engagement</th><th scope=col>dig_Clicks</th><th scope=col>dig_Spends</th><th scope=col>ooh_Spends</th><th scope=col>Oil_Prices</th><th scope=col>CCI</th><th scope=col>total_confirmed_cases</th><th scope=col>stringency_index</th><th scope=col>Temp</th></tr></thead>\n",
       "<tbody>\n",
       "\t<tr><td>2018-01-01             </td><td>2018                   </td><td>1                      </td><td>MINIMARKET/SELF SERVICE</td><td>39.51923               </td><td>0.07183892             </td><td>1197.8169              </td><td>1485.939               </td><td>93.4411                </td><td>99.2707                </td><td>...                    </td><td>     NA                </td><td>NA                     </td><td>NA                     </td><td>     NA                </td><td>NA                     </td><td>63                     </td><td>95                     </td><td>0                      </td><td>0                      </td><td>21                     </td></tr>\n",
       "\t<tr><td>2018-01-01             </td><td>2018                   </td><td>1                      </td><td>TRADITIONAL TRADE      </td><td>39.29161               </td><td>0.07677612             </td><td>1709.0011              </td><td>2433.886               </td><td>89.2726                </td><td>99.0985                </td><td>...                    </td><td>     NA                </td><td>NA                     </td><td>NA                     </td><td>     NA                </td><td>NA                     </td><td>63                     </td><td>95                     </td><td>0                      </td><td>0                      </td><td>21                     </td></tr>\n",
       "\t<tr><td>2018-01-01             </td><td>2018                   </td><td>1                      </td><td>NATIONAL               </td><td>38.86158               </td><td>0.10470124             </td><td> 979.6539              </td><td>1506.198               </td><td>88.2747                </td><td>99.2683                </td><td>...                    </td><td>     NA                </td><td>NA                     </td><td>NA                     </td><td>     NA                </td><td>NA                     </td><td>63                     </td><td>95                     </td><td>0                      </td><td>0                      </td><td>21                     </td></tr>\n",
       "\t<tr><td>2018-01-01             </td><td>2018                   </td><td>1                      </td><td>SUPERMARKETS           </td><td>37.13494               </td><td>0.30657942             </td><td>1745.7119              </td><td>1876.192               </td><td>98.5919                </td><td>99.9903                </td><td>...                    </td><td>     NA                </td><td>NA                     </td><td>NA                     </td><td>     NA                </td><td>NA                     </td><td>63                     </td><td>95                     </td><td>0                      </td><td>0                      </td><td>21                     </td></tr>\n",
       "\t<tr><td>2018-02-01             </td><td>2018                   </td><td>2                      </td><td>TRADITIONAL TRADE      </td><td>39.17436               </td><td>0.07899075             </td><td>1594.1895              </td><td>2260.825               </td><td>91.4898                </td><td>98.8824                </td><td>...                    </td><td>2157384                </td><td> 0                     </td><td> 0                     </td><td>2808.57                </td><td>NA                     </td><td>63                     </td><td>95                     </td><td>0                      </td><td>0                      </td><td>26                     </td></tr>\n",
       "\t<tr><td>2018-02-01             </td><td>2018                   </td><td>2                      </td><td>MINIMARKET/SELF SERVICE</td><td>39.96751               </td><td>0.07232309             </td><td>1159.0257              </td><td>1427.133               </td><td>95.0123                </td><td>99.3042                </td><td>...                    </td><td>2157384                </td><td> 0                     </td><td> 0                     </td><td>2808.57                </td><td>NA                     </td><td>63                     </td><td>95                     </td><td>0                      </td><td>0                      </td><td>26                     </td></tr>\n",
       "</tbody>\n",
       "</table>\n"
      ],
      "text/latex": [
       "\\begin{tabular}{r|lllllllllllllllllllllllll}\n",
       " MONTH\\_YEAR & Year & Month & CHANNEL & Avg\\_selling\\_price & Discount\\_percent & B1\\_NIELSEN\\_ABS\\_TDP\\_ND & B1\\_NIELSEN\\_ABS\\_TDP\\_WD & B1\\_NIELSEN\\_ND & B1\\_NIELSEN\\_WD & ... & dig\\_Impressions & dig\\_Engagement & dig\\_Clicks & dig\\_Spends & ooh\\_Spends & Oil\\_Prices & CCI & total\\_confirmed\\_cases & stringency\\_index & Temp\\\\\n",
       "\\hline\n",
       "\t 2018-01-01              & 2018                    & 1                       & MINIMARKET/SELF SERVICE & 39.51923                & 0.07183892              & 1197.8169               & 1485.939                & 93.4411                 & 99.2707                 & ...                     &      NA                 & NA                      & NA                      &      NA                 & NA                      & 63                      & 95                      & 0                       & 0                       & 21                     \\\\\n",
       "\t 2018-01-01              & 2018                    & 1                       & TRADITIONAL TRADE       & 39.29161                & 0.07677612              & 1709.0011               & 2433.886                & 89.2726                 & 99.0985                 & ...                     &      NA                 & NA                      & NA                      &      NA                 & NA                      & 63                      & 95                      & 0                       & 0                       & 21                     \\\\\n",
       "\t 2018-01-01              & 2018                    & 1                       & NATIONAL                & 38.86158                & 0.10470124              &  979.6539               & 1506.198                & 88.2747                 & 99.2683                 & ...                     &      NA                 & NA                      & NA                      &      NA                 & NA                      & 63                      & 95                      & 0                       & 0                       & 21                     \\\\\n",
       "\t 2018-01-01              & 2018                    & 1                       & SUPERMARKETS            & 37.13494                & 0.30657942              & 1745.7119               & 1876.192                & 98.5919                 & 99.9903                 & ...                     &      NA                 & NA                      & NA                      &      NA                 & NA                      & 63                      & 95                      & 0                       & 0                       & 21                     \\\\\n",
       "\t 2018-02-01              & 2018                    & 2                       & TRADITIONAL TRADE       & 39.17436                & 0.07899075              & 1594.1895               & 2260.825                & 91.4898                 & 98.8824                 & ...                     & 2157384                 &  0                      &  0                      & 2808.57                 & NA                      & 63                      & 95                      & 0                       & 0                       & 26                     \\\\\n",
       "\t 2018-02-01              & 2018                    & 2                       & MINIMARKET/SELF SERVICE & 39.96751                & 0.07232309              & 1159.0257               & 1427.133                & 95.0123                 & 99.3042                 & ...                     & 2157384                 &  0                      &  0                      & 2808.57                 & NA                      & 63                      & 95                      & 0                       & 0                       & 26                     \\\\\n",
       "\\end{tabular}\n"
      ],
      "text/markdown": [
       "\n",
       "| MONTH_YEAR | Year | Month | CHANNEL | Avg_selling_price | Discount_percent | B1_NIELSEN_ABS_TDP_ND | B1_NIELSEN_ABS_TDP_WD | B1_NIELSEN_ND | B1_NIELSEN_WD | ... | dig_Impressions | dig_Engagement | dig_Clicks | dig_Spends | ooh_Spends | Oil_Prices | CCI | total_confirmed_cases | stringency_index | Temp |\n",
       "|---|---|---|---|---|---|---|---|---|---|---|---|---|---|---|---|---|---|---|---|---|\n",
       "| 2018-01-01              | 2018                    | 1                       | MINIMARKET/SELF SERVICE | 39.51923                | 0.07183892              | 1197.8169               | 1485.939                | 93.4411                 | 99.2707                 | ...                     |      NA                 | NA                      | NA                      |      NA                 | NA                      | 63                      | 95                      | 0                       | 0                       | 21                      |\n",
       "| 2018-01-01              | 2018                    | 1                       | TRADITIONAL TRADE       | 39.29161                | 0.07677612              | 1709.0011               | 2433.886                | 89.2726                 | 99.0985                 | ...                     |      NA                 | NA                      | NA                      |      NA                 | NA                      | 63                      | 95                      | 0                       | 0                       | 21                      |\n",
       "| 2018-01-01              | 2018                    | 1                       | NATIONAL                | 38.86158                | 0.10470124              |  979.6539               | 1506.198                | 88.2747                 | 99.2683                 | ...                     |      NA                 | NA                      | NA                      |      NA                 | NA                      | 63                      | 95                      | 0                       | 0                       | 21                      |\n",
       "| 2018-01-01              | 2018                    | 1                       | SUPERMARKETS            | 37.13494                | 0.30657942              | 1745.7119               | 1876.192                | 98.5919                 | 99.9903                 | ...                     |      NA                 | NA                      | NA                      |      NA                 | NA                      | 63                      | 95                      | 0                       | 0                       | 21                      |\n",
       "| 2018-02-01              | 2018                    | 2                       | TRADITIONAL TRADE       | 39.17436                | 0.07899075              | 1594.1895               | 2260.825                | 91.4898                 | 98.8824                 | ...                     | 2157384                 |  0                      |  0                      | 2808.57                 | NA                      | 63                      | 95                      | 0                       | 0                       | 26                      |\n",
       "| 2018-02-01              | 2018                    | 2                       | MINIMARKET/SELF SERVICE | 39.96751                | 0.07232309              | 1159.0257               | 1427.133                | 95.0123                 | 99.3042                 | ...                     | 2157384                 |  0                      |  0                      | 2808.57                 | NA                      | 63                      | 95                      | 0                       | 0                       | 26                      |\n",
       "\n"
      ],
      "text/plain": [
       "  MONTH_YEAR Year Month CHANNEL                 Avg_selling_price\n",
       "1 2018-01-01 2018 1     MINIMARKET/SELF SERVICE 39.51923         \n",
       "2 2018-01-01 2018 1     TRADITIONAL TRADE       39.29161         \n",
       "3 2018-01-01 2018 1     NATIONAL                38.86158         \n",
       "4 2018-01-01 2018 1     SUPERMARKETS            37.13494         \n",
       "5 2018-02-01 2018 2     TRADITIONAL TRADE       39.17436         \n",
       "6 2018-02-01 2018 2     MINIMARKET/SELF SERVICE 39.96751         \n",
       "  Discount_percent B1_NIELSEN_ABS_TDP_ND B1_NIELSEN_ABS_TDP_WD B1_NIELSEN_ND\n",
       "1 0.07183892       1197.8169             1485.939              93.4411      \n",
       "2 0.07677612       1709.0011             2433.886              89.2726      \n",
       "3 0.10470124        979.6539             1506.198              88.2747      \n",
       "4 0.30657942       1745.7119             1876.192              98.5919      \n",
       "5 0.07899075       1594.1895             2260.825              91.4898      \n",
       "6 0.07232309       1159.0257             1427.133              95.0123      \n",
       "  B1_NIELSEN_WD ... dig_Impressions dig_Engagement dig_Clicks dig_Spends\n",
       "1 99.2707       ...      NA         NA             NA              NA   \n",
       "2 99.0985       ...      NA         NA             NA              NA   \n",
       "3 99.2683       ...      NA         NA             NA              NA   \n",
       "4 99.9903       ...      NA         NA             NA              NA   \n",
       "5 98.8824       ... 2157384          0              0         2808.57   \n",
       "6 99.3042       ... 2157384          0              0         2808.57   \n",
       "  ooh_Spends Oil_Prices CCI total_confirmed_cases stringency_index Temp\n",
       "1 NA         63         95  0                     0                21  \n",
       "2 NA         63         95  0                     0                21  \n",
       "3 NA         63         95  0                     0                21  \n",
       "4 NA         63         95  0                     0                21  \n",
       "5 NA         63         95  0                     0                26  \n",
       "6 NA         63         95  0                     0                26  "
      ]
     },
     "metadata": {},
     "output_type": "display_data"
    }
   ],
   "source": [
    "df4 = merge(df3,month_macro, by= \"MONTH_YEAR\",  all.x = TRUE)\n",
    "\n",
    "head(df4)"
   ]
  },
  {
   "cell_type": "code",
   "execution_count": 50,
   "id": "535bfd17",
   "metadata": {},
   "outputs": [
    {
     "data": {
      "text/html": [
       "<ol class=list-inline>\n",
       "\t<li>164</li>\n",
       "\t<li>25</li>\n",
       "</ol>\n"
      ],
      "text/latex": [
       "\\begin{enumerate*}\n",
       "\\item 164\n",
       "\\item 25\n",
       "\\end{enumerate*}\n"
      ],
      "text/markdown": [
       "1. 164\n",
       "2. 25\n",
       "\n",
       "\n"
      ],
      "text/plain": [
       "[1] 164  25"
      ]
     },
     "metadata": {},
     "output_type": "display_data"
    }
   ],
   "source": [
    "dim(df4)"
   ]
  },
  {
   "cell_type": "code",
   "execution_count": 51,
   "id": "58a0fa3d",
   "metadata": {},
   "outputs": [],
   "source": [
    "# Impute null values with 0\n",
    "\n",
    "df4[is.na(df4)] <- 0\n"
   ]
  },
  {
   "cell_type": "code",
   "execution_count": 52,
   "id": "8d0e8ae8",
   "metadata": {},
   "outputs": [
    {
     "data": {
      "text/html": [
       "<table>\n",
       "<thead><tr><th scope=col>MONTH_YEAR</th><th scope=col>Year</th><th scope=col>Month</th><th scope=col>CHANNEL</th><th scope=col>Avg_selling_price</th><th scope=col>Discount_percent</th><th scope=col>B1_NIELSEN_ABS_TDP_ND</th><th scope=col>B1_NIELSEN_ABS_TDP_WD</th><th scope=col>B1_NIELSEN_ND</th><th scope=col>B1_NIELSEN_WD</th><th scope=col>...</th><th scope=col>dig_Impressions</th><th scope=col>dig_Engagement</th><th scope=col>dig_Clicks</th><th scope=col>dig_Spends</th><th scope=col>ooh_Spends</th><th scope=col>Oil_Prices</th><th scope=col>CCI</th><th scope=col>total_confirmed_cases</th><th scope=col>stringency_index</th><th scope=col>Temp</th></tr></thead>\n",
       "<tbody>\n",
       "\t<tr><td>2018-01-01             </td><td>2018                   </td><td>1                      </td><td>MINIMARKET/SELF SERVICE</td><td>39.51923               </td><td>0.07183892             </td><td>1197.8169              </td><td>1485.939               </td><td>93.4411                </td><td>99.2707                </td><td>...                    </td><td>      0                </td><td>0                      </td><td>0                      </td><td>   0.00                </td><td>0                      </td><td>63                     </td><td>95                     </td><td>0                      </td><td>0                      </td><td>21                     </td></tr>\n",
       "\t<tr><td>2018-01-01             </td><td>2018                   </td><td>1                      </td><td>TRADITIONAL TRADE      </td><td>39.29161               </td><td>0.07677612             </td><td>1709.0011              </td><td>2433.886               </td><td>89.2726                </td><td>99.0985                </td><td>...                    </td><td>      0                </td><td>0                      </td><td>0                      </td><td>   0.00                </td><td>0                      </td><td>63                     </td><td>95                     </td><td>0                      </td><td>0                      </td><td>21                     </td></tr>\n",
       "\t<tr><td>2018-01-01             </td><td>2018                   </td><td>1                      </td><td>NATIONAL               </td><td>38.86158               </td><td>0.10470124             </td><td> 979.6539              </td><td>1506.198               </td><td>88.2747                </td><td>99.2683                </td><td>...                    </td><td>      0                </td><td>0                      </td><td>0                      </td><td>   0.00                </td><td>0                      </td><td>63                     </td><td>95                     </td><td>0                      </td><td>0                      </td><td>21                     </td></tr>\n",
       "\t<tr><td>2018-01-01             </td><td>2018                   </td><td>1                      </td><td>SUPERMARKETS           </td><td>37.13494               </td><td>0.30657942             </td><td>1745.7119              </td><td>1876.192               </td><td>98.5919                </td><td>99.9903                </td><td>...                    </td><td>      0                </td><td>0                      </td><td>0                      </td><td>   0.00                </td><td>0                      </td><td>63                     </td><td>95                     </td><td>0                      </td><td>0                      </td><td>21                     </td></tr>\n",
       "\t<tr><td>2018-02-01             </td><td>2018                   </td><td>2                      </td><td>TRADITIONAL TRADE      </td><td>39.17436               </td><td>0.07899075             </td><td>1594.1895              </td><td>2260.825               </td><td>91.4898                </td><td>98.8824                </td><td>...                    </td><td>2157384                </td><td>0                      </td><td>0                      </td><td>2808.57                </td><td>0                      </td><td>63                     </td><td>95                     </td><td>0                      </td><td>0                      </td><td>26                     </td></tr>\n",
       "\t<tr><td>2018-02-01             </td><td>2018                   </td><td>2                      </td><td>MINIMARKET/SELF SERVICE</td><td>39.96751               </td><td>0.07232309             </td><td>1159.0257              </td><td>1427.133               </td><td>95.0123                </td><td>99.3042                </td><td>...                    </td><td>2157384                </td><td>0                      </td><td>0                      </td><td>2808.57                </td><td>0                      </td><td>63                     </td><td>95                     </td><td>0                      </td><td>0                      </td><td>26                     </td></tr>\n",
       "</tbody>\n",
       "</table>\n"
      ],
      "text/latex": [
       "\\begin{tabular}{r|lllllllllllllllllllllllll}\n",
       " MONTH\\_YEAR & Year & Month & CHANNEL & Avg\\_selling\\_price & Discount\\_percent & B1\\_NIELSEN\\_ABS\\_TDP\\_ND & B1\\_NIELSEN\\_ABS\\_TDP\\_WD & B1\\_NIELSEN\\_ND & B1\\_NIELSEN\\_WD & ... & dig\\_Impressions & dig\\_Engagement & dig\\_Clicks & dig\\_Spends & ooh\\_Spends & Oil\\_Prices & CCI & total\\_confirmed\\_cases & stringency\\_index & Temp\\\\\n",
       "\\hline\n",
       "\t 2018-01-01              & 2018                    & 1                       & MINIMARKET/SELF SERVICE & 39.51923                & 0.07183892              & 1197.8169               & 1485.939                & 93.4411                 & 99.2707                 & ...                     &       0                 & 0                       & 0                       &    0.00                 & 0                       & 63                      & 95                      & 0                       & 0                       & 21                     \\\\\n",
       "\t 2018-01-01              & 2018                    & 1                       & TRADITIONAL TRADE       & 39.29161                & 0.07677612              & 1709.0011               & 2433.886                & 89.2726                 & 99.0985                 & ...                     &       0                 & 0                       & 0                       &    0.00                 & 0                       & 63                      & 95                      & 0                       & 0                       & 21                     \\\\\n",
       "\t 2018-01-01              & 2018                    & 1                       & NATIONAL                & 38.86158                & 0.10470124              &  979.6539               & 1506.198                & 88.2747                 & 99.2683                 & ...                     &       0                 & 0                       & 0                       &    0.00                 & 0                       & 63                      & 95                      & 0                       & 0                       & 21                     \\\\\n",
       "\t 2018-01-01              & 2018                    & 1                       & SUPERMARKETS            & 37.13494                & 0.30657942              & 1745.7119               & 1876.192                & 98.5919                 & 99.9903                 & ...                     &       0                 & 0                       & 0                       &    0.00                 & 0                       & 63                      & 95                      & 0                       & 0                       & 21                     \\\\\n",
       "\t 2018-02-01              & 2018                    & 2                       & TRADITIONAL TRADE       & 39.17436                & 0.07899075              & 1594.1895               & 2260.825                & 91.4898                 & 98.8824                 & ...                     & 2157384                 & 0                       & 0                       & 2808.57                 & 0                       & 63                      & 95                      & 0                       & 0                       & 26                     \\\\\n",
       "\t 2018-02-01              & 2018                    & 2                       & MINIMARKET/SELF SERVICE & 39.96751                & 0.07232309              & 1159.0257               & 1427.133                & 95.0123                 & 99.3042                 & ...                     & 2157384                 & 0                       & 0                       & 2808.57                 & 0                       & 63                      & 95                      & 0                       & 0                       & 26                     \\\\\n",
       "\\end{tabular}\n"
      ],
      "text/markdown": [
       "\n",
       "| MONTH_YEAR | Year | Month | CHANNEL | Avg_selling_price | Discount_percent | B1_NIELSEN_ABS_TDP_ND | B1_NIELSEN_ABS_TDP_WD | B1_NIELSEN_ND | B1_NIELSEN_WD | ... | dig_Impressions | dig_Engagement | dig_Clicks | dig_Spends | ooh_Spends | Oil_Prices | CCI | total_confirmed_cases | stringency_index | Temp |\n",
       "|---|---|---|---|---|---|---|---|---|---|---|---|---|---|---|---|---|---|---|---|---|\n",
       "| 2018-01-01              | 2018                    | 1                       | MINIMARKET/SELF SERVICE | 39.51923                | 0.07183892              | 1197.8169               | 1485.939                | 93.4411                 | 99.2707                 | ...                     |       0                 | 0                       | 0                       |    0.00                 | 0                       | 63                      | 95                      | 0                       | 0                       | 21                      |\n",
       "| 2018-01-01              | 2018                    | 1                       | TRADITIONAL TRADE       | 39.29161                | 0.07677612              | 1709.0011               | 2433.886                | 89.2726                 | 99.0985                 | ...                     |       0                 | 0                       | 0                       |    0.00                 | 0                       | 63                      | 95                      | 0                       | 0                       | 21                      |\n",
       "| 2018-01-01              | 2018                    | 1                       | NATIONAL                | 38.86158                | 0.10470124              |  979.6539               | 1506.198                | 88.2747                 | 99.2683                 | ...                     |       0                 | 0                       | 0                       |    0.00                 | 0                       | 63                      | 95                      | 0                       | 0                       | 21                      |\n",
       "| 2018-01-01              | 2018                    | 1                       | SUPERMARKETS            | 37.13494                | 0.30657942              | 1745.7119               | 1876.192                | 98.5919                 | 99.9903                 | ...                     |       0                 | 0                       | 0                       |    0.00                 | 0                       | 63                      | 95                      | 0                       | 0                       | 21                      |\n",
       "| 2018-02-01              | 2018                    | 2                       | TRADITIONAL TRADE       | 39.17436                | 0.07899075              | 1594.1895               | 2260.825                | 91.4898                 | 98.8824                 | ...                     | 2157384                 | 0                       | 0                       | 2808.57                 | 0                       | 63                      | 95                      | 0                       | 0                       | 26                      |\n",
       "| 2018-02-01              | 2018                    | 2                       | MINIMARKET/SELF SERVICE | 39.96751                | 0.07232309              | 1159.0257               | 1427.133                | 95.0123                 | 99.3042                 | ...                     | 2157384                 | 0                       | 0                       | 2808.57                 | 0                       | 63                      | 95                      | 0                       | 0                       | 26                      |\n",
       "\n"
      ],
      "text/plain": [
       "  MONTH_YEAR Year Month CHANNEL                 Avg_selling_price\n",
       "1 2018-01-01 2018 1     MINIMARKET/SELF SERVICE 39.51923         \n",
       "2 2018-01-01 2018 1     TRADITIONAL TRADE       39.29161         \n",
       "3 2018-01-01 2018 1     NATIONAL                38.86158         \n",
       "4 2018-01-01 2018 1     SUPERMARKETS            37.13494         \n",
       "5 2018-02-01 2018 2     TRADITIONAL TRADE       39.17436         \n",
       "6 2018-02-01 2018 2     MINIMARKET/SELF SERVICE 39.96751         \n",
       "  Discount_percent B1_NIELSEN_ABS_TDP_ND B1_NIELSEN_ABS_TDP_WD B1_NIELSEN_ND\n",
       "1 0.07183892       1197.8169             1485.939              93.4411      \n",
       "2 0.07677612       1709.0011             2433.886              89.2726      \n",
       "3 0.10470124        979.6539             1506.198              88.2747      \n",
       "4 0.30657942       1745.7119             1876.192              98.5919      \n",
       "5 0.07899075       1594.1895             2260.825              91.4898      \n",
       "6 0.07232309       1159.0257             1427.133              95.0123      \n",
       "  B1_NIELSEN_WD ... dig_Impressions dig_Engagement dig_Clicks dig_Spends\n",
       "1 99.2707       ...       0         0              0             0.00   \n",
       "2 99.0985       ...       0         0              0             0.00   \n",
       "3 99.2683       ...       0         0              0             0.00   \n",
       "4 99.9903       ...       0         0              0             0.00   \n",
       "5 98.8824       ... 2157384         0              0          2808.57   \n",
       "6 99.3042       ... 2157384         0              0          2808.57   \n",
       "  ooh_Spends Oil_Prices CCI total_confirmed_cases stringency_index Temp\n",
       "1 0          63         95  0                     0                21  \n",
       "2 0          63         95  0                     0                21  \n",
       "3 0          63         95  0                     0                21  \n",
       "4 0          63         95  0                     0                21  \n",
       "5 0          63         95  0                     0                26  \n",
       "6 0          63         95  0                     0                26  "
      ]
     },
     "metadata": {},
     "output_type": "display_data"
    }
   ],
   "source": [
    "head(df4)"
   ]
  },
  {
   "cell_type": "code",
   "execution_count": 53,
   "id": "ce1b3888",
   "metadata": {},
   "outputs": [
    {
     "data": {
      "text/html": [
       "<ol class=list-inline>\n",
       "\t<li>164</li>\n",
       "\t<li>25</li>\n",
       "</ol>\n"
      ],
      "text/latex": [
       "\\begin{enumerate*}\n",
       "\\item 164\n",
       "\\item 25\n",
       "\\end{enumerate*}\n"
      ],
      "text/markdown": [
       "1. 164\n",
       "2. 25\n",
       "\n",
       "\n"
      ],
      "text/plain": [
       "[1] 164  25"
      ]
     },
     "metadata": {},
     "output_type": "display_data"
    }
   ],
   "source": [
    "dim(df4)"
   ]
  },
  {
   "cell_type": "code",
   "execution_count": 54,
   "id": "b27decae",
   "metadata": {},
   "outputs": [],
   "source": [
    "write.csv(df4,\"merged_primary_data.csv\", row.names = FALSE)\n"
   ]
  },
  {
   "cell_type": "code",
   "execution_count": null,
   "id": "a31f2e05",
   "metadata": {},
   "outputs": [],
   "source": []
  },
  {
   "cell_type": "code",
   "execution_count": 40,
   "id": "936b0fbf",
   "metadata": {},
   "outputs": [
    {
     "data": {
      "text/html": [
       "<table>\n",
       "<thead><tr><th></th><th scope=col>MONTH_YEAR</th><th scope=col>Year</th><th scope=col>Month</th><th scope=col>CHANNEL</th><th scope=col>Avg_selling_price</th><th scope=col>Discount_percent</th><th scope=col>B1_NIELSEN_ABS_TDP_ND</th><th scope=col>B1_NIELSEN_ABS_TDP_WD</th><th scope=col>B1_NIELSEN_ND</th><th scope=col>B1_NIELSEN_WD</th><th scope=col>...</th><th scope=col>dig_Impressions</th><th scope=col>dig_Engagement</th><th scope=col>dig_Clicks</th><th scope=col>dig_Spends</th><th scope=col>ooh_Spends</th><th scope=col>Oil_Prices</th><th scope=col>CCI</th><th scope=col>total_confirmed_cases</th><th scope=col>stringency_index</th><th scope=col>Temp</th></tr></thead>\n",
       "<tbody>\n",
       "\t<tr><th scope=row>1</th><td>2018-01-01             </td><td>2018                   </td><td>1                      </td><td>MINIMARKET/SELF SERVICE</td><td>39.51923               </td><td>0.07183892             </td><td>1197.817               </td><td>1485.939               </td><td>93.4411                </td><td>99.2707                </td><td>...                    </td><td>       NA              </td><td>      NA               </td><td>NA                     </td><td>       NA              </td><td>NA                     </td><td>63                     </td><td> 95                    </td><td>0                      </td><td>0                      </td><td>21.0                   </td></tr>\n",
       "\t<tr><th scope=row>6</th><td>2018-02-01             </td><td>2018                   </td><td>2                      </td><td>MINIMARKET/SELF SERVICE</td><td>39.96751               </td><td>0.07232309             </td><td>1159.026               </td><td>1427.133               </td><td>95.0123                </td><td>99.3042                </td><td>...                    </td><td>  2157384              </td><td>       0               </td><td> 0                     </td><td>  2808.57              </td><td>NA                     </td><td>63                     </td><td> 95                    </td><td>0                      </td><td>0                      </td><td>26.0                   </td></tr>\n",
       "\t<tr><th scope=row>10</th><td>2018-03-01             </td><td>2018                   </td><td>3                      </td><td>MINIMARKET/SELF SERVICE</td><td>39.60994               </td><td>0.10334766             </td><td>1245.945               </td><td>1534.842               </td><td>95.6716                </td><td>99.3408                </td><td>...                    </td><td>221973072              </td><td>33529623               </td><td> 0                     </td><td>747358.36              </td><td>NA                     </td><td>63                     </td><td> 95                    </td><td>0                      </td><td>0                      </td><td>31.0                   </td></tr>\n",
       "\t<tr><th scope=row>15</th><td>2018-04-01             </td><td>2018                   </td><td>4                      </td><td>MINIMARKET/SELF SERVICE</td><td>39.59497               </td><td>0.09605361             </td><td>1258.732               </td><td>1555.042               </td><td>96.2691                </td><td>99.5732                </td><td>...                    </td><td>216255933              </td><td> 9868470               </td><td> 0                     </td><td>853006.24              </td><td>NA                     </td><td>68                     </td><td>107                    </td><td>0                      </td><td>0                      </td><td>32.5                   </td></tr>\n",
       "\t<tr><th scope=row>19</th><td>2018-05-01             </td><td>2018                   </td><td>5                      </td><td>MINIMARKET/SELF SERVICE</td><td>40.70997               </td><td>0.11387929             </td><td>1281.986               </td><td>1577.628               </td><td>95.7646                </td><td>99.4477                </td><td>...                    </td><td> 15879387              </td><td> 1402281               </td><td> 0                     </td><td> 45376.06              </td><td>NA                     </td><td>68                     </td><td>107                    </td><td>0                      </td><td>0                      </td><td>37.5                   </td></tr>\n",
       "\t<tr><th scope=row>24</th><td>2018-06-01             </td><td>2018                   </td><td>6                      </td><td>MINIMARKET/SELF SERVICE</td><td>40.67069               </td><td>0.07993248             </td><td>1232.130               </td><td>1483.458               </td><td>94.7312                </td><td>99.3201                </td><td>...                    </td><td>100096371              </td><td> 8423886               </td><td> 0                     </td><td>601876.52              </td><td>NA                     </td><td>68                     </td><td>107                    </td><td>0                      </td><td>0                      </td><td>40.5                   </td></tr>\n",
       "</tbody>\n",
       "</table>\n"
      ],
      "text/latex": [
       "\\begin{tabular}{r|lllllllllllllllllllllllll}\n",
       "  & MONTH\\_YEAR & Year & Month & CHANNEL & Avg\\_selling\\_price & Discount\\_percent & B1\\_NIELSEN\\_ABS\\_TDP\\_ND & B1\\_NIELSEN\\_ABS\\_TDP\\_WD & B1\\_NIELSEN\\_ND & B1\\_NIELSEN\\_WD & ... & dig\\_Impressions & dig\\_Engagement & dig\\_Clicks & dig\\_Spends & ooh\\_Spends & Oil\\_Prices & CCI & total\\_confirmed\\_cases & stringency\\_index & Temp\\\\\n",
       "\\hline\n",
       "\t1 & 2018-01-01              & 2018                    & 1                       & MINIMARKET/SELF SERVICE & 39.51923                & 0.07183892              & 1197.817                & 1485.939                & 93.4411                 & 99.2707                 & ...                     &        NA               &       NA                & NA                      &        NA               & NA                      & 63                      &  95                     & 0                       & 0                       & 21.0                   \\\\\n",
       "\t6 & 2018-02-01              & 2018                    & 2                       & MINIMARKET/SELF SERVICE & 39.96751                & 0.07232309              & 1159.026                & 1427.133                & 95.0123                 & 99.3042                 & ...                     &   2157384               &        0                &  0                      &   2808.57               & NA                      & 63                      &  95                     & 0                       & 0                       & 26.0                   \\\\\n",
       "\t10 & 2018-03-01              & 2018                    & 3                       & MINIMARKET/SELF SERVICE & 39.60994                & 0.10334766              & 1245.945                & 1534.842                & 95.6716                 & 99.3408                 & ...                     & 221973072               & 33529623                &  0                      & 747358.36               & NA                      & 63                      &  95                     & 0                       & 0                       & 31.0                   \\\\\n",
       "\t15 & 2018-04-01              & 2018                    & 4                       & MINIMARKET/SELF SERVICE & 39.59497                & 0.09605361              & 1258.732                & 1555.042                & 96.2691                 & 99.5732                 & ...                     & 216255933               &  9868470                &  0                      & 853006.24               & NA                      & 68                      & 107                     & 0                       & 0                       & 32.5                   \\\\\n",
       "\t19 & 2018-05-01              & 2018                    & 5                       & MINIMARKET/SELF SERVICE & 40.70997                & 0.11387929              & 1281.986                & 1577.628                & 95.7646                 & 99.4477                 & ...                     &  15879387               &  1402281                &  0                      &  45376.06               & NA                      & 68                      & 107                     & 0                       & 0                       & 37.5                   \\\\\n",
       "\t24 & 2018-06-01              & 2018                    & 6                       & MINIMARKET/SELF SERVICE & 40.67069                & 0.07993248              & 1232.130                & 1483.458                & 94.7312                 & 99.3201                 & ...                     & 100096371               &  8423886                &  0                      & 601876.52               & NA                      & 68                      & 107                     & 0                       & 0                       & 40.5                   \\\\\n",
       "\\end{tabular}\n"
      ],
      "text/markdown": [
       "\n",
       "| <!--/--> | MONTH_YEAR | Year | Month | CHANNEL | Avg_selling_price | Discount_percent | B1_NIELSEN_ABS_TDP_ND | B1_NIELSEN_ABS_TDP_WD | B1_NIELSEN_ND | B1_NIELSEN_WD | ... | dig_Impressions | dig_Engagement | dig_Clicks | dig_Spends | ooh_Spends | Oil_Prices | CCI | total_confirmed_cases | stringency_index | Temp |\n",
       "|---|---|---|---|---|---|---|---|---|---|---|---|---|---|---|---|---|---|---|---|---|---|\n",
       "| 1 | 2018-01-01              | 2018                    | 1                       | MINIMARKET/SELF SERVICE | 39.51923                | 0.07183892              | 1197.817                | 1485.939                | 93.4411                 | 99.2707                 | ...                     |        NA               |       NA                | NA                      |        NA               | NA                      | 63                      |  95                     | 0                       | 0                       | 21.0                    |\n",
       "| 6 | 2018-02-01              | 2018                    | 2                       | MINIMARKET/SELF SERVICE | 39.96751                | 0.07232309              | 1159.026                | 1427.133                | 95.0123                 | 99.3042                 | ...                     |   2157384               |        0                |  0                      |   2808.57               | NA                      | 63                      |  95                     | 0                       | 0                       | 26.0                    |\n",
       "| 10 | 2018-03-01              | 2018                    | 3                       | MINIMARKET/SELF SERVICE | 39.60994                | 0.10334766              | 1245.945                | 1534.842                | 95.6716                 | 99.3408                 | ...                     | 221973072               | 33529623                |  0                      | 747358.36               | NA                      | 63                      |  95                     | 0                       | 0                       | 31.0                    |\n",
       "| 15 | 2018-04-01              | 2018                    | 4                       | MINIMARKET/SELF SERVICE | 39.59497                | 0.09605361              | 1258.732                | 1555.042                | 96.2691                 | 99.5732                 | ...                     | 216255933               |  9868470                |  0                      | 853006.24               | NA                      | 68                      | 107                     | 0                       | 0                       | 32.5                    |\n",
       "| 19 | 2018-05-01              | 2018                    | 5                       | MINIMARKET/SELF SERVICE | 40.70997                | 0.11387929              | 1281.986                | 1577.628                | 95.7646                 | 99.4477                 | ...                     |  15879387               |  1402281                |  0                      |  45376.06               | NA                      | 68                      | 107                     | 0                       | 0                       | 37.5                    |\n",
       "| 24 | 2018-06-01              | 2018                    | 6                       | MINIMARKET/SELF SERVICE | 40.67069                | 0.07993248              | 1232.130                | 1483.458                | 94.7312                 | 99.3201                 | ...                     | 100096371               |  8423886                |  0                      | 601876.52               | NA                      | 68                      | 107                     | 0                       | 0                       | 40.5                    |\n",
       "\n"
      ],
      "text/plain": [
       "   MONTH_YEAR Year Month CHANNEL                 Avg_selling_price\n",
       "1  2018-01-01 2018 1     MINIMARKET/SELF SERVICE 39.51923         \n",
       "6  2018-02-01 2018 2     MINIMARKET/SELF SERVICE 39.96751         \n",
       "10 2018-03-01 2018 3     MINIMARKET/SELF SERVICE 39.60994         \n",
       "15 2018-04-01 2018 4     MINIMARKET/SELF SERVICE 39.59497         \n",
       "19 2018-05-01 2018 5     MINIMARKET/SELF SERVICE 40.70997         \n",
       "24 2018-06-01 2018 6     MINIMARKET/SELF SERVICE 40.67069         \n",
       "   Discount_percent B1_NIELSEN_ABS_TDP_ND B1_NIELSEN_ABS_TDP_WD B1_NIELSEN_ND\n",
       "1  0.07183892       1197.817              1485.939              93.4411      \n",
       "6  0.07232309       1159.026              1427.133              95.0123      \n",
       "10 0.10334766       1245.945              1534.842              95.6716      \n",
       "15 0.09605361       1258.732              1555.042              96.2691      \n",
       "19 0.11387929       1281.986              1577.628              95.7646      \n",
       "24 0.07993248       1232.130              1483.458              94.7312      \n",
       "   B1_NIELSEN_WD ... dig_Impressions dig_Engagement dig_Clicks dig_Spends\n",
       "1  99.2707       ...        NA             NA       NA                NA \n",
       "6  99.3042       ...   2157384              0        0           2808.57 \n",
       "10 99.3408       ... 221973072       33529623        0         747358.36 \n",
       "15 99.5732       ... 216255933        9868470        0         853006.24 \n",
       "19 99.4477       ...  15879387        1402281        0          45376.06 \n",
       "24 99.3201       ... 100096371        8423886        0         601876.52 \n",
       "   ooh_Spends Oil_Prices CCI total_confirmed_cases stringency_index Temp\n",
       "1  NA         63          95 0                     0                21.0\n",
       "6  NA         63          95 0                     0                26.0\n",
       "10 NA         63          95 0                     0                31.0\n",
       "15 NA         68         107 0                     0                32.5\n",
       "19 NA         68         107 0                     0                37.5\n",
       "24 NA         68         107 0                     0                40.5"
      ]
     },
     "metadata": {},
     "output_type": "display_data"
    }
   ],
   "source": [
    "mini_market = subset(df4, df4$CHANNEL == \"MINIMARKET/SELF SERVICE\")\n",
    "\n",
    "head(mini_market)"
   ]
  },
  {
   "cell_type": "code",
   "execution_count": null,
   "id": "d241f263",
   "metadata": {},
   "outputs": [],
   "source": []
  },
  {
   "cell_type": "code",
   "execution_count": null,
   "id": "3d03314c",
   "metadata": {},
   "outputs": [],
   "source": []
  },
  {
   "cell_type": "code",
   "execution_count": 41,
   "id": "e287976e",
   "metadata": {},
   "outputs": [
    {
     "data": {
      "text/html": [
       "<table>\n",
       "<thead><tr><th></th><th scope=col>MONTH_YEAR</th><th scope=col>Year</th><th scope=col>Month</th><th scope=col>CHANNEL</th><th scope=col>Avg_selling_price</th><th scope=col>Discount_percent</th><th scope=col>B1_NIELSEN_ABS_TDP_ND</th><th scope=col>B1_NIELSEN_ABS_TDP_WD</th><th scope=col>B1_NIELSEN_ND</th><th scope=col>B1_NIELSEN_WD</th><th scope=col>...</th><th scope=col>dig_Impressions</th><th scope=col>dig_Engagement</th><th scope=col>dig_Clicks</th><th scope=col>dig_Spends</th><th scope=col>ooh_Spends</th><th scope=col>Oil_Prices</th><th scope=col>CCI</th><th scope=col>total_confirmed_cases</th><th scope=col>stringency_index</th><th scope=col>Temp</th></tr></thead>\n",
       "<tbody>\n",
       "\t<tr><th scope=row>4</th><td>2018-01-01  </td><td>2018        </td><td>1           </td><td>SUPERMARKETS</td><td>37.13494    </td><td>0.3065794   </td><td>1745.712    </td><td>1876.192    </td><td> 98.5919    </td><td> 99.9903    </td><td>...         </td><td>       NA   </td><td>      NA    </td><td>NA          </td><td>       NA   </td><td>NA          </td><td>63          </td><td> 95         </td><td>0           </td><td>0           </td><td>21.0        </td></tr>\n",
       "\t<tr><th scope=row>7</th><td>2018-02-01  </td><td>2018        </td><td>2           </td><td>SUPERMARKETS</td><td>35.50799    </td><td>0.3072877   </td><td>1751.878    </td><td>1878.786    </td><td>100.0000    </td><td>100.0000    </td><td>...         </td><td>  2157384   </td><td>       0    </td><td> 0          </td><td>  2808.57   </td><td>NA          </td><td>63          </td><td> 95         </td><td>0           </td><td>0           </td><td>26.0        </td></tr>\n",
       "\t<tr><th scope=row>11</th><td>2018-03-01  </td><td>2018        </td><td>3           </td><td>SUPERMARKETS</td><td>35.81099    </td><td>0.2527888   </td><td>1903.123    </td><td>2046.542    </td><td>100.0000    </td><td>100.0000    </td><td>...         </td><td>221973072   </td><td>33529623    </td><td> 0          </td><td>747358.36   </td><td>NA          </td><td>63          </td><td> 95         </td><td>0           </td><td>0           </td><td>31.0        </td></tr>\n",
       "\t<tr><th scope=row>14</th><td>2018-04-01  </td><td>2018        </td><td>4           </td><td>SUPERMARKETS</td><td>34.50596    </td><td>0.2706684   </td><td>1965.440    </td><td>2090.069    </td><td>100.0000    </td><td>100.0000    </td><td>...         </td><td>216255933   </td><td> 9868470    </td><td> 0          </td><td>853006.24   </td><td>NA          </td><td>68          </td><td>107         </td><td>0           </td><td>0           </td><td>32.5        </td></tr>\n",
       "\t<tr><th scope=row>20</th><td>2018-05-01  </td><td>2018        </td><td>5           </td><td>SUPERMARKETS</td><td>36.26805    </td><td>0.3211792   </td><td>1956.018    </td><td>2078.128    </td><td>100.0000    </td><td>100.0000    </td><td>...         </td><td> 15879387   </td><td> 1402281    </td><td> 0          </td><td> 45376.06   </td><td>NA          </td><td>68          </td><td>107         </td><td>0           </td><td>0           </td><td>37.5        </td></tr>\n",
       "\t<tr><th scope=row>21</th><td>2018-06-01  </td><td>2018        </td><td>6           </td><td>SUPERMARKETS</td><td>34.91255    </td><td>0.2839599   </td><td>1938.154    </td><td>2000.122    </td><td>100.0000    </td><td>100.0000    </td><td>...         </td><td>100096371   </td><td> 8423886    </td><td> 0          </td><td>601876.52   </td><td>NA          </td><td>68          </td><td>107         </td><td>0           </td><td>0           </td><td>40.5        </td></tr>\n",
       "</tbody>\n",
       "</table>\n"
      ],
      "text/latex": [
       "\\begin{tabular}{r|lllllllllllllllllllllllll}\n",
       "  & MONTH\\_YEAR & Year & Month & CHANNEL & Avg\\_selling\\_price & Discount\\_percent & B1\\_NIELSEN\\_ABS\\_TDP\\_ND & B1\\_NIELSEN\\_ABS\\_TDP\\_WD & B1\\_NIELSEN\\_ND & B1\\_NIELSEN\\_WD & ... & dig\\_Impressions & dig\\_Engagement & dig\\_Clicks & dig\\_Spends & ooh\\_Spends & Oil\\_Prices & CCI & total\\_confirmed\\_cases & stringency\\_index & Temp\\\\\n",
       "\\hline\n",
       "\t4 & 2018-01-01   & 2018         & 1            & SUPERMARKETS & 37.13494     & 0.3065794    & 1745.712     & 1876.192     &  98.5919     &  99.9903     & ...          &        NA    &       NA     & NA           &        NA    & NA           & 63           &  95          & 0            & 0            & 21.0        \\\\\n",
       "\t7 & 2018-02-01   & 2018         & 2            & SUPERMARKETS & 35.50799     & 0.3072877    & 1751.878     & 1878.786     & 100.0000     & 100.0000     & ...          &   2157384    &        0     &  0           &   2808.57    & NA           & 63           &  95          & 0            & 0            & 26.0        \\\\\n",
       "\t11 & 2018-03-01   & 2018         & 3            & SUPERMARKETS & 35.81099     & 0.2527888    & 1903.123     & 2046.542     & 100.0000     & 100.0000     & ...          & 221973072    & 33529623     &  0           & 747358.36    & NA           & 63           &  95          & 0            & 0            & 31.0        \\\\\n",
       "\t14 & 2018-04-01   & 2018         & 4            & SUPERMARKETS & 34.50596     & 0.2706684    & 1965.440     & 2090.069     & 100.0000     & 100.0000     & ...          & 216255933    &  9868470     &  0           & 853006.24    & NA           & 68           & 107          & 0            & 0            & 32.5        \\\\\n",
       "\t20 & 2018-05-01   & 2018         & 5            & SUPERMARKETS & 36.26805     & 0.3211792    & 1956.018     & 2078.128     & 100.0000     & 100.0000     & ...          &  15879387    &  1402281     &  0           &  45376.06    & NA           & 68           & 107          & 0            & 0            & 37.5        \\\\\n",
       "\t21 & 2018-06-01   & 2018         & 6            & SUPERMARKETS & 34.91255     & 0.2839599    & 1938.154     & 2000.122     & 100.0000     & 100.0000     & ...          & 100096371    &  8423886     &  0           & 601876.52    & NA           & 68           & 107          & 0            & 0            & 40.5        \\\\\n",
       "\\end{tabular}\n"
      ],
      "text/markdown": [
       "\n",
       "| <!--/--> | MONTH_YEAR | Year | Month | CHANNEL | Avg_selling_price | Discount_percent | B1_NIELSEN_ABS_TDP_ND | B1_NIELSEN_ABS_TDP_WD | B1_NIELSEN_ND | B1_NIELSEN_WD | ... | dig_Impressions | dig_Engagement | dig_Clicks | dig_Spends | ooh_Spends | Oil_Prices | CCI | total_confirmed_cases | stringency_index | Temp |\n",
       "|---|---|---|---|---|---|---|---|---|---|---|---|---|---|---|---|---|---|---|---|---|---|\n",
       "| 4 | 2018-01-01   | 2018         | 1            | SUPERMARKETS | 37.13494     | 0.3065794    | 1745.712     | 1876.192     |  98.5919     |  99.9903     | ...          |        NA    |       NA     | NA           |        NA    | NA           | 63           |  95          | 0            | 0            | 21.0         |\n",
       "| 7 | 2018-02-01   | 2018         | 2            | SUPERMARKETS | 35.50799     | 0.3072877    | 1751.878     | 1878.786     | 100.0000     | 100.0000     | ...          |   2157384    |        0     |  0           |   2808.57    | NA           | 63           |  95          | 0            | 0            | 26.0         |\n",
       "| 11 | 2018-03-01   | 2018         | 3            | SUPERMARKETS | 35.81099     | 0.2527888    | 1903.123     | 2046.542     | 100.0000     | 100.0000     | ...          | 221973072    | 33529623     |  0           | 747358.36    | NA           | 63           |  95          | 0            | 0            | 31.0         |\n",
       "| 14 | 2018-04-01   | 2018         | 4            | SUPERMARKETS | 34.50596     | 0.2706684    | 1965.440     | 2090.069     | 100.0000     | 100.0000     | ...          | 216255933    |  9868470     |  0           | 853006.24    | NA           | 68           | 107          | 0            | 0            | 32.5         |\n",
       "| 20 | 2018-05-01   | 2018         | 5            | SUPERMARKETS | 36.26805     | 0.3211792    | 1956.018     | 2078.128     | 100.0000     | 100.0000     | ...          |  15879387    |  1402281     |  0           |  45376.06    | NA           | 68           | 107          | 0            | 0            | 37.5         |\n",
       "| 21 | 2018-06-01   | 2018         | 6            | SUPERMARKETS | 34.91255     | 0.2839599    | 1938.154     | 2000.122     | 100.0000     | 100.0000     | ...          | 100096371    |  8423886     |  0           | 601876.52    | NA           | 68           | 107          | 0            | 0            | 40.5         |\n",
       "\n"
      ],
      "text/plain": [
       "   MONTH_YEAR Year Month CHANNEL      Avg_selling_price Discount_percent\n",
       "4  2018-01-01 2018 1     SUPERMARKETS 37.13494          0.3065794       \n",
       "7  2018-02-01 2018 2     SUPERMARKETS 35.50799          0.3072877       \n",
       "11 2018-03-01 2018 3     SUPERMARKETS 35.81099          0.2527888       \n",
       "14 2018-04-01 2018 4     SUPERMARKETS 34.50596          0.2706684       \n",
       "20 2018-05-01 2018 5     SUPERMARKETS 36.26805          0.3211792       \n",
       "21 2018-06-01 2018 6     SUPERMARKETS 34.91255          0.2839599       \n",
       "   B1_NIELSEN_ABS_TDP_ND B1_NIELSEN_ABS_TDP_WD B1_NIELSEN_ND B1_NIELSEN_WD ...\n",
       "4  1745.712              1876.192               98.5919       99.9903      ...\n",
       "7  1751.878              1878.786              100.0000      100.0000      ...\n",
       "11 1903.123              2046.542              100.0000      100.0000      ...\n",
       "14 1965.440              2090.069              100.0000      100.0000      ...\n",
       "20 1956.018              2078.128              100.0000      100.0000      ...\n",
       "21 1938.154              2000.122              100.0000      100.0000      ...\n",
       "   dig_Impressions dig_Engagement dig_Clicks dig_Spends ooh_Spends Oil_Prices\n",
       "4         NA             NA       NA                NA  NA         63        \n",
       "7    2157384              0        0           2808.57  NA         63        \n",
       "11 221973072       33529623        0         747358.36  NA         63        \n",
       "14 216255933        9868470        0         853006.24  NA         68        \n",
       "20  15879387        1402281        0          45376.06  NA         68        \n",
       "21 100096371        8423886        0         601876.52  NA         68        \n",
       "   CCI total_confirmed_cases stringency_index Temp\n",
       "4   95 0                     0                21.0\n",
       "7   95 0                     0                26.0\n",
       "11  95 0                     0                31.0\n",
       "14 107 0                     0                32.5\n",
       "20 107 0                     0                37.5\n",
       "21 107 0                     0                40.5"
      ]
     },
     "metadata": {},
     "output_type": "display_data"
    }
   ],
   "source": [
    "super_market = subset(df4, df4$CHANNEL == \"SUPERMARKETS\")\n",
    "\n",
    "head(super_market)"
   ]
  },
  {
   "cell_type": "code",
   "execution_count": null,
   "id": "a30ca429",
   "metadata": {},
   "outputs": [],
   "source": []
  },
  {
   "cell_type": "code",
   "execution_count": 42,
   "id": "b3a1e6e2",
   "metadata": {},
   "outputs": [
    {
     "data": {
      "text/html": [
       "<table>\n",
       "<thead><tr><th></th><th scope=col>MONTH_YEAR</th><th scope=col>Year</th><th scope=col>Month</th><th scope=col>CHANNEL</th><th scope=col>Avg_selling_price</th><th scope=col>Discount_percent</th><th scope=col>B1_NIELSEN_ABS_TDP_ND</th><th scope=col>B1_NIELSEN_ABS_TDP_WD</th><th scope=col>B1_NIELSEN_ND</th><th scope=col>B1_NIELSEN_WD</th><th scope=col>...</th><th scope=col>dig_Impressions</th><th scope=col>dig_Engagement</th><th scope=col>dig_Clicks</th><th scope=col>dig_Spends</th><th scope=col>ooh_Spends</th><th scope=col>Oil_Prices</th><th scope=col>CCI</th><th scope=col>total_confirmed_cases</th><th scope=col>stringency_index</th><th scope=col>Temp</th></tr></thead>\n",
       "<tbody>\n",
       "\t<tr><th scope=row>3</th><td>2018-01-01</td><td>2018      </td><td>1         </td><td>NATIONAL  </td><td>38.86158  </td><td>0.1047012 </td><td> 979.6539 </td><td>1506.198  </td><td>88.2747   </td><td>99.2683   </td><td>...       </td><td>       NA </td><td>      NA  </td><td>NA        </td><td>       NA </td><td>NA        </td><td>63        </td><td> 95       </td><td>0         </td><td>0         </td><td>21.0      </td></tr>\n",
       "\t<tr><th scope=row>8</th><td>2018-02-01</td><td>2018      </td><td>2         </td><td>NATIONAL  </td><td>38.42603  </td><td>0.1122622 </td><td> 928.1955 </td><td>1452.975  </td><td>89.7091   </td><td>99.1820   </td><td>...       </td><td>  2157384 </td><td>       0  </td><td> 0        </td><td>  2808.57 </td><td>NA        </td><td>63        </td><td> 95       </td><td>0         </td><td>0         </td><td>26.0      </td></tr>\n",
       "\t<tr><th scope=row>9</th><td>2018-03-01</td><td>2018      </td><td>3         </td><td>NATIONAL  </td><td>38.44085  </td><td>0.1122354 </td><td> 989.4197 </td><td>1560.674  </td><td>89.6840   </td><td>99.1759   </td><td>...       </td><td>221973072 </td><td>33529623  </td><td> 0        </td><td>747358.36 </td><td>NA        </td><td>63        </td><td> 95       </td><td>0         </td><td>0         </td><td>31.0      </td></tr>\n",
       "\t<tr><th scope=row>16</th><td>2018-04-01</td><td>2018      </td><td>4         </td><td>NATIONAL  </td><td>38.03426  </td><td>0.1035930 </td><td>1005.5566 </td><td>1595.052  </td><td>90.0458   </td><td>99.2522   </td><td>...       </td><td>216255933 </td><td> 9868470  </td><td> 0        </td><td>853006.24 </td><td>NA        </td><td>68        </td><td>107       </td><td>0         </td><td>0         </td><td>32.5      </td></tr>\n",
       "\t<tr><th scope=row>18</th><td>2018-05-01</td><td>2018      </td><td>5         </td><td>NATIONAL  </td><td>39.44110  </td><td>0.1345373 </td><td>1031.5425 </td><td>1605.810  </td><td>89.5371   </td><td>99.2006   </td><td>...       </td><td> 15879387 </td><td> 1402281  </td><td> 0        </td><td> 45376.06 </td><td>NA        </td><td>68        </td><td>107       </td><td>0         </td><td>0         </td><td>37.5      </td></tr>\n",
       "\t<tr><th scope=row>22</th><td>2018-06-01</td><td>2018      </td><td>6         </td><td>NATIONAL  </td><td>39.05821  </td><td>0.1124960 </td><td> 989.1157 </td><td>1523.892  </td><td>89.2956   </td><td>99.0490   </td><td>...       </td><td>100096371 </td><td> 8423886  </td><td> 0        </td><td>601876.52 </td><td>NA        </td><td>68        </td><td>107       </td><td>0         </td><td>0         </td><td>40.5      </td></tr>\n",
       "</tbody>\n",
       "</table>\n"
      ],
      "text/latex": [
       "\\begin{tabular}{r|lllllllllllllllllllllllll}\n",
       "  & MONTH\\_YEAR & Year & Month & CHANNEL & Avg\\_selling\\_price & Discount\\_percent & B1\\_NIELSEN\\_ABS\\_TDP\\_ND & B1\\_NIELSEN\\_ABS\\_TDP\\_WD & B1\\_NIELSEN\\_ND & B1\\_NIELSEN\\_WD & ... & dig\\_Impressions & dig\\_Engagement & dig\\_Clicks & dig\\_Spends & ooh\\_Spends & Oil\\_Prices & CCI & total\\_confirmed\\_cases & stringency\\_index & Temp\\\\\n",
       "\\hline\n",
       "\t3 & 2018-01-01 & 2018       & 1          & NATIONAL   & 38.86158   & 0.1047012  &  979.6539  & 1506.198   & 88.2747    & 99.2683    & ...        &        NA  &       NA   & NA         &        NA  & NA         & 63         &  95        & 0          & 0          & 21.0      \\\\\n",
       "\t8 & 2018-02-01 & 2018       & 2          & NATIONAL   & 38.42603   & 0.1122622  &  928.1955  & 1452.975   & 89.7091    & 99.1820    & ...        &   2157384  &        0   &  0         &   2808.57  & NA         & 63         &  95        & 0          & 0          & 26.0      \\\\\n",
       "\t9 & 2018-03-01 & 2018       & 3          & NATIONAL   & 38.44085   & 0.1122354  &  989.4197  & 1560.674   & 89.6840    & 99.1759    & ...        & 221973072  & 33529623   &  0         & 747358.36  & NA         & 63         &  95        & 0          & 0          & 31.0      \\\\\n",
       "\t16 & 2018-04-01 & 2018       & 4          & NATIONAL   & 38.03426   & 0.1035930  & 1005.5566  & 1595.052   & 90.0458    & 99.2522    & ...        & 216255933  &  9868470   &  0         & 853006.24  & NA         & 68         & 107        & 0          & 0          & 32.5      \\\\\n",
       "\t18 & 2018-05-01 & 2018       & 5          & NATIONAL   & 39.44110   & 0.1345373  & 1031.5425  & 1605.810   & 89.5371    & 99.2006    & ...        &  15879387  &  1402281   &  0         &  45376.06  & NA         & 68         & 107        & 0          & 0          & 37.5      \\\\\n",
       "\t22 & 2018-06-01 & 2018       & 6          & NATIONAL   & 39.05821   & 0.1124960  &  989.1157  & 1523.892   & 89.2956    & 99.0490    & ...        & 100096371  &  8423886   &  0         & 601876.52  & NA         & 68         & 107        & 0          & 0          & 40.5      \\\\\n",
       "\\end{tabular}\n"
      ],
      "text/markdown": [
       "\n",
       "| <!--/--> | MONTH_YEAR | Year | Month | CHANNEL | Avg_selling_price | Discount_percent | B1_NIELSEN_ABS_TDP_ND | B1_NIELSEN_ABS_TDP_WD | B1_NIELSEN_ND | B1_NIELSEN_WD | ... | dig_Impressions | dig_Engagement | dig_Clicks | dig_Spends | ooh_Spends | Oil_Prices | CCI | total_confirmed_cases | stringency_index | Temp |\n",
       "|---|---|---|---|---|---|---|---|---|---|---|---|---|---|---|---|---|---|---|---|---|---|\n",
       "| 3 | 2018-01-01 | 2018       | 1          | NATIONAL   | 38.86158   | 0.1047012  |  979.6539  | 1506.198   | 88.2747    | 99.2683    | ...        |        NA  |       NA   | NA         |        NA  | NA         | 63         |  95        | 0          | 0          | 21.0       |\n",
       "| 8 | 2018-02-01 | 2018       | 2          | NATIONAL   | 38.42603   | 0.1122622  |  928.1955  | 1452.975   | 89.7091    | 99.1820    | ...        |   2157384  |        0   |  0         |   2808.57  | NA         | 63         |  95        | 0          | 0          | 26.0       |\n",
       "| 9 | 2018-03-01 | 2018       | 3          | NATIONAL   | 38.44085   | 0.1122354  |  989.4197  | 1560.674   | 89.6840    | 99.1759    | ...        | 221973072  | 33529623   |  0         | 747358.36  | NA         | 63         |  95        | 0          | 0          | 31.0       |\n",
       "| 16 | 2018-04-01 | 2018       | 4          | NATIONAL   | 38.03426   | 0.1035930  | 1005.5566  | 1595.052   | 90.0458    | 99.2522    | ...        | 216255933  |  9868470   |  0         | 853006.24  | NA         | 68         | 107        | 0          | 0          | 32.5       |\n",
       "| 18 | 2018-05-01 | 2018       | 5          | NATIONAL   | 39.44110   | 0.1345373  | 1031.5425  | 1605.810   | 89.5371    | 99.2006    | ...        |  15879387  |  1402281   |  0         |  45376.06  | NA         | 68         | 107        | 0          | 0          | 37.5       |\n",
       "| 22 | 2018-06-01 | 2018       | 6          | NATIONAL   | 39.05821   | 0.1124960  |  989.1157  | 1523.892   | 89.2956    | 99.0490    | ...        | 100096371  |  8423886   |  0         | 601876.52  | NA         | 68         | 107        | 0          | 0          | 40.5       |\n",
       "\n"
      ],
      "text/plain": [
       "   MONTH_YEAR Year Month CHANNEL  Avg_selling_price Discount_percent\n",
       "3  2018-01-01 2018 1     NATIONAL 38.86158          0.1047012       \n",
       "8  2018-02-01 2018 2     NATIONAL 38.42603          0.1122622       \n",
       "9  2018-03-01 2018 3     NATIONAL 38.44085          0.1122354       \n",
       "16 2018-04-01 2018 4     NATIONAL 38.03426          0.1035930       \n",
       "18 2018-05-01 2018 5     NATIONAL 39.44110          0.1345373       \n",
       "22 2018-06-01 2018 6     NATIONAL 39.05821          0.1124960       \n",
       "   B1_NIELSEN_ABS_TDP_ND B1_NIELSEN_ABS_TDP_WD B1_NIELSEN_ND B1_NIELSEN_WD ...\n",
       "3   979.6539             1506.198              88.2747       99.2683       ...\n",
       "8   928.1955             1452.975              89.7091       99.1820       ...\n",
       "9   989.4197             1560.674              89.6840       99.1759       ...\n",
       "16 1005.5566             1595.052              90.0458       99.2522       ...\n",
       "18 1031.5425             1605.810              89.5371       99.2006       ...\n",
       "22  989.1157             1523.892              89.2956       99.0490       ...\n",
       "   dig_Impressions dig_Engagement dig_Clicks dig_Spends ooh_Spends Oil_Prices\n",
       "3         NA             NA       NA                NA  NA         63        \n",
       "8    2157384              0        0           2808.57  NA         63        \n",
       "9  221973072       33529623        0         747358.36  NA         63        \n",
       "16 216255933        9868470        0         853006.24  NA         68        \n",
       "18  15879387        1402281        0          45376.06  NA         68        \n",
       "22 100096371        8423886        0         601876.52  NA         68        \n",
       "   CCI total_confirmed_cases stringency_index Temp\n",
       "3   95 0                     0                21.0\n",
       "8   95 0                     0                26.0\n",
       "9   95 0                     0                31.0\n",
       "16 107 0                     0                32.5\n",
       "18 107 0                     0                37.5\n",
       "22 107 0                     0                40.5"
      ]
     },
     "metadata": {},
     "output_type": "display_data"
    }
   ],
   "source": [
    "national = subset(df4, df4$CHANNEL == \"NATIONAL\")\n",
    "\n",
    "head(national)"
   ]
  },
  {
   "cell_type": "code",
   "execution_count": null,
   "id": "a221049b",
   "metadata": {},
   "outputs": [],
   "source": []
  },
  {
   "cell_type": "code",
   "execution_count": 43,
   "id": "86bad193",
   "metadata": {},
   "outputs": [
    {
     "data": {
      "text/html": [
       "<table>\n",
       "<thead><tr><th></th><th scope=col>MONTH_YEAR</th><th scope=col>Year</th><th scope=col>Month</th><th scope=col>CHANNEL</th><th scope=col>Avg_selling_price</th><th scope=col>Discount_percent</th><th scope=col>B1_NIELSEN_ABS_TDP_ND</th><th scope=col>B1_NIELSEN_ABS_TDP_WD</th><th scope=col>B1_NIELSEN_ND</th><th scope=col>B1_NIELSEN_WD</th><th scope=col>...</th><th scope=col>dig_Impressions</th><th scope=col>dig_Engagement</th><th scope=col>dig_Clicks</th><th scope=col>dig_Spends</th><th scope=col>ooh_Spends</th><th scope=col>Oil_Prices</th><th scope=col>CCI</th><th scope=col>total_confirmed_cases</th><th scope=col>stringency_index</th><th scope=col>Temp</th></tr></thead>\n",
       "<tbody>\n",
       "\t<tr><th scope=row>2</th><td>2018-01-01       </td><td>2018             </td><td>1                </td><td>TRADITIONAL TRADE</td><td>39.29161         </td><td>0.07677612       </td><td>1709.001         </td><td>2433.886         </td><td>89.2726          </td><td>99.0985          </td><td>...              </td><td>       NA        </td><td>      NA         </td><td>NA               </td><td>       NA        </td><td>NA               </td><td>63               </td><td> 95              </td><td>0                </td><td>0                </td><td>21.0             </td></tr>\n",
       "\t<tr><th scope=row>5</th><td>2018-02-01       </td><td>2018             </td><td>2                </td><td>TRADITIONAL TRADE</td><td>39.17436         </td><td>0.07899075       </td><td>1594.189         </td><td>2260.825         </td><td>91.4898          </td><td>98.8824          </td><td>...              </td><td>  2157384        </td><td>       0         </td><td> 0               </td><td>  2808.57        </td><td>NA               </td><td>63               </td><td> 95              </td><td>0                </td><td>0                </td><td>26.0             </td></tr>\n",
       "\t<tr><th scope=row>12</th><td>2018-03-01       </td><td>2018             </td><td>3                </td><td>TRADITIONAL TRADE</td><td>39.11982         </td><td>0.06889961       </td><td>1686.212         </td><td>2427.196         </td><td>91.7270          </td><td>98.9813          </td><td>...              </td><td>221973072        </td><td>33529623         </td><td> 0               </td><td>747358.36        </td><td>NA               </td><td>63               </td><td> 95              </td><td>0                </td><td>0                </td><td>31.0             </td></tr>\n",
       "\t<tr><th scope=row>13</th><td>2018-04-01       </td><td>2018             </td><td>4                </td><td>TRADITIONAL TRADE</td><td>39.11844         </td><td>0.06503951       </td><td>1701.764         </td><td>2468.192         </td><td>91.7798          </td><td>98.9509          </td><td>...              </td><td>216255933        </td><td> 9868470         </td><td> 0               </td><td>853006.24        </td><td>NA               </td><td>68               </td><td>107              </td><td>0                </td><td>0                </td><td>32.5             </td></tr>\n",
       "\t<tr><th scope=row>17</th><td>2018-05-01       </td><td>2018             </td><td>5                </td><td>TRADITIONAL TRADE</td><td>40.20792         </td><td>0.09279205       </td><td>1747.459         </td><td>2488.052         </td><td>90.8495          </td><td>98.9439          </td><td>...              </td><td> 15879387        </td><td> 1402281         </td><td> 0               </td><td> 45376.06        </td><td>NA               </td><td>68               </td><td>107              </td><td>0                </td><td>0                </td><td>37.5             </td></tr>\n",
       "\t<tr><th scope=row>23</th><td>2018-06-01       </td><td>2018             </td><td>6                </td><td>TRADITIONAL TRADE</td><td>40.27856         </td><td>0.07456964       </td><td>1689.872         </td><td>2408.364         </td><td>89.9434          </td><td>98.2505          </td><td>...              </td><td>100096371        </td><td> 8423886         </td><td> 0               </td><td>601876.52        </td><td>NA               </td><td>68               </td><td>107              </td><td>0                </td><td>0                </td><td>40.5             </td></tr>\n",
       "</tbody>\n",
       "</table>\n"
      ],
      "text/latex": [
       "\\begin{tabular}{r|lllllllllllllllllllllllll}\n",
       "  & MONTH\\_YEAR & Year & Month & CHANNEL & Avg\\_selling\\_price & Discount\\_percent & B1\\_NIELSEN\\_ABS\\_TDP\\_ND & B1\\_NIELSEN\\_ABS\\_TDP\\_WD & B1\\_NIELSEN\\_ND & B1\\_NIELSEN\\_WD & ... & dig\\_Impressions & dig\\_Engagement & dig\\_Clicks & dig\\_Spends & ooh\\_Spends & Oil\\_Prices & CCI & total\\_confirmed\\_cases & stringency\\_index & Temp\\\\\n",
       "\\hline\n",
       "\t2 & 2018-01-01        & 2018              & 1                 & TRADITIONAL TRADE & 39.29161          & 0.07677612        & 1709.001          & 2433.886          & 89.2726           & 99.0985           & ...               &        NA         &       NA          & NA                &        NA         & NA                & 63                &  95               & 0                 & 0                 & 21.0             \\\\\n",
       "\t5 & 2018-02-01        & 2018              & 2                 & TRADITIONAL TRADE & 39.17436          & 0.07899075        & 1594.189          & 2260.825          & 91.4898           & 98.8824           & ...               &   2157384         &        0          &  0                &   2808.57         & NA                & 63                &  95               & 0                 & 0                 & 26.0             \\\\\n",
       "\t12 & 2018-03-01        & 2018              & 3                 & TRADITIONAL TRADE & 39.11982          & 0.06889961        & 1686.212          & 2427.196          & 91.7270           & 98.9813           & ...               & 221973072         & 33529623          &  0                & 747358.36         & NA                & 63                &  95               & 0                 & 0                 & 31.0             \\\\\n",
       "\t13 & 2018-04-01        & 2018              & 4                 & TRADITIONAL TRADE & 39.11844          & 0.06503951        & 1701.764          & 2468.192          & 91.7798           & 98.9509           & ...               & 216255933         &  9868470          &  0                & 853006.24         & NA                & 68                & 107               & 0                 & 0                 & 32.5             \\\\\n",
       "\t17 & 2018-05-01        & 2018              & 5                 & TRADITIONAL TRADE & 40.20792          & 0.09279205        & 1747.459          & 2488.052          & 90.8495           & 98.9439           & ...               &  15879387         &  1402281          &  0                &  45376.06         & NA                & 68                & 107               & 0                 & 0                 & 37.5             \\\\\n",
       "\t23 & 2018-06-01        & 2018              & 6                 & TRADITIONAL TRADE & 40.27856          & 0.07456964        & 1689.872          & 2408.364          & 89.9434           & 98.2505           & ...               & 100096371         &  8423886          &  0                & 601876.52         & NA                & 68                & 107               & 0                 & 0                 & 40.5             \\\\\n",
       "\\end{tabular}\n"
      ],
      "text/markdown": [
       "\n",
       "| <!--/--> | MONTH_YEAR | Year | Month | CHANNEL | Avg_selling_price | Discount_percent | B1_NIELSEN_ABS_TDP_ND | B1_NIELSEN_ABS_TDP_WD | B1_NIELSEN_ND | B1_NIELSEN_WD | ... | dig_Impressions | dig_Engagement | dig_Clicks | dig_Spends | ooh_Spends | Oil_Prices | CCI | total_confirmed_cases | stringency_index | Temp |\n",
       "|---|---|---|---|---|---|---|---|---|---|---|---|---|---|---|---|---|---|---|---|---|---|\n",
       "| 2 | 2018-01-01        | 2018              | 1                 | TRADITIONAL TRADE | 39.29161          | 0.07677612        | 1709.001          | 2433.886          | 89.2726           | 99.0985           | ...               |        NA         |       NA          | NA                |        NA         | NA                | 63                |  95               | 0                 | 0                 | 21.0              |\n",
       "| 5 | 2018-02-01        | 2018              | 2                 | TRADITIONAL TRADE | 39.17436          | 0.07899075        | 1594.189          | 2260.825          | 91.4898           | 98.8824           | ...               |   2157384         |        0          |  0                |   2808.57         | NA                | 63                |  95               | 0                 | 0                 | 26.0              |\n",
       "| 12 | 2018-03-01        | 2018              | 3                 | TRADITIONAL TRADE | 39.11982          | 0.06889961        | 1686.212          | 2427.196          | 91.7270           | 98.9813           | ...               | 221973072         | 33529623          |  0                | 747358.36         | NA                | 63                |  95               | 0                 | 0                 | 31.0              |\n",
       "| 13 | 2018-04-01        | 2018              | 4                 | TRADITIONAL TRADE | 39.11844          | 0.06503951        | 1701.764          | 2468.192          | 91.7798           | 98.9509           | ...               | 216255933         |  9868470          |  0                | 853006.24         | NA                | 68                | 107               | 0                 | 0                 | 32.5              |\n",
       "| 17 | 2018-05-01        | 2018              | 5                 | TRADITIONAL TRADE | 40.20792          | 0.09279205        | 1747.459          | 2488.052          | 90.8495           | 98.9439           | ...               |  15879387         |  1402281          |  0                |  45376.06         | NA                | 68                | 107               | 0                 | 0                 | 37.5              |\n",
       "| 23 | 2018-06-01        | 2018              | 6                 | TRADITIONAL TRADE | 40.27856          | 0.07456964        | 1689.872          | 2408.364          | 89.9434           | 98.2505           | ...               | 100096371         |  8423886          |  0                | 601876.52         | NA                | 68                | 107               | 0                 | 0                 | 40.5              |\n",
       "\n"
      ],
      "text/plain": [
       "   MONTH_YEAR Year Month CHANNEL           Avg_selling_price Discount_percent\n",
       "2  2018-01-01 2018 1     TRADITIONAL TRADE 39.29161          0.07677612      \n",
       "5  2018-02-01 2018 2     TRADITIONAL TRADE 39.17436          0.07899075      \n",
       "12 2018-03-01 2018 3     TRADITIONAL TRADE 39.11982          0.06889961      \n",
       "13 2018-04-01 2018 4     TRADITIONAL TRADE 39.11844          0.06503951      \n",
       "17 2018-05-01 2018 5     TRADITIONAL TRADE 40.20792          0.09279205      \n",
       "23 2018-06-01 2018 6     TRADITIONAL TRADE 40.27856          0.07456964      \n",
       "   B1_NIELSEN_ABS_TDP_ND B1_NIELSEN_ABS_TDP_WD B1_NIELSEN_ND B1_NIELSEN_WD ...\n",
       "2  1709.001              2433.886              89.2726       99.0985       ...\n",
       "5  1594.189              2260.825              91.4898       98.8824       ...\n",
       "12 1686.212              2427.196              91.7270       98.9813       ...\n",
       "13 1701.764              2468.192              91.7798       98.9509       ...\n",
       "17 1747.459              2488.052              90.8495       98.9439       ...\n",
       "23 1689.872              2408.364              89.9434       98.2505       ...\n",
       "   dig_Impressions dig_Engagement dig_Clicks dig_Spends ooh_Spends Oil_Prices\n",
       "2         NA             NA       NA                NA  NA         63        \n",
       "5    2157384              0        0           2808.57  NA         63        \n",
       "12 221973072       33529623        0         747358.36  NA         63        \n",
       "13 216255933        9868470        0         853006.24  NA         68        \n",
       "17  15879387        1402281        0          45376.06  NA         68        \n",
       "23 100096371        8423886        0         601876.52  NA         68        \n",
       "   CCI total_confirmed_cases stringency_index Temp\n",
       "2   95 0                     0                21.0\n",
       "5   95 0                     0                26.0\n",
       "12  95 0                     0                31.0\n",
       "13 107 0                     0                32.5\n",
       "17 107 0                     0                37.5\n",
       "23 107 0                     0                40.5"
      ]
     },
     "metadata": {},
     "output_type": "display_data"
    }
   ],
   "source": [
    "traditional_trade = subset(df4, df4$CHANNEL == \"TRADITIONAL TRADE\")\n",
    "\n",
    "head(traditional_trade)"
   ]
  },
  {
   "cell_type": "code",
   "execution_count": null,
   "id": "7bbbd1d3",
   "metadata": {},
   "outputs": [],
   "source": []
  }
 ],
 "metadata": {
  "kernelspec": {
   "display_name": "R",
   "language": "R",
   "name": "ir"
  },
  "language_info": {
   "codemirror_mode": "r",
   "file_extension": ".r",
   "mimetype": "text/x-r-source",
   "name": "R",
   "pygments_lexer": "r",
   "version": "3.6.1"
  }
 },
 "nbformat": 4,
 "nbformat_minor": 5
}
